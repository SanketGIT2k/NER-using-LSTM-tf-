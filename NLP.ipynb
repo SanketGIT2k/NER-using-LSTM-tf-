{
  "nbformat": 4,
  "nbformat_minor": 0,
  "metadata": {
    "colab": {
      "name": "NLP",
      "provenance": [],
      "toc_visible": true
    },
    "kernelspec": {
      "name": "python3",
      "display_name": "Python 3"
    },
    "language_info": {
      "name": "python"
    }
  },
  "cells": [
    {
      "cell_type": "code",
      "metadata": {
        "colab": {
          "base_uri": "https://localhost:8080/",
          "height": 346
        },
        "id": "m6kbwpO3XBwP",
        "outputId": "f90584d7-261c-451c-9528-376062ee1f8f"
      },
      "source": [
        "# Mounting the drive which contains the data\n",
        "\n",
        "from google.colab import drive\n",
        "drive.mount('/content/gdrive')"
      ],
      "execution_count": 1,
      "outputs": [
        {
          "output_type": "error",
          "ename": "MessageError",
          "evalue": "ignored",
          "traceback": [
            "\u001b[0;31m---------------------------------------------------------------------------\u001b[0m",
            "\u001b[0;31mMessageError\u001b[0m                              Traceback (most recent call last)",
            "\u001b[0;32m<ipython-input-1-9a818ae1159c>\u001b[0m in \u001b[0;36m<module>\u001b[0;34m()\u001b[0m\n\u001b[1;32m      2\u001b[0m \u001b[0;34m\u001b[0m\u001b[0m\n\u001b[1;32m      3\u001b[0m \u001b[0;32mfrom\u001b[0m \u001b[0mgoogle\u001b[0m\u001b[0;34m.\u001b[0m\u001b[0mcolab\u001b[0m \u001b[0;32mimport\u001b[0m \u001b[0mdrive\u001b[0m\u001b[0;34m\u001b[0m\u001b[0;34m\u001b[0m\u001b[0m\n\u001b[0;32m----> 4\u001b[0;31m \u001b[0mdrive\u001b[0m\u001b[0;34m.\u001b[0m\u001b[0mmount\u001b[0m\u001b[0;34m(\u001b[0m\u001b[0;34m'/content/gdrive'\u001b[0m\u001b[0;34m)\u001b[0m\u001b[0;34m\u001b[0m\u001b[0;34m\u001b[0m\u001b[0m\n\u001b[0m",
            "\u001b[0;32m/usr/local/lib/python3.7/dist-packages/google/colab/drive.py\u001b[0m in \u001b[0;36mmount\u001b[0;34m(mountpoint, force_remount, timeout_ms, use_metadata_server)\u001b[0m\n\u001b[1;32m    111\u001b[0m       \u001b[0mtimeout_ms\u001b[0m\u001b[0;34m=\u001b[0m\u001b[0mtimeout_ms\u001b[0m\u001b[0;34m,\u001b[0m\u001b[0;34m\u001b[0m\u001b[0;34m\u001b[0m\u001b[0m\n\u001b[1;32m    112\u001b[0m       \u001b[0muse_metadata_server\u001b[0m\u001b[0;34m=\u001b[0m\u001b[0muse_metadata_server\u001b[0m\u001b[0;34m,\u001b[0m\u001b[0;34m\u001b[0m\u001b[0;34m\u001b[0m\u001b[0m\n\u001b[0;32m--> 113\u001b[0;31m       ephemeral=ephemeral)\n\u001b[0m\u001b[1;32m    114\u001b[0m \u001b[0;34m\u001b[0m\u001b[0m\n\u001b[1;32m    115\u001b[0m \u001b[0;34m\u001b[0m\u001b[0m\n",
            "\u001b[0;32m/usr/local/lib/python3.7/dist-packages/google/colab/drive.py\u001b[0m in \u001b[0;36m_mount\u001b[0;34m(mountpoint, force_remount, timeout_ms, use_metadata_server, ephemeral)\u001b[0m\n\u001b[1;32m    134\u001b[0m   \u001b[0;32mif\u001b[0m \u001b[0mephemeral\u001b[0m\u001b[0;34m:\u001b[0m\u001b[0;34m\u001b[0m\u001b[0;34m\u001b[0m\u001b[0m\n\u001b[1;32m    135\u001b[0m     _message.blocking_request(\n\u001b[0;32m--> 136\u001b[0;31m         'request_auth', request={'authType': 'dfs_ephemeral'}, timeout_sec=None)\n\u001b[0m\u001b[1;32m    137\u001b[0m \u001b[0;34m\u001b[0m\u001b[0m\n\u001b[1;32m    138\u001b[0m   \u001b[0mmountpoint\u001b[0m \u001b[0;34m=\u001b[0m \u001b[0m_os\u001b[0m\u001b[0;34m.\u001b[0m\u001b[0mpath\u001b[0m\u001b[0;34m.\u001b[0m\u001b[0mexpanduser\u001b[0m\u001b[0;34m(\u001b[0m\u001b[0mmountpoint\u001b[0m\u001b[0;34m)\u001b[0m\u001b[0;34m\u001b[0m\u001b[0;34m\u001b[0m\u001b[0m\n",
            "\u001b[0;32m/usr/local/lib/python3.7/dist-packages/google/colab/_message.py\u001b[0m in \u001b[0;36mblocking_request\u001b[0;34m(request_type, request, timeout_sec, parent)\u001b[0m\n\u001b[1;32m    173\u001b[0m   request_id = send_request(\n\u001b[1;32m    174\u001b[0m       request_type, request, parent=parent, expect_reply=True)\n\u001b[0;32m--> 175\u001b[0;31m   \u001b[0;32mreturn\u001b[0m \u001b[0mread_reply_from_input\u001b[0m\u001b[0;34m(\u001b[0m\u001b[0mrequest_id\u001b[0m\u001b[0;34m,\u001b[0m \u001b[0mtimeout_sec\u001b[0m\u001b[0;34m)\u001b[0m\u001b[0;34m\u001b[0m\u001b[0;34m\u001b[0m\u001b[0m\n\u001b[0m",
            "\u001b[0;32m/usr/local/lib/python3.7/dist-packages/google/colab/_message.py\u001b[0m in \u001b[0;36mread_reply_from_input\u001b[0;34m(message_id, timeout_sec)\u001b[0m\n\u001b[1;32m    104\u001b[0m         reply.get('colab_msg_id') == message_id):\n\u001b[1;32m    105\u001b[0m       \u001b[0;32mif\u001b[0m \u001b[0;34m'error'\u001b[0m \u001b[0;32min\u001b[0m \u001b[0mreply\u001b[0m\u001b[0;34m:\u001b[0m\u001b[0;34m\u001b[0m\u001b[0;34m\u001b[0m\u001b[0m\n\u001b[0;32m--> 106\u001b[0;31m         \u001b[0;32mraise\u001b[0m \u001b[0mMessageError\u001b[0m\u001b[0;34m(\u001b[0m\u001b[0mreply\u001b[0m\u001b[0;34m[\u001b[0m\u001b[0;34m'error'\u001b[0m\u001b[0;34m]\u001b[0m\u001b[0;34m)\u001b[0m\u001b[0;34m\u001b[0m\u001b[0;34m\u001b[0m\u001b[0m\n\u001b[0m\u001b[1;32m    107\u001b[0m       \u001b[0;32mreturn\u001b[0m \u001b[0mreply\u001b[0m\u001b[0;34m.\u001b[0m\u001b[0mget\u001b[0m\u001b[0;34m(\u001b[0m\u001b[0;34m'data'\u001b[0m\u001b[0;34m,\u001b[0m \u001b[0;32mNone\u001b[0m\u001b[0;34m)\u001b[0m\u001b[0;34m\u001b[0m\u001b[0;34m\u001b[0m\u001b[0m\n\u001b[1;32m    108\u001b[0m \u001b[0;34m\u001b[0m\u001b[0m\n",
            "\u001b[0;31mMessageError\u001b[0m: Error: credential propagation was unsuccessful"
          ]
        }
      ]
    },
    {
      "cell_type": "code",
      "metadata": {
        "id": "FOv3KYU8yHpB"
      },
      "source": [
        "import os\n",
        "import zipfile\n",
        "\n",
        "wordfreq = []\n",
        "wordstring =\"\"\n",
        "i=0\n",
        "\n",
        "#Opening the zipped folderr, accessing all the files in the folder and getting all the lines in wordstring\n",
        "\n",
        "\n",
        "with zipfile.ZipFile('/content/gdrive/MyDrive/NLP Data/andhra.zip') as z:\n",
        "  #for i in range (0,8):\n",
        "  for filename in z.namelist():\n",
        "        if not os.path.isdir(filename):\n",
        "          # read the file\n",
        "            with z.open(filename) as f:\n",
        "                for line in f:\n",
        "                    wordstring += str(line)"
      ],
      "execution_count": null,
      "outputs": []
    },
    {
      "cell_type": "code",
      "metadata": {
        "colab": {
          "base_uri": "https://localhost:8080/",
          "height": 120
        },
        "id": "Mua7kcHu8dRn",
        "outputId": "b07bf111-8e06-4aff-e915-a85b0ba3b4c3"
      },
      "source": [
        "wordstring[:1000]"
      ],
      "execution_count": null,
      "outputs": [
        {
          "output_type": "execute_result",
          "data": {
            "application/vnd.google.colaboratory.intrinsic+json": {
              "type": "string"
            },
            "text/plain": [
              "'b\\'\\\\r\\\\n\\'b\\'Andhra High Court\\\\r\\\\n\\'b\\'G. Chinna Konda Reddy And Anr. vs East Asiatic Company (India) Ltd. on 5 August, 1954Equivalent citations: AIR 1955 AP 79\\\\r\\\\n\\'b\\'Bench: S Rao\\\\r\\\\n\\'b\\'JUDGMENT\\\\r\\\\n\\'b\\'\\\\r\\\\n\\'b\\' \\\\r\\\\n\\'b\\'\\\\r\\\\n\\'b\" (1) The question in this Second Appeal is whether the contract dated 14.5.1945 and 18.5.1945 for the sale of groundnut kernel are hit at by the provisions of  the Oil-sees Forward Contracts Prohibition Order 1943.  The facts either admitted or found may be briefly narrated. The defenants are a firm of  merchants doing business to groundnut at Nandyal under the name and style of  Messrs. G. Chinna  Konda Reddy & G. P. Venkata  Reddi. The plaintiff is the East Asiatic Company (India) Limited. Madras. The defendant\\'s entered into two contracts with the plaintiff on 14.5.1945 and on 18.5.1945 for the sale of groundjut kernel.  The first contract was for the sale of 318 bags of groundnut kernel. The second contract also was for the sale of 318 bags of groundnut kernel. By the '"
            ]
          },
          "metadata": {},
          "execution_count": 17
        }
      ]
    },
    {
      "cell_type": "code",
      "metadata": {
        "id": "WTmwCxp-0mQ1"
      },
      "source": [
        "wordstring2 = wordstring\n",
        "wordstring3 = wordstring\n"
      ],
      "execution_count": null,
      "outputs": []
    },
    {
      "cell_type": "code",
      "metadata": {
        "colab": {
          "base_uri": "https://localhost:8080/",
          "height": 178
        },
        "id": "feFDaTp_XLFs",
        "outputId": "5c56058b-4be0-4485-f875-59e5f01f8c5c"
      },
      "source": [
        "type(\"wordstring3\".encode(\"utf-8\"))\n",
        "wordstring3.decode('utf8')"
      ],
      "execution_count": null,
      "outputs": [
        {
          "output_type": "error",
          "ename": "AttributeError",
          "evalue": "ignored",
          "traceback": [
            "\u001b[0;31m---------------------------------------------------------------------------\u001b[0m",
            "\u001b[0;31mAttributeError\u001b[0m                            Traceback (most recent call last)",
            "\u001b[0;32m<ipython-input-25-5434ce347e6a>\u001b[0m in \u001b[0;36m<module>\u001b[0;34m()\u001b[0m\n\u001b[1;32m      1\u001b[0m \u001b[0mtype\u001b[0m\u001b[0;34m(\u001b[0m\u001b[0;34m\"wordstring3\"\u001b[0m\u001b[0;34m.\u001b[0m\u001b[0mencode\u001b[0m\u001b[0;34m(\u001b[0m\u001b[0;34m\"utf-8\"\u001b[0m\u001b[0;34m)\u001b[0m\u001b[0;34m)\u001b[0m\u001b[0;34m\u001b[0m\u001b[0;34m\u001b[0m\u001b[0m\n\u001b[0;32m----> 2\u001b[0;31m \u001b[0mwordstring3\u001b[0m\u001b[0;34m.\u001b[0m\u001b[0mdecode\u001b[0m\u001b[0;34m(\u001b[0m\u001b[0;34m'utf8'\u001b[0m\u001b[0;34m)\u001b[0m\u001b[0;34m\u001b[0m\u001b[0;34m\u001b[0m\u001b[0m\n\u001b[0m",
            "\u001b[0;31mAttributeError\u001b[0m: 'str' object has no attribute 'decode'"
          ]
        }
      ]
    },
    {
      "cell_type": "code",
      "metadata": {
        "colab": {
          "base_uri": "https://localhost:8080/"
        },
        "id": "Vmn5-au2p13k",
        "outputId": "c3c4a4c4-cafc-4b1c-cbae-921827866fc8"
      },
      "source": [
        "#Splititng into word array\n",
        "wordlist = wordstring.split()\n",
        "print (wordlist)"
      ],
      "execution_count": null,
      "outputs": [
        {
          "output_type": "stream",
          "name": "stdout",
          "text": [
            "[\"b'\\\\n'b'Bangalore\", 'District', \"Court\\\\n'b'T.S.Mohana\", 'vs', 'Sridhar.M', 'on', '27', 'December,', '2018', 'IN', 'THE', 'COURT', 'OF', 'THE', 'XX', 'ADDL.CHIEF', \"METROPOLITAN\\\\n'b'\", 'MAGISTRATE', 'AT', 'BENGALURU', \"CITY\\\\n'b'\\\\n'b'\", 'Dated', 'this', 'the', '27th', 'day', 'of', 'December', \"2018\\\\n'b'\\\\n'b'\", 'PRESENT:', \"KALPANA.M.S.,\\\\n'b'\", 'B.Sc.,', \"LL.M.,\\\\n'b'\", 'XX', 'ADDL.', \"C.M.M.\\\\n'b'\", \"Bengaluru.\\\\n'b'\\\\n'b'\", \"C.C.No.23993/2018\\\\n'b'\\\\n'b'Complainant\", ':', \"T.S.Mohana,\\\\n'b'\", \"S/o.T.S.Shivanna,\\\\n'b'\", 'Aged', 'about', '38', \"years,\\\\n'b'\", 'R/at', 'No.479,', 'L.N.School', \"Road,\\\\n'b'\", \"Meenakshinagara,\\\\n'b'\", 'New', 'extension,', \"Kamakshipalya,\\\\n'b'\", 'Bengaluru', '-', '560', \"079.\\\\n'b'\\\\n'b'\", \"Vs.\\\\n'b'\\\\n'b'Accused\", ':', \"Sridhar.M,\\\\n'b'\", \"S/o.Maniraju,\\\\n'b'\", 'Aged', 'about', '40', \"years,\\\\n'b'\", 'Office', 'at.', 'TD', 'POWER', 'SYSTEMS', \"LTD,\\\\n'b'\", 'No.27,28,29,', 'KIADB', 'Industrial', \"Area,\\\\n'b'\", 'Dabaspete,', 'Nelamangala', \"Taluk,\\\\n'b'\", 'Bengaluru', '-', '562', \"111.\\\\n'b'\\\\n'b'\\\\n'b'Offence\", 'complied', 'of', ':', 'U/S.', '138', 'of', 'N.I.', \"Act.,\\\\n'b'\\\\n'b'\\\\n'b'Plea\", 'of', 'accused', ':', 'Pleaded', 'not', \"guilty\\\\n'b'\\\\n'b'\\\\n'b'Final\", 'Order', ':', 'Accused', 'is', \"Convicted\\\\n'b'\", '2', 'C.C.23993', \"/2018\\\\n'b'\\\\n'b'Date\", 'of', 'Order', ':', \"27.12.2018\\\\n'b'\\\\n'b'\\\\n'b'\\\\n'b'\", \"JUDGMENT\\\\n'b'\\\\n'b'\", 'The', 'complainant', 'has', 'filed', 'this', 'complaint', 'under', \"section\\\\n'b'\\\\n'b'200\", 'of', 'code', 'of', 'criminal', 'procedure', 'alleging', 'that', 'the', 'accused', \"has\\\\n'b'\\\\n'b'committed\", 'an', 'offence', 'punishable', 'under', 'section', '138', \"of\\\\n'b'\\\\n'b'Negotiable\", 'Instrument', 'Act', '(', 'in', 'short', 'referred', 'as', '\"N.I.', 'Act\").\\\\n\\'b\\'\\\\n\\'b\\'\\\\n\\'b\\'\\\\n\\'b\\'02.', 'The', 'sum', 'and', 'substance', 'of', 'the', 'complaint,', 'is', 'as', \"follows;\\\\n'b'\\\\n'b'\", 'The', 'complainant', 'and', 'accused', 'are', 'known', 'to', 'each', 'other', \"from\\\\n'b'\\\\n'b'past\", 'five', 'years.', 'In', 'the', 'year', '2015,', 'the', 'accused', 'has', 'obtained', \"loan\\\\n'b'\\\\n'b'of\", 'Rs.7,00,000/-', 'from', 'the', 'complainant', 'for', 'his', \"financial\\\\n'b'\\\\n'b'commitments\", 'and', 'agreed', 'to', 'repay', 'the', 'same', 'on', 'or', 'before', \"March\\\\n'b'\\\\n'b'2016.\", 'Complainant', 'agreed', 'to', 'receive', 'the', 'said', 'amount', \"on\\\\n'b'\\\\n'b'monthly\", 'installments', 'of', 'Rs.12,000/-.', 'Accused', 'paid', 'the', \"amount\\\\n'b'\\\\n'b'of\", 'Rs.12,000/-', 'since', 'from', 'March', '2016', 'to', 'February', '2016', \"and\\\\n'b'\\\\n'b'stopped\", 'paying', 'the', 'said', 'amount', 'from', 'the', 'month', 'of', 'March', \"2018.\\\\n'b'\\\\n'b'Complainant\", 'demanded', 'the', 'accused', 'for', 'legally', 'recoverable', \"debt\\\\n'b'\\\\n'b'due\", 'by', 'him.', 'Towards', 'discharge', 'of', 'his', 'liability,', 'accused', \"has\\\\n'b'\\\\n'b'issued\", 'a', 'Cheque', 'bearing', 'No.000089', 'dated', '10.04.2018', \"for\\\\n'b'\", '3', 'C.C.23993', \"/2018\\\\n'b'\\\\n'b'Rs.4,80,000/-,\", 'which', 'came', 'to', 'be', 'dishonoured', 'on', \"presentation\\\\n'b'\\\\n'b'with\", 'an', 'endorsement', '\"Funds', 'Insufficient\".', \"Thereafter,\\\\n'b'\\\\n'b'complainant\", 'got', 'issued', 'legal', 'notice', 'to', 'accused', 'on', \"05.07.2018,\\\\n'b'\\\\n'b'which\", 'was', 'duly', 'served', 'on', 'accused', 'on', '09.07.2018.', \"Accused\\\\n'b'\\\\n'b'neither\", 'replied', 'the', 'notice', 'nor', 'paid', 'the', 'cheque', 'amount.', \"Hence\\\\n'b'\\\\n'b'this\", \"complaint.\\\\n'b'\\\\n'b'\\\\n'b'03.\", 'On', 'filing', 'of', 'complaint,', 'this', 'court', 'has', 'taken', 'cognizance', \"for\\\\n'b'\\\\n'b'the\", 'offence', 'punishable', 'under', 'section', '138', 'of', \"Negotiable\\\\n'b'\\\\n'b'Instrument\", 'Act,', 'sworn', 'statement', 'of', 'complainant', 'was', \"recorded.\\\\n'b'\\\\n'b'Being\", 'satisfied', 'that', 'there', 'are', 'prima-facie', 'materials', 'to', \"proceed\\\\n'b'\\\\n'b'against\", 'accused,', 'summons', 'was', 'issued.', 'After', \"appearance,\\\\n'b'\\\\n'b'accused\", 'enlarged', 'on', 'bail', 'and', 'plea', 'was', 'recorded', 'as', 'per', \"section\\\\n'b'\\\\n'b'251\", 'of', 'Cr.P.C.', 'Accused', 'has', 'not', 'stated', 'the', \"defence.\\\\n'b'\\\\n'b'\\\\n'b'\\\\n'b'04.\", 'When', 'the', 'case', 'was', 'set', 'down', 'for', 'trial,', 'both', 'the', \"parties\\\\n'b'\\\\n'b'and\", 'their', 'counsels', 'filed', 'Joint', 'memo', 'and', 'prays', 'for', \"judgment\\\\n'b'\\\\n'b'accordingly.\\\\n'b'\\\\n'b'\\\\n'b'05.\", 'Heard', 'and', 'perused', 'the', 'materials', 'on', \"record.\\\\n'b'\", '4', 'C.C.23993', \"/2018\\\\n'b'\\\\n'b'06.\", 'The', 'points', 'that', 'arise', 'for', 'my', 'consideration', 'are', 'as', \"follows;\\\\n'b'\\\\n'b'\", \"POINTS\\\\n'b'\\\\n'b'\", '1.', 'Whether', 'the', 'accused', 'is', 'liable', 'to', \"be\\\\n'b'\", 'convicted', 'in', 'terms', 'of', 'Joint', 'memo', \"dated\\\\n'b'\", '30.', \"11.2018?\\\\n'b'\\\\n'b'\", '2.', 'What', \"Order?\\\\n'b'\\\\n'b'\\\\n'b'07.\", 'Now', 'my', 'answer', 'to', 'the', 'above', 'points', 'is', 'as', \"follows;\\\\n'b'\\\\n'b'\", '1.', 'Point', 'No.1:', 'In', 'the', \"affirmative\\\\n'b'\\\\n'b'\", '2.', 'Point', 'No.2:', 'As', 'per', 'final', \"order\\\\n'b'\\\\n'b'\", 'for', 'the', \"following;\\\\n'b'\\\\n'b'\", \"REASONS\\\\n'b'\\\\n'b'08.\", 'POINT', 'No.1:', 'Complainant,', 'accused', 'and', \"respective\\\\n'b'\\\\n'b'counsels\", 'filed', 'Joint', 'memo', 'on', '30.11.2018.', 'The', 'contents', 'of', \"the\\\\n'b'\\\\n'b'same\", 'was', 'read', 'over', 'and', 'explained', 'to', 'the', 'parties.', 'Through', \"Joint\\\\n'b'\\\\n'b'memo,\", 'accused', 'has', 'admitted', 'his', 'liability.', 'Accused', 'has', \"agreed\\\\n'b'\\\\n'b'to\", 'pay', 'Rs.5,50,000/-', 'in', '45', 'monthly', 'installments', 'of', \"Rs.10,000/-\\\\n'b'\\\\n'b'on\", '10th', 'day', 'of', 'each', 'month', 'commencing', 'from', '10.12.2018', \"to\\\\n'b'\\\\n'b'10.08.2022.\\\\n'b'\\\\n'b'\", 'Accused', 'has', 'admitted', 'that,', 'in', 'case', 'of', 'default', 'of', \"payment\\\\n'b'\\\\n'b'within\", 'the', 'stipulated', 'period,', 'complainant', 'is', 'at', 'liberty', 'to', \"take\\\\n'b'\", '5', 'C.C.23993', \"/2018\\\\n'b'\\\\n'b'appropriate\", 'legal', 'action.', 'The', 'terms', 'and', 'conditions', 'mentioned', \"in\\\\n'b'\\\\n'b'memo\", 'is', 'part', 'and', 'parcel', 'of', 'this', \"order.\\\\n'b'\\\\n'b'\\\\n'b'09.\", 'As', 'per', 'the', 'aforesaid', 'memo,', 'accused', 'has', 'admitted', \"the\\\\n'b'\\\\n'b'liability\", 'imposed', 'on', 'him', 'as', 'contemplated', 'in', 'the', 'complaint.', \"The\\\\n'b'\\\\n'b'memo\", 'field', 'by', 'the', 'complainant', 'and', 'accused', 'is', 'sufficient', \"to\\\\n'b'\\\\n'b'answer\", 'point', 'No.1', 'in', 'the', \"affirmative.\\\\n'b'\\\\n'b'\\\\n'b'10.\", 'POINT', 'NO.2:', 'In', 'view', 'of', 'the', 'reasons', 'stated', \"and\\\\n'b'\\\\n'b'discussed\", 'on', 'point', 'No.1,', 'I', 'proceed', 'to', 'pass', 'the', \"following;\\\\n'b'\\\\n'b'\", \"ORDER\\\\n'b'\\\\n'b'\", 'Acting', 'under', 'section', '255', '(2)', \"of\\\\n'b'\\\\n'b'\", 'Criminal', 'Procedure', 'Code,', 'accused', \"is\\\\n'b'\\\\n'b'\", 'hereby', 'convicted', 'for', 'the', 'offence', \"punishable\\\\n'b'\\\\n'b'\", 'under', 'section', '138', 'of', 'Negotiable', \"Instrument\\\\n'b'\\\\n'b'\", 'Act', 'and', 'accused', 'is', 'sentenced', 'to', 'pay', 'a', \"fine\\\\n'b'\\\\n'b'\", 'of', 'Rs.5,50,000/-', '(Five', 'Lakh', \"Fifty\\\\n'b'\\\\n'b'\", 'Thousand', 'only)', 'as', 'settled', 'in', 'the', \"joint\\\\n'b'\\\\n'b'\", \"memo.\\\\n'b'\", '6', 'C.C.23993', \"/2018\\\\n'b'\\\\n'b'\", 'When', 'the', 'said', 'amount', 'is', 'deposited', \"as\\\\n'b'\", 'agreed', 'upon,', 'same', 'shall', 'be', 'paid', 'to', \"the\\\\n'b'\", 'complainant', 'as', \"compensation.\\\\n'b'\\\\n'b'\\\\n'b'\\\\n'b'\", 'Terms', 'and', 'conditions', 'of', 'the', \"joint\\\\n'b'\", 'memo', 'becomes', 'part', 'and', 'parcel', 'of', \"this\\\\n'b'\", \"order.\\\\n'b'\\\\n'b'\\\\n'b'\", 'In', 'default', 'of', 'payment', 'of', 'the', \"fine\\\\n'b'\", 'amount,', 'accused', 'shall', \"undergo\\\\n'b'\", 'imprisonment', 'for', '3', '(Three)', \"months.\\\\n'b'\\\\n'b'\\\\n'b'\\\\n'b'\", 'The', 'bail', 'bond', 'of', 'the', 'accused', \"stands\\\\n'b'\", \"cancelled.\\\\n'b'\\\\n'b'\\\\n'b'\", 'Office', 'to', 'supply', 'the', 'copy', 'of', \"this\\\\n'b'\", 'Judgment', 'to', 'the', 'accused', 'immediately', \"on\\\\n'b'\", 'free', 'of', \"cost.\\\\n'b'\", '{Dictated', 'to', 'the', 'stenographer', 'directly', 'on', 'computer,', 'corrected', \"and\\\\n'b'then\", 'signed', 'by', 'me', 'and', 'then', 'pronounced', 'in', 'the', 'open', 'court', 'on', 'this', \"27th\\\\n'b'day\", 'of', 'December', \"2018}.\\\\n'b'\\\\n'b'\\\\n'b'\", '(KALPANA', \"M.S.),\\\\n'b'\", 'XX', 'ACMM,', \"Bengaluru.\\\\n'b'\", '7', 'C.C.23993', \"/2018\\\\n'b'\\\\n'b'\", \"ANNEXURE\\\\n'b'\\\\n'b'List\", 'of', 'witnesses', 'examined', 'on', 'behalf', 'of', \"Complainant:\\\\n'b'\\\\n'b'\\\\n'b'P.W.1\", \"T.S.Mohana\\\\n'b'\\\\n'b'List\", 'of', 'documents', 'produced', 'on', 'behalf', 'of', \"complainant:\\\\n'b'\\\\n'b'\\\\n'b'Ex.P.1\", \"Cheque\\\\n'b'\\\\n'b'Ex.P.1(a)\", 'Signature', 'of', \"accused\\\\n'b'\\\\n'b'Ex.P.\", '2', 'Bank', \"endorsement\\\\n'b'\\\\n'b'Ex.P.\", '3', 'Copy', 'of', 'the', 'legal', \"notice\\\\n'b'\\\\n'b'Ex.P.\", '4', 'Postal', \"receipt\\\\n'b'\\\\n'b'Ex.P.5\", 'Postal', \"acknowledgement\\\\n'b'\\\\n'b'\\\\n'b'\\\\n'b'List\", 'of', 'witnesses', 'examined', 'on', 'behalf', 'of', \"accused:\\\\n'b'\\\\n'b'\", \"-Nil-\\\\n'b'\\\\n'b'List\", 'of', 'documents', 'produced', 'on', 'behalf', 'of', \"accused:\\\\n'b'\\\\n'b'\", \"-Nil-\\\\n'b'\\\\n'b'\\\\n'b'\", 'XX', \"A.C.M.M.,\\\\n'b'\", \"Bengaluru.\\\\n'b'\", '8', 'C.C.23993', \"/2018\\\\n'b'\\\\n'b'Dated\", \"27.12.2018\\\\n'b'\\\\n'b'\", '(Judgment', 'pronounced', 'in', 'the', 'open', 'court', 'vide', \"separate)\\\\n'b'\\\\n'b'\", \"ORDER\\\\n'b'\\\\n'b'\", 'Acting', 'under', 'section', '255', '(2)', \"of\\\\n'b'\", 'Criminal', 'Procedure', 'Code,', 'accused', \"is\\\\n'b'\", 'hereby', 'convicted', 'for', 'the', 'offence', \"punishable\\\\n'b'\", 'under', 'section', '138', 'of', 'Negotiable', \"Instrument\\\\n'b'\", 'Act', 'and', 'accused', 'is', 'sentenced', 'to', 'pay', 'a', \"fine\\\\n'b'\", 'of', 'Rs.5,50,000/-', '(Five', 'Lakh', \"Fifty\\\\n'b'\", 'Thousand', 'only)', 'as', 'settled', 'in', 'the', \"joint\\\\n'b'\", \"memo.\\\\n'b'\\\\n'b'\", 'When', 'the', 'said', 'amount', 'is', 'deposited', \"as\\\\n'b'\", 'agreed', 'upon,', 'same', 'shall', 'be', 'paid', 'to', \"the\\\\n'b'\", 'complainant', 'as', \"compensation.\\\\n'b'\\\\n'b'\\\\n'b'\", 'Terms', 'and', 'conditions', 'of', 'the', \"joint\\\\n'b'\", 'memo', 'becomes', 'part', 'and', 'parcel', 'of', \"this\\\\n'b'\", \"order.\\\\n'b'\\\\n'b'\\\\n'b'\", 'In', 'default', 'of', 'payment', 'of', 'the', \"fine\\\\n'b'\", 'amount,', 'accused', 'shall', \"undergo\\\\n'b'\", 'imprisonment', 'for', '3', '(Three)', \"months.\\\\n'b'\\\\n'b'\\\\n'b'\", 'The', 'bail', 'bond', 'of', 'the', 'accused', \"stands\\\\n'b'\", \"cancelled.\\\\n'b'\", '9', 'C.C.23993', \"/2018\\\\n'b'\\\\n'b'\\\\n'b'\\\\n'b'\", 'Office', 'to', 'supply', 'the', 'copy', 'of', \"this\\\\n'b'Judgment\", 'to', 'the', 'accused', 'immediately', \"on\\\\n'b'free\", 'of', \"cost.\\\\n'b'\\\\n'b'\\\\n'b'\", 'XX', \"A.C.M.M.,\\\\n'b'\", \"Bengaluru.\\\\n'b'\\\\n'b'\\\\n'b'Bangalore\", 'District', \"Court\\\\n'b'T.S.Mohana\", 'vs', 'Sridhar.M', 'on', '27', 'December,', '2018', 'IN', 'THE', 'COURT', 'OF', 'THE', 'XX', 'ADDL.CHIEF', \"METROPOLITAN\\\\n'b'\", 'MAGISTRATE', 'AT', 'BENGALURU', \"CITY\\\\n'b'\\\\n'b'\", 'Dated', 'this', 'the', '27th', 'day', 'of', 'December', \"2018\\\\n'b'\\\\n'b'\", 'PRESENT:', \"KALPANA.M.S.,\\\\n'b'\", 'B.Sc.,', \"LL.M.,\\\\n'b'\", 'XX', 'ADDL.', \"C.M.M.\\\\n'b'\", \"Bengaluru.\\\\n'b'\\\\n'b'\", \"C.C.No.23993/2018\\\\n'b'\\\\n'b'Complainant\", ':', \"T.S.Mohana,\\\\n'b'\", \"S/o.T.S.Shivanna,\\\\n'b'\", 'Aged', 'about', '38', \"years,\\\\n'b'\", 'R/at', 'No.479,', 'L.N.School', \"Road,\\\\n'b'\", \"Meenakshinagara,\\\\n'b'\", 'New', 'extension,', \"Kamakshipalya,\\\\n'b'\", 'Bengaluru', '-', '560', \"079.\\\\n'b'\\\\n'b'\", \"Vs.\\\\n'b'\\\\n'b'Accused\", ':', \"Sridhar.M,\\\\n'b'\", \"S/o.Maniraju,\\\\n'b'\", 'Aged', 'about', '40', \"years,\\\\n'b'\", 'Office', 'at.', 'TD', 'POWER', 'SYSTEMS', \"LTD,\\\\n'b'\", 'No.27,28,29,', 'KIADB', 'Industrial', \"Area,\\\\n'b'\", 'Dabaspete,', 'Nelamangala', \"Taluk,\\\\n'b'\", 'Bengaluru', '-', '562', \"111.\\\\n'b'\\\\n'b'\\\\n'b'Offence\", 'complied', 'of', ':', 'U/S.', '138', 'of', 'N.I.', \"Act.,\\\\n'b'\\\\n'b'\\\\n'b'Plea\", 'of', 'accused', ':', 'Pleaded', 'not', \"guilty\\\\n'b'\\\\n'b'\\\\n'b'Final\", 'Order', ':', 'Accused', 'is', \"Convicted\\\\n'b'\", '2', 'C.C.23993', \"/2018\\\\n'b'\\\\n'b'Date\", 'of', 'Order', ':', \"27.12.2018\\\\n'b'\\\\n'b'\\\\n'b'\\\\n'b'\", \"JUDGMENT\\\\n'b'\\\\n'b'\", 'The', 'complainant', 'has', 'filed', 'this', 'complaint', 'under', \"section\\\\n'b'\\\\n'b'200\", 'of', 'code', 'of', 'criminal', 'procedure', 'alleging', 'that', 'the', 'accused', \"has\\\\n'b'\\\\n'b'committed\", 'an', 'offence', 'punishable', 'under', 'section', '138', \"of\\\\n'b'\\\\n'b'Negotiable\", 'Instrument', 'Act', '(', 'in', 'short', 'referred', 'as', '\"N.I.', 'Act\").\\\\n\\'b\\'\\\\n\\'b\\'\\\\n\\'b\\'\\\\n\\'b\\'02.', 'The', 'sum', 'and', 'substance', 'of', 'the', 'complaint,', 'is', 'as', \"follows;\\\\n'b'\\\\n'b'\", 'The', 'complainant', 'and', 'accused', 'are', 'known', 'to', 'each', 'other', \"from\\\\n'b'\\\\n'b'past\", 'five', 'years.', 'In', 'the', 'year', '2015,', 'the', 'accused', 'has', 'obtained', \"loan\\\\n'b'\\\\n'b'of\", 'Rs.7,00,000/-', 'from', 'the', 'complainant', 'for', 'his', \"financial\\\\n'b'\\\\n'b'commitments\", 'and', 'agreed', 'to', 'repay', 'the', 'same', 'on', 'or', 'before', \"March\\\\n'b'\\\\n'b'2016.\", 'Complainant', 'agreed', 'to', 'receive', 'the', 'said', 'amount', \"on\\\\n'b'\\\\n'b'monthly\", 'installments', 'of', 'Rs.12,000/-.', 'Accused', 'paid', 'the', \"amount\\\\n'b'\\\\n'b'of\", 'Rs.12,000/-', 'since', 'from', 'March', '2016', 'to', 'February', '2016', \"and\\\\n'b'\\\\n'b'stopped\", 'paying', 'the', 'said', 'amount', 'from', 'the', 'month', 'of', 'March', \"2018.\\\\n'b'\\\\n'b'Complainant\", 'demanded', 'the', 'accused', 'for', 'legally', 'recoverable', \"debt\\\\n'b'\\\\n'b'due\", 'by', 'him.', 'Towards', 'discharge', 'of', 'his', 'liability,', 'accused', \"has\\\\n'b'\\\\n'b'issued\", 'a', 'Cheque', 'bearing', 'No.000089', 'dated', '10.04.2018', \"for\\\\n'b'\", '3', 'C.C.23993', \"/2018\\\\n'b'\\\\n'b'Rs.4,80,000/-,\", 'which', 'came', 'to', 'be', 'dishonoured', 'on', \"presentation\\\\n'b'\\\\n'b'with\", 'an', 'endorsement', '\"Funds', 'Insufficient\".', \"Thereafter,\\\\n'b'\\\\n'b'complainant\", 'got', 'issued', 'legal', 'notice', 'to', 'accused', 'on', \"05.07.2018,\\\\n'b'\\\\n'b'which\", 'was', 'duly', 'served', 'on', 'accused', 'on', '09.07.2018.', \"Accused\\\\n'b'\\\\n'b'neither\", 'replied', 'the', 'notice', 'nor', 'paid', 'the', 'cheque', 'amount.', \"Hence\\\\n'b'\\\\n'b'this\", \"complaint.\\\\n'b'\\\\n'b'\\\\n'b'03.\", 'On', 'filing', 'of', 'complaint,', 'this', 'court', 'has', 'taken', 'cognizance', \"for\\\\n'b'\\\\n'b'the\", 'offence', 'punishable', 'under', 'section', '138', 'of', \"Negotiable\\\\n'b'\\\\n'b'Instrument\", 'Act,', 'sworn', 'statement', 'of', 'complainant', 'was', \"recorded.\\\\n'b'\\\\n'b'Being\", 'satisfied', 'that', 'there', 'are', 'prima-facie', 'materials', 'to', \"proceed\\\\n'b'\\\\n'b'against\", 'accused,', 'summons', 'was', 'issued.', 'After', \"appearance,\\\\n'b'\\\\n'b'accused\", 'enlarged', 'on', 'bail', 'and', 'plea', 'was', 'recorded', 'as', 'per', \"section\\\\n'b'\\\\n'b'251\", 'of', 'Cr.P.C.', 'Accused', 'has', 'not', 'stated', 'the', \"defence.\\\\n'b'\\\\n'b'\\\\n'b'\\\\n'b'04.\", 'When', 'the', 'case', 'was', 'set', 'down', 'for', 'trial,', 'both', 'the', \"parties\\\\n'b'\\\\n'b'and\", 'their', 'counsels', 'filed', 'Joint', 'memo', 'and', 'prays', 'for', \"judgment\\\\n'b'\\\\n'b'accordingly.\\\\n'b'\\\\n'b'\\\\n'b'05.\", 'Heard', 'and', 'perused', 'the', 'materials', 'on', \"record.\\\\n'b'\", '4', 'C.C.23993', \"/2018\\\\n'b'\\\\n'b'06.\", 'The', 'points', 'that', 'arise', 'for', 'my', 'consideration', 'are', 'as', \"follows;\\\\n'b'\\\\n'b'\", \"POINTS\\\\n'b'\\\\n'b'\", '1.', 'Whether', 'the', 'accused', 'is', 'liable', 'to', \"be\\\\n'b'\", 'convicted', 'in', 'terms', 'of', 'Joint', 'memo', \"dated\\\\n'b'\", '30.', \"11.2018?\\\\n'b'\\\\n'b'\", '2.', 'What', \"Order?\\\\n'b'\\\\n'b'\\\\n'b'07.\", 'Now', 'my', 'answer', 'to', 'the', 'above', 'points', 'is', 'as', \"follows;\\\\n'b'\\\\n'b'\", '1.', 'Point', 'No.1:', 'In', 'the', \"affirmative\\\\n'b'\\\\n'b'\", '2.', 'Point', 'No.2:', 'As', 'per', 'final', \"order\\\\n'b'\\\\n'b'\", 'for', 'the', \"following;\\\\n'b'\\\\n'b'\", \"REASONS\\\\n'b'\\\\n'b'08.\", 'POINT', 'No.1:', 'Complainant,', 'accused', 'and', \"respective\\\\n'b'\\\\n'b'counsels\", 'filed', 'Joint', 'memo', 'on', '30.11.2018.', 'The', 'contents', 'of', \"the\\\\n'b'\\\\n'b'same\", 'was', 'read', 'over', 'and', 'explained', 'to', 'the', 'parties.', 'Through', \"Joint\\\\n'b'\\\\n'b'memo,\", 'accused', 'has', 'admitted', 'his', 'liability.', 'Accused', 'has', \"agreed\\\\n'b'\\\\n'b'to\", 'pay', 'Rs.5,50,000/-', 'in', '45', 'monthly', 'installments', 'of', \"Rs.10,000/-\\\\n'b'\\\\n'b'on\", '10th', 'day', 'of', 'each', 'month', 'commencing', 'from', '10.12.2018', \"to\\\\n'b'\\\\n'b'10.08.2022.\\\\n'b'\\\\n'b'\", 'Accused', 'has', 'admitted', 'that,', 'in', 'case', 'of', 'default', 'of', \"payment\\\\n'b'\\\\n'b'within\", 'the', 'stipulated', 'period,', 'complainant', 'is', 'at', 'liberty', 'to', \"take\\\\n'b'\", '5', 'C.C.23993', \"/2018\\\\n'b'\\\\n'b'appropriate\", 'legal', 'action.', 'The', 'terms', 'and', 'conditions', 'mentioned', \"in\\\\n'b'\\\\n'b'memo\", 'is', 'part', 'and', 'parcel', 'of', 'this', \"order.\\\\n'b'\\\\n'b'\\\\n'b'09.\", 'As', 'per', 'the', 'aforesaid', 'memo,', 'accused', 'has', 'admitted', \"the\\\\n'b'\\\\n'b'liability\", 'imposed', 'on', 'him', 'as', 'contemplated', 'in', 'the', 'complaint.', \"The\\\\n'b'\\\\n'b'memo\", 'field', 'by', 'the', 'complainant', 'and', 'accused', 'is', 'sufficient', \"to\\\\n'b'\\\\n'b'answer\", 'point', 'No.1', 'in', 'the', \"affirmative.\\\\n'b'\\\\n'b'\\\\n'b'10.\", 'POINT', 'NO.2:', 'In', 'view', 'of', 'the', 'reasons', 'stated', \"and\\\\n'b'\\\\n'b'discussed\", 'on', 'point', 'No.1,', 'I', 'proceed', 'to', 'pass', 'the', \"following;\\\\n'b'\\\\n'b'\", \"ORDER\\\\n'b'\\\\n'b'\", 'Acting', 'under', 'section', '255', '(2)', \"of\\\\n'b'\\\\n'b'\", 'Criminal', 'Procedure', 'Code,', 'accused', \"is\\\\n'b'\\\\n'b'\", 'hereby', 'convicted', 'for', 'the', 'offence', \"punishable\\\\n'b'\\\\n'b'\", 'under', 'section', '138', 'of', 'Negotiable', \"Instrument\\\\n'b'\\\\n'b'\", 'Act', 'and', 'accused', 'is', 'sentenced', 'to', 'pay', 'a', \"fine\\\\n'b'\\\\n'b'\", 'of', 'Rs.5,50,000/-', '(Five', 'Lakh', \"Fifty\\\\n'b'\\\\n'b'\", 'Thousand', 'only)', 'as', 'settled', 'in', 'the', \"joint\\\\n'b'\\\\n'b'\", \"memo.\\\\n'b'\", '6', 'C.C.23993', \"/2018\\\\n'b'\\\\n'b'\", 'When', 'the', 'said', 'amount', 'is', 'deposited', \"as\\\\n'b'\", 'agreed', 'upon,', 'same', 'shall', 'be', 'paid', 'to', \"the\\\\n'b'\", 'complainant', 'as', \"compensation.\\\\n'b'\\\\n'b'\\\\n'b'\\\\n'b'\", 'Terms', 'and', 'conditions', 'of', 'the', \"joint\\\\n'b'\", 'memo', 'becomes', 'part', 'and', 'parcel', 'of', \"this\\\\n'b'\", \"order.\\\\n'b'\\\\n'b'\\\\n'b'\", 'In', 'default', 'of', 'payment', 'of', 'the', \"fine\\\\n'b'\", 'amount,', 'accused', 'shall', \"undergo\\\\n'b'\", 'imprisonment', 'for', '3', '(Three)', \"months.\\\\n'b'\\\\n'b'\\\\n'b'\\\\n'b'\", 'The', 'bail', 'bond', 'of', 'the', 'accused', \"stands\\\\n'b'\", \"cancelled.\\\\n'b'\\\\n'b'\\\\n'b'\", 'Office', 'to', 'supply', 'the', 'copy', 'of', \"this\\\\n'b'\", 'Judgment', 'to', 'the', 'accused', 'immediately', \"on\\\\n'b'\", 'free', 'of', \"cost.\\\\n'b'\", '{Dictated', 'to', 'the', 'stenographer', 'directly', 'on', 'computer,', 'corrected', \"and\\\\n'b'then\", 'signed', 'by', 'me', 'and', 'then', 'pronounced', 'in', 'the', 'open', 'court', 'on', 'this', \"27th\\\\n'b'day\", 'of', 'December', \"2018}.\\\\n'b'\\\\n'b'\\\\n'b'\", '(KALPANA', \"M.S.),\\\\n'b'\", 'XX', 'ACMM,', \"Bengaluru.\\\\n'b'\", '7', 'C.C.23993', \"/2018\\\\n'b'\\\\n'b'\", \"ANNEXURE\\\\n'b'\\\\n'b'List\", 'of', 'witnesses', 'examined', 'on', 'behalf', 'of', \"Complainant:\\\\n'b'\\\\n'b'\\\\n'b'P.W.1\", \"T.S.Mohana\\\\n'b'\\\\n'b'List\", 'of', 'documents', 'produced', 'on', 'behalf', 'of', \"complainant:\\\\n'b'\\\\n'b'\\\\n'b'Ex.P.1\", \"Cheque\\\\n'b'\\\\n'b'Ex.P.1(a)\", 'Signature', 'of', \"accused\\\\n'b'\\\\n'b'Ex.P.\", '2', 'Bank', \"endorsement\\\\n'b'\\\\n'b'Ex.P.\", '3', 'Copy', 'of', 'the', 'legal', \"notice\\\\n'b'\\\\n'b'Ex.P.\", '4', 'Postal', \"receipt\\\\n'b'\\\\n'b'Ex.P.5\", 'Postal', \"acknowledgement\\\\n'b'\\\\n'b'\\\\n'b'\\\\n'b'List\", 'of', 'witnesses', 'examined', 'on', 'behalf', 'of', \"accused:\\\\n'b'\\\\n'b'\", \"-Nil-\\\\n'b'\\\\n'b'List\", 'of', 'documents', 'produced', 'on', 'behalf', 'of', \"accused:\\\\n'b'\\\\n'b'\", \"-Nil-\\\\n'b'\\\\n'b'\\\\n'b'\", 'XX', \"A.C.M.M.,\\\\n'b'\", \"Bengaluru.\\\\n'b'\", '8', 'C.C.23993', \"/2018\\\\n'b'\\\\n'b'Dated\", \"27.12.2018\\\\n'b'\\\\n'b'\", '(Judgment', 'pronounced', 'in', 'the', 'open', 'court', 'vide', \"separate)\\\\n'b'\\\\n'b'\", \"ORDER\\\\n'b'\\\\n'b'\", 'Acting', 'under', 'section', '255', '(2)', \"of\\\\n'b'\", 'Criminal', 'Procedure', 'Code,', 'accused', \"is\\\\n'b'\", 'hereby', 'convicted', 'for', 'the', 'offence', \"punishable\\\\n'b'\", 'under', 'section', '138', 'of', 'Negotiable', \"Instrument\\\\n'b'\", 'Act', 'and', 'accused', 'is', 'sentenced', 'to', 'pay', 'a', \"fine\\\\n'b'\", 'of', 'Rs.5,50,000/-', '(Five', 'Lakh', \"Fifty\\\\n'b'\", 'Thousand', 'only)', 'as', 'settled', 'in', 'the', \"joint\\\\n'b'\", \"memo.\\\\n'b'\\\\n'b'\", 'When', 'the', 'said', 'amount', 'is', 'deposited', \"as\\\\n'b'\", 'agreed', 'upon,', 'same', 'shall', 'be', 'paid', 'to', \"the\\\\n'b'\", 'complainant', 'as', \"compensation.\\\\n'b'\\\\n'b'\\\\n'b'\", 'Terms', 'and', 'conditions', 'of', 'the', \"joint\\\\n'b'\", 'memo', 'becomes', 'part', 'and', 'parcel', 'of', \"this\\\\n'b'\", \"order.\\\\n'b'\\\\n'b'\\\\n'b'\", 'In', 'default', 'of', 'payment', 'of', 'the', \"fine\\\\n'b'\", 'amount,', 'accused', 'shall', \"undergo\\\\n'b'\", 'imprisonment', 'for', '3', '(Three)', \"months.\\\\n'b'\\\\n'b'\\\\n'b'\", 'The', 'bail', 'bond', 'of', 'the', 'accused', \"stands\\\\n'b'\", \"cancelled.\\\\n'b'\", '9', 'C.C.23993', \"/2018\\\\n'b'\\\\n'b'\\\\n'b'\\\\n'b'\", 'Office', 'to', 'supply', 'the', 'copy', 'of', \"this\\\\n'b'Judgment\", 'to', 'the', 'accused', 'immediately', \"on\\\\n'b'free\", 'of', \"cost.\\\\n'b'\\\\n'b'\\\\n'b'\", 'XX', \"A.C.M.M.,\\\\n'b'\", \"Bengaluru.\\\\n'b'\\\\n'b'\\\\n'b'Bangalore\", 'District', \"Court\\\\n'b'T.S.Mohana\", 'vs', 'Sridhar.M', 'on', '27', 'December,', '2018', 'IN', 'THE', 'COURT', 'OF', 'THE', 'XX', 'ADDL.CHIEF', \"METROPOLITAN\\\\n'b'\", 'MAGISTRATE', 'AT', 'BENGALURU', \"CITY\\\\n'b'\\\\n'b'\", 'Dated', 'this', 'the', '27th', 'day', 'of', 'December', \"2018\\\\n'b'\\\\n'b'\", 'PRESENT:', \"KALPANA.M.S.,\\\\n'b'\", 'B.Sc.,', \"LL.M.,\\\\n'b'\", 'XX', 'ADDL.', \"C.M.M.\\\\n'b'\", \"Bengaluru.\\\\n'b'\\\\n'b'\", \"C.C.No.23993/2018\\\\n'b'\\\\n'b'Complainant\", ':', \"T.S.Mohana,\\\\n'b'\", \"S/o.T.S.Shivanna,\\\\n'b'\", 'Aged', 'about', '38', \"years,\\\\n'b'\", 'R/at', 'No.479,', 'L.N.School', \"Road,\\\\n'b'\", \"Meenakshinagara,\\\\n'b'\", 'New', 'extension,', \"Kamakshipalya,\\\\n'b'\", 'Bengaluru', '-', '560', \"079.\\\\n'b'\\\\n'b'\", \"Vs.\\\\n'b'\\\\n'b'Accused\", ':', \"Sridhar.M,\\\\n'b'\", \"S/o.Maniraju,\\\\n'b'\", 'Aged', 'about', '40', \"years,\\\\n'b'\", 'Office', 'at.', 'TD', 'POWER', 'SYSTEMS', \"LTD,\\\\n'b'\", 'No.27,28,29,', 'KIADB', 'Industrial', \"Area,\\\\n'b'\", 'Dabaspete,', 'Nelamangala', \"Taluk,\\\\n'b'\", 'Bengaluru', '-', '562', \"111.\\\\n'b'\\\\n'b'\\\\n'b'Offence\", 'complied', 'of', ':', 'U/S.', '138', 'of', 'N.I.', \"Act.,\\\\n'b'\\\\n'b'\\\\n'b'Plea\", 'of', 'accused', ':', 'Pleaded', 'not', \"guilty\\\\n'b'\\\\n'b'\\\\n'b'Final\", 'Order', ':', 'Accused', 'is', \"Convicted\\\\n'b'\", '2', 'C.C.23993', \"/2018\\\\n'b'\\\\n'b'Date\", 'of', 'Order', ':', \"27.12.2018\\\\n'b'\\\\n'b'\\\\n'b'\\\\n'b'\", \"JUDGMENT\\\\n'b'\\\\n'b'\", 'The', 'complainant', 'has', 'filed', 'this', 'complaint', 'under', \"section\\\\n'b'\\\\n'b'200\", 'of', 'code', 'of', 'criminal', 'procedure', 'alleging', 'that', 'the', 'accused', \"has\\\\n'b'\\\\n'b'committed\", 'an', 'offence', 'punishable', 'under', 'section', '138', \"of\\\\n'b'\\\\n'b'Negotiable\", 'Instrument', 'Act', '(', 'in', 'short', 'referred', 'as', '\"N.I.', 'Act\").\\\\n\\'b\\'\\\\n\\'b\\'\\\\n\\'b\\'\\\\n\\'b\\'02.', 'The', 'sum', 'and', 'substance', 'of', 'the', 'complaint,', 'is', 'as', \"follows;\\\\n'b'\\\\n'b'\", 'The', 'complainant', 'and', 'accused', 'are', 'known', 'to', 'each', 'other', \"from\\\\n'b'\\\\n'b'past\", 'five', 'years.', 'In', 'the', 'year', '2015,', 'the', 'accused', 'has', 'obtained', \"loan\\\\n'b'\\\\n'b'of\", 'Rs.7,00,000/-', 'from', 'the', 'complainant', 'for', 'his', \"financial\\\\n'b'\\\\n'b'commitments\", 'and', 'agreed', 'to', 'repay', 'the', 'same', 'on', 'or', 'before', \"March\\\\n'b'\\\\n'b'2016.\", 'Complainant', 'agreed', 'to', 'receive', 'the', 'said', 'amount', \"on\\\\n'b'\\\\n'b'monthly\", 'installments', 'of', 'Rs.12,000/-.', 'Accused', 'paid', 'the', \"amount\\\\n'b'\\\\n'b'of\", 'Rs.12,000/-', 'since', 'from', 'March', '2016', 'to', 'February', '2016', \"and\\\\n'b'\\\\n'b'stopped\", 'paying', 'the', 'said', 'amount', 'from', 'the', 'month', 'of', 'March', \"2018.\\\\n'b'\\\\n'b'Complainant\", 'demanded', 'the', 'accused', 'for', 'legally', 'recoverable', \"debt\\\\n'b'\\\\n'b'due\", 'by', 'him.', 'Towards', 'discharge', 'of', 'his', 'liability,', 'accused', \"has\\\\n'b'\\\\n'b'issued\", 'a', 'Cheque', 'bearing', 'No.000089', 'dated', '10.04.2018', \"for\\\\n'b'\", '3', 'C.C.23993', \"/2018\\\\n'b'\\\\n'b'Rs.4,80,000/-,\", 'which', 'came', 'to', 'be', 'dishonoured', 'on', \"presentation\\\\n'b'\\\\n'b'with\", 'an', 'endorsement', '\"Funds', 'Insufficient\".', \"Thereafter,\\\\n'b'\\\\n'b'complainant\", 'got', 'issued', 'legal', 'notice', 'to', 'accused', 'on', \"05.07.2018,\\\\n'b'\\\\n'b'which\", 'was', 'duly', 'served', 'on', 'accused', 'on', '09.07.2018.', \"Accused\\\\n'b'\\\\n'b'neither\", 'replied', 'the', 'notice', 'nor', 'paid', 'the', 'cheque', 'amount.', \"Hence\\\\n'b'\\\\n'b'this\", \"complaint.\\\\n'b'\\\\n'b'\\\\n'b'03.\", 'On', 'filing', 'of', 'complaint,', 'this', 'court', 'has', 'taken', 'cognizance', \"for\\\\n'b'\\\\n'b'the\", 'offence', 'punishable', 'under', 'section', '138', 'of', \"Negotiable\\\\n'b'\\\\n'b'Instrument\", 'Act,', 'sworn', 'statement', 'of', 'complainant', 'was', \"recorded.\\\\n'b'\\\\n'b'Being\", 'satisfied', 'that', 'there', 'are', 'prima-facie', 'materials', 'to', \"proceed\\\\n'b'\\\\n'b'against\", 'accused,', 'summons', 'was', 'issued.', 'After', \"appearance,\\\\n'b'\\\\n'b'accused\", 'enlarged', 'on', 'bail', 'and', 'plea', 'was', 'recorded', 'as', 'per', \"section\\\\n'b'\\\\n'b'251\", 'of', 'Cr.P.C.', 'Accused', 'has', 'not', 'stated', 'the', \"defence.\\\\n'b'\\\\n'b'\\\\n'b'\\\\n'b'04.\", 'When', 'the', 'case', 'was', 'set', 'down', 'for', 'trial,', 'both', 'the', \"parties\\\\n'b'\\\\n'b'and\", 'their', 'counsels', 'filed', 'Joint', 'memo', 'and', 'prays', 'for', \"judgment\\\\n'b'\\\\n'b'accordingly.\\\\n'b'\\\\n'b'\\\\n'b'05.\", 'Heard', 'and', 'perused', 'the', 'materials', 'on', \"record.\\\\n'b'\", '4', 'C.C.23993', \"/2018\\\\n'b'\\\\n'b'06.\", 'The', 'points', 'that', 'arise', 'for', 'my', 'consideration', 'are', 'as', \"follows;\\\\n'b'\\\\n'b'\", \"POINTS\\\\n'b'\\\\n'b'\", '1.', 'Whether', 'the', 'accused', 'is', 'liable', 'to', \"be\\\\n'b'\", 'convicted', 'in', 'terms', 'of', 'Joint', 'memo', \"dated\\\\n'b'\", '30.', \"11.2018?\\\\n'b'\\\\n'b'\", '2.', 'What', \"Order?\\\\n'b'\\\\n'b'\\\\n'b'07.\", 'Now', 'my', 'answer', 'to', 'the', 'above', 'points', 'is', 'as', \"follows;\\\\n'b'\\\\n'b'\", '1.', 'Point', 'No.1:', 'In', 'the', \"affirmative\\\\n'b'\\\\n'b'\", '2.', 'Point', 'No.2:', 'As', 'per', 'final', \"order\\\\n'b'\\\\n'b'\", 'for', 'the', \"following;\\\\n'b'\\\\n'b'\", \"REASONS\\\\n'b'\\\\n'b'08.\", 'POINT', 'No.1:', 'Complainant,', 'accused', 'and', \"respective\\\\n'b'\\\\n'b'counsels\", 'filed', 'Joint', 'memo', 'on', '30.11.2018.', 'The', 'contents', 'of', \"the\\\\n'b'\\\\n'b'same\", 'was', 'read', 'over', 'and', 'explained', 'to', 'the', 'parties.', 'Through', \"Joint\\\\n'b'\\\\n'b'memo,\", 'accused', 'has', 'admitted', 'his', 'liability.', 'Accused', 'has', \"agreed\\\\n'b'\\\\n'b'to\", 'pay', 'Rs.5,50,000/-', 'in', '45', 'monthly', 'installments', 'of', \"Rs.10,000/-\\\\n'b'\\\\n'b'on\", '10th', 'day', 'of', 'each', 'month', 'commencing', 'from', '10.12.2018', \"to\\\\n'b'\\\\n'b'10.08.2022.\\\\n'b'\\\\n'b'\", 'Accused', 'has', 'admitted', 'that,', 'in', 'case', 'of', 'default', 'of', \"payment\\\\n'b'\\\\n'b'within\", 'the', 'stipulated', 'period,', 'complainant', 'is', 'at', 'liberty', 'to', \"take\\\\n'b'\", '5', 'C.C.23993', \"/2018\\\\n'b'\\\\n'b'appropriate\", 'legal', 'action.', 'The', 'terms', 'and', 'conditions', 'mentioned', \"in\\\\n'b'\\\\n'b'memo\", 'is', 'part', 'and', 'parcel', 'of', 'this', \"order.\\\\n'b'\\\\n'b'\\\\n'b'09.\", 'As', 'per', 'the', 'aforesaid', 'memo,', 'accused', 'has', 'admitted', \"the\\\\n'b'\\\\n'b'liability\", 'imposed', 'on', 'him', 'as', 'contemplated', 'in', 'the', 'complaint.', \"The\\\\n'b'\\\\n'b'memo\", 'field', 'by', 'the', 'complainant', 'and', 'accused', 'is', 'sufficient', \"to\\\\n'b'\\\\n'b'answer\", 'point', 'No.1', 'in', 'the', \"affirmative.\\\\n'b'\\\\n'b'\\\\n'b'10.\", 'POINT', 'NO.2:', 'In', 'view', 'of', 'the', 'reasons', 'stated', \"and\\\\n'b'\\\\n'b'discussed\", 'on', 'point', 'No.1,', 'I', 'proceed', 'to', 'pass', 'the', \"following;\\\\n'b'\\\\n'b'\", \"ORDER\\\\n'b'\\\\n'b'\", 'Acting', 'under', 'section', '255', '(2)', \"of\\\\n'b'\\\\n'b'\", 'Criminal', 'Procedure', 'Code,', 'accused', \"is\\\\n'b'\\\\n'b'\", 'hereby', 'convicted', 'for', 'the', 'offence', \"punishable\\\\n'b'\\\\n'b'\", 'under', 'section', '138', 'of', 'Negotiable', \"Instrument\\\\n'b'\\\\n'b'\", 'Act', 'and', 'accused', 'is', 'sentenced', 'to', 'pay', 'a', \"fine\\\\n'b'\\\\n'b'\", 'of', 'Rs.5,50,000/-', '(Five', 'Lakh', \"Fifty\\\\n'b'\\\\n'b'\", 'Thousand', 'only)', 'as', 'settled', 'in', 'the', \"joint\\\\n'b'\\\\n'b'\", \"memo.\\\\n'b'\", '6', 'C.C.23993', \"/2018\\\\n'b'\\\\n'b'\", 'When', 'the', 'said', 'amount', 'is', 'deposited', \"as\\\\n'b'\", 'agreed', 'upon,', 'same', 'shall', 'be', 'paid', 'to', \"the\\\\n'b'\", 'complainant', 'as', \"compensation.\\\\n'b'\\\\n'b'\\\\n'b'\\\\n'b'\", 'Terms', 'and', 'conditions', 'of', 'the', \"joint\\\\n'b'\", 'memo', 'becomes', 'part', 'and', 'parcel', 'of', \"this\\\\n'b'\", \"order.\\\\n'b'\\\\n'b'\\\\n'b'\", 'In', 'default', 'of', 'payment', 'of', 'the', \"fine\\\\n'b'\", 'amount,', 'accused', 'shall', \"undergo\\\\n'b'\", 'imprisonment', 'for', '3', '(Three)', \"months.\\\\n'b'\\\\n'b'\\\\n'b'\\\\n'b'\", 'The', 'bail', 'bond', 'of', 'the', 'accused', \"stands\\\\n'b'\", \"cancelled.\\\\n'b'\\\\n'b'\\\\n'b'\", 'Office', 'to', 'supply', 'the', 'copy', 'of', \"this\\\\n'b'\", 'Judgment', 'to', 'the', 'accused', 'immediately', \"on\\\\n'b'\", 'free', 'of', \"cost.\\\\n'b'\", '{Dictated', 'to', 'the', 'stenographer', 'directly', 'on', 'computer,', 'corrected', \"and\\\\n'b'then\", 'signed', 'by', 'me', 'and', 'then', 'pronounced', 'in', 'the', 'open', 'court', 'on', 'this', \"27th\\\\n'b'day\", 'of', 'December', \"2018}.\\\\n'b'\\\\n'b'\\\\n'b'\", '(KALPANA', \"M.S.),\\\\n'b'\", 'XX', 'ACMM,', \"Bengaluru.\\\\n'b'\", '7', 'C.C.23993', \"/2018\\\\n'b'\\\\n'b'\", \"ANNEXURE\\\\n'b'\\\\n'b'List\", 'of', 'witnesses', 'examined', 'on', 'behalf', 'of', \"Complainant:\\\\n'b'\\\\n'b'\\\\n'b'P.W.1\", \"T.S.Mohana\\\\n'b'\\\\n'b'List\", 'of', 'documents', 'produced', 'on', 'behalf', 'of', \"complainant:\\\\n'b'\\\\n'b'\\\\n'b'Ex.P.1\", \"Cheque\\\\n'b'\\\\n'b'Ex.P.1(a)\", 'Signature', 'of', \"accused\\\\n'b'\\\\n'b'Ex.P.\", '2', 'Bank', \"endorsement\\\\n'b'\\\\n'b'Ex.P.\", '3', 'Copy', 'of', 'the', 'legal', \"notice\\\\n'b'\\\\n'b'Ex.P.\", '4', 'Postal', \"receipt\\\\n'b'\\\\n'b'Ex.P.5\", 'Postal', \"acknowledgement\\\\n'b'\\\\n'b'\\\\n'b'\\\\n'b'List\", 'of', 'witnesses', 'examined', 'on', 'behalf', 'of', \"accused:\\\\n'b'\\\\n'b'\", \"-Nil-\\\\n'b'\\\\n'b'List\", 'of', 'documents', 'produced', 'on', 'behalf', 'of', \"accused:\\\\n'b'\\\\n'b'\", \"-Nil-\\\\n'b'\\\\n'b'\\\\n'b'\", 'XX', \"A.C.M.M.,\\\\n'b'\", \"Bengaluru.\\\\n'b'\", '8', 'C.C.23993', \"/2018\\\\n'b'\\\\n'b'Dated\", \"27.12.2018\\\\n'b'\\\\n'b'\", '(Judgment', 'pronounced', 'in', 'the', 'open', 'court', 'vide', \"separate)\\\\n'b'\\\\n'b'\", \"ORDER\\\\n'b'\\\\n'b'\", 'Acting', 'under', 'section', '255', '(2)', \"of\\\\n'b'\", 'Criminal', 'Procedure', 'Code,', 'accused', \"is\\\\n'b'\", 'hereby', 'convicted', 'for', 'the', 'offence', \"punishable\\\\n'b'\", 'under', 'section', '138', 'of', 'Negotiable', \"Instrument\\\\n'b'\", 'Act', 'and', 'accused', 'is', 'sentenced', 'to', 'pay', 'a', \"fine\\\\n'b'\", 'of', 'Rs.5,50,000/-', '(Five', 'Lakh', \"Fifty\\\\n'b'\", 'Thousand', 'only)', 'as', 'settled', 'in', 'the', \"joint\\\\n'b'\", \"memo.\\\\n'b'\\\\n'b'\", 'When', 'the', 'said', 'amount', 'is', 'deposited', \"as\\\\n'b'\", 'agreed', 'upon,', 'same', 'shall', 'be', 'paid', 'to', \"the\\\\n'b'\", 'complainant', 'as', \"compensation.\\\\n'b'\\\\n'b'\\\\n'b'\", 'Terms', 'and', 'conditions', 'of', 'the', \"joint\\\\n'b'\", 'memo', 'becomes', 'part', 'and', 'parcel', 'of', \"this\\\\n'b'\", \"order.\\\\n'b'\\\\n'b'\\\\n'b'\", 'In', 'default', 'of', 'payment', 'of', 'the', \"fine\\\\n'b'\", 'amount,', 'accused', 'shall', \"undergo\\\\n'b'\", 'imprisonment', 'for', '3', '(Three)', \"months.\\\\n'b'\\\\n'b'\\\\n'b'\", 'The', 'bail', 'bond', 'of', 'the', 'accused', \"stands\\\\n'b'\", \"cancelled.\\\\n'b'\", '9', 'C.C.23993', \"/2018\\\\n'b'\\\\n'b'\\\\n'b'\\\\n'b'\", 'Office', 'to', 'supply', 'the', 'copy', 'of', \"this\\\\n'b'Judgment\", 'to', 'the', 'accused', 'immediately', \"on\\\\n'b'free\", 'of', \"cost.\\\\n'b'\\\\n'b'\\\\n'b'\", 'XX', \"A.C.M.M.,\\\\n'b'\", \"Bengaluru.\\\\n'b'\\\\n'b'\\\\n'b'Bangalore\", 'District', \"Court\\\\n'b'T.S.Mohana\", 'vs', 'Sridhar.M', 'on', '27', 'December,', '2018', 'IN', 'THE', 'COURT', 'OF', 'THE', 'XX', 'ADDL.CHIEF', \"METROPOLITAN\\\\n'b'\", 'MAGISTRATE', 'AT', 'BENGALURU', \"CITY\\\\n'b'\\\\n'b'\", 'Dated', 'this', 'the', '27th', 'day', 'of', 'December', \"2018\\\\n'b'\\\\n'b'\", 'PRESENT:', \"KALPANA.M.S.,\\\\n'b'\", 'B.Sc.,', \"LL.M.,\\\\n'b'\", 'XX', 'ADDL.', \"C.M.M.\\\\n'b'\", \"Bengaluru.\\\\n'b'\\\\n'b'\", \"C.C.No.23993/2018\\\\n'b'\\\\n'b'Complainant\", ':', \"T.S.Mohana,\\\\n'b'\", \"S/o.T.S.Shivanna,\\\\n'b'\", 'Aged', 'about', '38', \"years,\\\\n'b'\", 'R/at', 'No.479,', 'L.N.School', \"Road,\\\\n'b'\", \"Meenakshinagara,\\\\n'b'\", 'New', 'extension,', \"Kamakshipalya,\\\\n'b'\", 'Bengaluru', '-', '560', \"079.\\\\n'b'\\\\n'b'\", \"Vs.\\\\n'b'\\\\n'b'Accused\", ':', \"Sridhar.M,\\\\n'b'\", \"S/o.Maniraju,\\\\n'b'\", 'Aged', 'about', '40', \"years,\\\\n'b'\", 'Office', 'at.', 'TD', 'POWER', 'SYSTEMS', \"LTD,\\\\n'b'\", 'No.27,28,29,', 'KIADB', 'Industrial', \"Area,\\\\n'b'\", 'Dabaspete,', 'Nelamangala', \"Taluk,\\\\n'b'\", 'Bengaluru', '-', '562', \"111.\\\\n'b'\\\\n'b'\\\\n'b'Offence\", 'complied', 'of', ':', 'U/S.', '138', 'of', 'N.I.', \"Act.,\\\\n'b'\\\\n'b'\\\\n'b'Plea\", 'of', 'accused', ':', 'Pleaded', 'not', \"guilty\\\\n'b'\\\\n'b'\\\\n'b'Final\", 'Order', ':', 'Accused', 'is', \"Convicted\\\\n'b'\", '2', 'C.C.23993', \"/2018\\\\n'b'\\\\n'b'Date\", 'of', 'Order', ':', \"27.12.2018\\\\n'b'\\\\n'b'\\\\n'b'\\\\n'b'\", \"JUDGMENT\\\\n'b'\\\\n'b'\", 'The', 'complainant', 'has', 'filed', 'this', 'complaint', 'under', \"section\\\\n'b'\\\\n'b'200\", 'of', 'code', 'of', 'criminal', 'procedure', 'alleging', 'that', 'the', 'accused', \"has\\\\n'b'\\\\n'b'committed\", 'an', 'offence', 'punishable', 'under', 'section', '138', \"of\\\\n'b'\\\\n'b'Negotiable\", 'Instrument', 'Act', '(', 'in', 'short', 'referred', 'as', '\"N.I.', 'Act\").\\\\n\\'b\\'\\\\n\\'b\\'\\\\n\\'b\\'\\\\n\\'b\\'02.', 'The', 'sum', 'and', 'substance', 'of', 'the', 'complaint,', 'is', 'as', \"follows;\\\\n'b'\\\\n'b'\", 'The', 'complainant', 'and', 'accused', 'are', 'known', 'to', 'each', 'other', \"from\\\\n'b'\\\\n'b'past\", 'five', 'years.', 'In', 'the', 'year', '2015,', 'the', 'accused', 'has', 'obtained', \"loan\\\\n'b'\\\\n'b'of\", 'Rs.7,00,000/-', 'from', 'the', 'complainant', 'for', 'his', \"financial\\\\n'b'\\\\n'b'commitments\", 'and', 'agreed', 'to', 'repay', 'the', 'same', 'on', 'or', 'before', \"March\\\\n'b'\\\\n'b'2016.\", 'Complainant', 'agreed', 'to', 'receive', 'the', 'said', 'amount', \"on\\\\n'b'\\\\n'b'monthly\", 'installments', 'of', 'Rs.12,000/-.', 'Accused', 'paid', 'the', \"amount\\\\n'b'\\\\n'b'of\", 'Rs.12,000/-', 'since', 'from', 'March', '2016', 'to', 'February', '2016', \"and\\\\n'b'\\\\n'b'stopped\", 'paying', 'the', 'said', 'amount', 'from', 'the', 'month', 'of', 'March', \"2018.\\\\n'b'\\\\n'b'Complainant\", 'demanded', 'the', 'accused', 'for', 'legally', 'recoverable', \"debt\\\\n'b'\\\\n'b'due\", 'by', 'him.', 'Towards', 'discharge', 'of', 'his', 'liability,', 'accused', \"has\\\\n'b'\\\\n'b'issued\", 'a', 'Cheque', 'bearing', 'No.000089', 'dated', '10.04.2018', \"for\\\\n'b'\", '3', 'C.C.23993', \"/2018\\\\n'b'\\\\n'b'Rs.4,80,000/-,\", 'which', 'came', 'to', 'be', 'dishonoured', 'on', \"presentation\\\\n'b'\\\\n'b'with\", 'an', 'endorsement', '\"Funds', 'Insufficient\".', \"Thereafter,\\\\n'b'\\\\n'b'complainant\", 'got', 'issued', 'legal', 'notice', 'to', 'accused', 'on', \"05.07.2018,\\\\n'b'\\\\n'b'which\", 'was', 'duly', 'served', 'on', 'accused', 'on', '09.07.2018.', \"Accused\\\\n'b'\\\\n'b'neither\", 'replied', 'the', 'notice', 'nor', 'paid', 'the', 'cheque', 'amount.', \"Hence\\\\n'b'\\\\n'b'this\", \"complaint.\\\\n'b'\\\\n'b'\\\\n'b'03.\", 'On', 'filing', 'of', 'complaint,', 'this', 'court', 'has', 'taken', 'cognizance', \"for\\\\n'b'\\\\n'b'the\", 'offence', 'punishable', 'under', 'section', '138', 'of', \"Negotiable\\\\n'b'\\\\n'b'Instrument\", 'Act,', 'sworn', 'statement', 'of', 'complainant', 'was', \"recorded.\\\\n'b'\\\\n'b'Being\", 'satisfied', 'that', 'there', 'are', 'prima-facie', 'materials', 'to', \"proceed\\\\n'b'\\\\n'b'against\", 'accused,', 'summons', 'was', 'issued.', 'After', \"appearance,\\\\n'b'\\\\n'b'accused\", 'enlarged', 'on', 'bail', 'and', 'plea', 'was', 'recorded', 'as', 'per', \"section\\\\n'b'\\\\n'b'251\", 'of', 'Cr.P.C.', 'Accused', 'has', 'not', 'stated', 'the', \"defence.\\\\n'b'\\\\n'b'\\\\n'b'\\\\n'b'04.\", 'When', 'the', 'case', 'was', 'set', 'down', 'for', 'trial,', 'both', 'the', \"parties\\\\n'b'\\\\n'b'and\", 'their', 'counsels', 'filed', 'Joint', 'memo', 'and', 'prays', 'for', \"judgment\\\\n'b'\\\\n'b'accordingly.\\\\n'b'\\\\n'b'\\\\n'b'05.\", 'Heard', 'and', 'perused', 'the', 'materials', 'on', \"record.\\\\n'b'\", '4', 'C.C.23993', \"/2018\\\\n'b'\\\\n'b'06.\", 'The', 'points', 'that', 'arise', 'for', 'my', 'consideration', 'are', 'as', \"follows;\\\\n'b'\\\\n'b'\", \"POINTS\\\\n'b'\\\\n'b'\", '1.', 'Whether', 'the', 'accused', 'is', 'liable', 'to', \"be\\\\n'b'\", 'convicted', 'in', 'terms', 'of', 'Joint', 'memo', \"dated\\\\n'b'\", '30.', \"11.2018?\\\\n'b'\\\\n'b'\", '2.', 'What', \"Order?\\\\n'b'\\\\n'b'\\\\n'b'07.\", 'Now', 'my', 'answer', 'to', 'the', 'above', 'points', 'is', 'as', \"follows;\\\\n'b'\\\\n'b'\", '1.', 'Point', 'No.1:', 'In', 'the', \"affirmative\\\\n'b'\\\\n'b'\", '2.', 'Point', 'No.2:', 'As', 'per', 'final', \"order\\\\n'b'\\\\n'b'\", 'for', 'the', \"following;\\\\n'b'\\\\n'b'\", \"REASONS\\\\n'b'\\\\n'b'08.\", 'POINT', 'No.1:', 'Complainant,', 'accused', 'and', \"respective\\\\n'b'\\\\n'b'counsels\", 'filed', 'Joint', 'memo', 'on', '30.11.2018.', 'The', 'contents', 'of', \"the\\\\n'b'\\\\n'b'same\", 'was', 'read', 'over', 'and', 'explained', 'to', 'the', 'parties.', 'Through', \"Joint\\\\n'b'\\\\n'b'memo,\", 'accused', 'has', 'admitted', 'his', 'liability.', 'Accused', 'has', \"agreed\\\\n'b'\\\\n'b'to\", 'pay', 'Rs.5,50,000/-', 'in', '45', 'monthly', 'installments', 'of', \"Rs.10,000/-\\\\n'b'\\\\n'b'on\", '10th', 'day', 'of', 'each', 'month', 'commencing', 'from', '10.12.2018', \"to\\\\n'b'\\\\n'b'10.08.2022.\\\\n'b'\\\\n'b'\", 'Accused', 'has', 'admitted', 'that,', 'in', 'case', 'of', 'default', 'of', \"payment\\\\n'b'\\\\n'b'within\", 'the', 'stipulated', 'period,', 'complainant', 'is', 'at', 'liberty', 'to', \"take\\\\n'b'\", '5', 'C.C.23993', \"/2018\\\\n'b'\\\\n'b'appropriate\", 'legal', 'action.', 'The', 'terms', 'and', 'conditions', 'mentioned', \"in\\\\n'b'\\\\n'b'memo\", 'is', 'part', 'and', 'parcel', 'of', 'this', \"order.\\\\n'b'\\\\n'b'\\\\n'b'09.\", 'As', 'per', 'the', 'aforesaid', 'memo,', 'accused', 'has', 'admitted', \"the\\\\n'b'\\\\n'b'liability\", 'imposed', 'on', 'him', 'as', 'contemplated', 'in', 'the', 'complaint.', \"The\\\\n'b'\\\\n'b'memo\", 'field', 'by', 'the', 'complainant', 'and', 'accused', 'is', 'sufficient', \"to\\\\n'b'\\\\n'b'answer\", 'point', 'No.1', 'in', 'the', \"affirmative.\\\\n'b'\\\\n'b'\\\\n'b'10.\", 'POINT', 'NO.2:', 'In', 'view', 'of', 'the', 'reasons', 'stated', \"and\\\\n'b'\\\\n'b'discussed\", 'on', 'point', 'No.1,', 'I', 'proceed', 'to', 'pass', 'the', \"following;\\\\n'b'\\\\n'b'\", \"ORDER\\\\n'b'\\\\n'b'\", 'Acting', 'under', 'section', '255', '(2)', \"of\\\\n'b'\\\\n'b'\", 'Criminal', 'Procedure', 'Code,', 'accused', \"is\\\\n'b'\\\\n'b'\", 'hereby', 'convicted', 'for', 'the', 'offence', \"punishable\\\\n'b'\\\\n'b'\", 'under', 'section', '138', 'of', 'Negotiable', \"Instrument\\\\n'b'\\\\n'b'\", 'Act', 'and', 'accused', 'is', 'sentenced', 'to', 'pay', 'a', \"fine\\\\n'b'\\\\n'b'\", 'of', 'Rs.5,50,000/-', '(Five', 'Lakh', \"Fifty\\\\n'b'\\\\n'b'\", 'Thousand', 'only)', 'as', 'settled', 'in', 'the', \"joint\\\\n'b'\\\\n'b'\", \"memo.\\\\n'b'\", '6', 'C.C.23993', \"/2018\\\\n'b'\\\\n'b'\", 'When', 'the', 'said', 'amount', 'is', 'deposited', \"as\\\\n'b'\", 'agreed', 'upon,', 'same', 'shall', 'be', 'paid', 'to', \"the\\\\n'b'\", 'complainant', 'as', \"compensation.\\\\n'b'\\\\n'b'\\\\n'b'\\\\n'b'\", 'Terms', 'and', 'conditions', 'of', 'the', \"joint\\\\n'b'\", 'memo', 'becomes', 'part', 'and', 'parcel', 'of', \"this\\\\n'b'\", \"order.\\\\n'b'\\\\n'b'\\\\n'b'\", 'In', 'default', 'of', 'payment', 'of', 'the', \"fine\\\\n'b'\", 'amount,', 'accused', 'shall', \"undergo\\\\n'b'\", 'imprisonment', 'for', '3', '(Three)', \"months.\\\\n'b'\\\\n'b'\\\\n'b'\\\\n'b'\", 'The', 'bail', 'bond', 'of', 'the', 'accused', \"stands\\\\n'b'\", \"cancelled.\\\\n'b'\\\\n'b'\\\\n'b'\", 'Office', 'to', 'supply', 'the', 'copy', 'of', \"this\\\\n'b'\", 'Judgment', 'to', 'the', 'accused', 'immediately', \"on\\\\n'b'\", 'free', 'of', \"cost.\\\\n'b'\", '{Dictated', 'to', 'the', 'stenographer', 'directly', 'on', 'computer,', 'corrected', \"and\\\\n'b'then\", 'signed', 'by', 'me', 'and', 'then', 'pronounced', 'in', 'the', 'open', 'court', 'on', 'this', \"27th\\\\n'b'day\", 'of', 'December', \"2018}.\\\\n'b'\\\\n'b'\\\\n'b'\", '(KALPANA', \"M.S.),\\\\n'b'\", 'XX', 'ACMM,', \"Bengaluru.\\\\n'b'\", '7', 'C.C.23993', \"/2018\\\\n'b'\\\\n'b'\", \"ANNEXURE\\\\n'b'\\\\n'b'List\", 'of', 'witnesses', 'examined', 'on', 'behalf', 'of', \"Complainant:\\\\n'b'\\\\n'b'\\\\n'b'P.W.1\", \"T.S.Mohana\\\\n'b'\\\\n'b'List\", 'of', 'documents', 'produced', 'on', 'behalf', 'of', \"complainant:\\\\n'b'\\\\n'b'\\\\n'b'Ex.P.1\", \"Cheque\\\\n'b'\\\\n'b'Ex.P.1(a)\", 'Signature', 'of', \"accused\\\\n'b'\\\\n'b'Ex.P.\", '2', 'Bank', \"endorsement\\\\n'b'\\\\n'b'Ex.P.\", '3', 'Copy', 'of', 'the', 'legal', \"notice\\\\n'b'\\\\n'b'Ex.P.\", '4', 'Postal', \"receipt\\\\n'b'\\\\n'b'Ex.P.5\", 'Postal', \"acknowledgement\\\\n'b'\\\\n'b'\\\\n'b'\\\\n'b'List\", 'of', 'witnesses', 'examined', 'on', 'behalf', 'of', \"accused:\\\\n'b'\\\\n'b'\", \"-Nil-\\\\n'b'\\\\n'b'List\", 'of', 'documents', 'produced', 'on', 'behalf', 'of', \"accused:\\\\n'b'\\\\n'b'\", \"-Nil-\\\\n'b'\\\\n'b'\\\\n'b'\", 'XX', \"A.C.M.M.,\\\\n'b'\", \"Bengaluru.\\\\n'b'\", '8', 'C.C.23993', \"/2018\\\\n'b'\\\\n'b'Dated\", \"27.12.2018\\\\n'b'\\\\n'b'\", '(Judgment', 'pronounced', 'in', 'the', 'open', 'court', 'vide', \"separate)\\\\n'b'\\\\n'b'\", \"ORDER\\\\n'b'\\\\n'b'\", 'Acting', 'under', 'section', '255', '(2)', \"of\\\\n'b'\", 'Criminal', 'Procedure', 'Code,', 'accused', \"is\\\\n'b'\", 'hereby', 'convicted', 'for', 'the', 'offence', \"punishable\\\\n'b'\", 'under', 'section', '138', 'of', 'Negotiable', \"Instrument\\\\n'b'\", 'Act', 'and', 'accused', 'is', 'sentenced', 'to', 'pay', 'a', \"fine\\\\n'b'\", 'of', 'Rs.5,50,000/-', '(Five', 'Lakh', \"Fifty\\\\n'b'\", 'Thousand', 'only)', 'as', 'settled', 'in', 'the', \"joint\\\\n'b'\", \"memo.\\\\n'b'\\\\n'b'\", 'When', 'the', 'said', 'amount', 'is', 'deposited', \"as\\\\n'b'\", 'agreed', 'upon,', 'same', 'shall', 'be', 'paid', 'to', \"the\\\\n'b'\", 'complainant', 'as', \"compensation.\\\\n'b'\\\\n'b'\\\\n'b'\", 'Terms', 'and', 'conditions', 'of', 'the', \"joint\\\\n'b'\", 'memo', 'becomes', 'part', 'and', 'parcel', 'of', \"this\\\\n'b'\", \"order.\\\\n'b'\\\\n'b'\\\\n'b'\", 'In', 'default', 'of', 'payment', 'of', 'the', \"fine\\\\n'b'\", 'amount,', 'accused', 'shall', \"undergo\\\\n'b'\", 'imprisonment', 'for', '3', '(Three)', \"months.\\\\n'b'\\\\n'b'\\\\n'b'\", 'The', 'bail', 'bond', 'of', 'the', 'accused', \"stands\\\\n'b'\", \"cancelled.\\\\n'b'\", '9', 'C.C.23993', \"/2018\\\\n'b'\\\\n'b'\\\\n'b'\\\\n'b'\", 'Office', 'to', 'supply', 'the', 'copy', 'of', \"this\\\\n'b'Judgment\", 'to', 'the', 'accused', 'immediately', \"on\\\\n'b'free\", 'of', \"cost.\\\\n'b'\\\\n'b'\\\\n'b'\", 'XX', \"A.C.M.M.,\\\\n'b'\", \"Bengaluru.\\\\n'b'\\\\n'b'\\\\n'b'Bangalore\", 'District', \"Court\\\\n'b'T.S.Mohana\", 'vs', 'Sridhar.M', 'on', '27', 'December,', '2018', 'IN', 'THE', 'COURT', 'OF', 'THE', 'XX', 'ADDL.CHIEF', \"METROPOLITAN\\\\n'b'\", 'MAGISTRATE', 'AT', 'BENGALURU', \"CITY\\\\n'b'\\\\n'b'\", 'Dated', 'this', 'the', '27th', 'day', 'of', 'December', \"2018\\\\n'b'\\\\n'b'\", 'PRESENT:', \"KALPANA.M.S.,\\\\n'b'\", 'B.Sc.,', \"LL.M.,\\\\n'b'\", 'XX', 'ADDL.', \"C.M.M.\\\\n'b'\", \"Bengaluru.\\\\n'b'\\\\n'b'\", \"C.C.No.23993/2018\\\\n'b'\\\\n'b'Complainant\", ':', \"T.S.Mohana,\\\\n'b'\", \"S/o.T.S.Shivanna,\\\\n'b'\", 'Aged', 'about', '38', \"years,\\\\n'b'\", 'R/at', 'No.479,', 'L.N.School', \"Road,\\\\n'b'\", \"Meenakshinagara,\\\\n'b'\", 'New', 'extension,', \"Kamakshipalya,\\\\n'b'\", 'Bengaluru', '-', '560', \"079.\\\\n'b'\\\\n'b'\", \"Vs.\\\\n'b'\\\\n'b'Accused\", ':', \"Sridhar.M,\\\\n'b'\", \"S/o.Maniraju,\\\\n'b'\", 'Aged', 'about', '40', \"years,\\\\n'b'\", 'Office', 'at.', 'TD', 'POWER', 'SYSTEMS', \"LTD,\\\\n'b'\", 'No.27,28,29,', 'KIADB', 'Industrial', \"Area,\\\\n'b'\", 'Dabaspete,', 'Nelamangala', \"Taluk,\\\\n'b'\", 'Bengaluru', '-', '562', \"111.\\\\n'b'\\\\n'b'\\\\n'b'Offence\", 'complied', 'of', ':', 'U/S.', '138', 'of', 'N.I.', \"Act.,\\\\n'b'\\\\n'b'\\\\n'b'Plea\", 'of', 'accused', ':', 'Pleaded', 'not', \"guilty\\\\n'b'\\\\n'b'\\\\n'b'Final\", 'Order', ':', 'Accused', 'is', \"Convicted\\\\n'b'\", '2', 'C.C.23993', \"/2018\\\\n'b'\\\\n'b'Date\", 'of', 'Order', ':', \"27.12.2018\\\\n'b'\\\\n'b'\\\\n'b'\\\\n'b'\", \"JUDGMENT\\\\n'b'\\\\n'b'\", 'The', 'complainant', 'has', 'filed', 'this', 'complaint', 'under', \"section\\\\n'b'\\\\n'b'200\", 'of', 'code', 'of', 'criminal', 'procedure', 'alleging', 'that', 'the', 'accused', \"has\\\\n'b'\\\\n'b'committed\", 'an', 'offence', 'punishable', 'under', 'section', '138', \"of\\\\n'b'\\\\n'b'Negotiable\", 'Instrument', 'Act', '(', 'in', 'short', 'referred', 'as', '\"N.I.', 'Act\").\\\\n\\'b\\'\\\\n\\'b\\'\\\\n\\'b\\'\\\\n\\'b\\'02.', 'The', 'sum', 'and', 'substance', 'of', 'the', 'complaint,', 'is', 'as', \"follows;\\\\n'b'\\\\n'b'\", 'The', 'complainant', 'and', 'accused', 'are', 'known', 'to', 'each', 'other', \"from\\\\n'b'\\\\n'b'past\", 'five', 'years.', 'In', 'the', 'year', '2015,', 'the', 'accused', 'has', 'obtained', \"loan\\\\n'b'\\\\n'b'of\", 'Rs.7,00,000/-', 'from', 'the', 'complainant', 'for', 'his', \"financial\\\\n'b'\\\\n'b'commitments\", 'and', 'agreed', 'to', 'repay', 'the', 'same', 'on', 'or', 'before', \"March\\\\n'b'\\\\n'b'2016.\", 'Complainant', 'agreed', 'to', 'receive', 'the', 'said', 'amount', \"on\\\\n'b'\\\\n'b'monthly\", 'installments', 'of', 'Rs.12,000/-.', 'Accused', 'paid', 'the', \"amount\\\\n'b'\\\\n'b'of\", 'Rs.12,000/-', 'since', 'from', 'March', '2016', 'to', 'February', '2016', \"and\\\\n'b'\\\\n'b'stopped\", 'paying', 'the', 'said', 'amount', 'from', 'the', 'month', 'of', 'March', \"2018.\\\\n'b'\\\\n'b'Complainant\", 'demanded', 'the', 'accused', 'for', 'legally', 'recoverable', \"debt\\\\n'b'\\\\n'b'due\", 'by', 'him.', 'Towards', 'discharge', 'of', 'his', 'liability,', 'accused', \"has\\\\n'b'\\\\n'b'issued\", 'a', 'Cheque', 'bearing', 'No.000089', 'dated', '10.04.2018', \"for\\\\n'b'\", '3', 'C.C.23993', \"/2018\\\\n'b'\\\\n'b'Rs.4,80,000/-,\", 'which', 'came', 'to', 'be', 'dishonoured', 'on', \"presentation\\\\n'b'\\\\n'b'with\", 'an', 'endorsement', '\"Funds', 'Insufficient\".', \"Thereafter,\\\\n'b'\\\\n'b'complainant\", 'got', 'issued', 'legal', 'notice', 'to', 'accused', 'on', \"05.07.2018,\\\\n'b'\\\\n'b'which\", 'was', 'duly', 'served', 'on', 'accused', 'on', '09.07.2018.', \"Accused\\\\n'b'\\\\n'b'neither\", 'replied', 'the', 'notice', 'nor', 'paid', 'the', 'cheque', 'amount.', \"Hence\\\\n'b'\\\\n'b'this\", \"complaint.\\\\n'b'\\\\n'b'\\\\n'b'03.\", 'On', 'filing', 'of', 'complaint,', 'this', 'court', 'has', 'taken', 'cognizance', \"for\\\\n'b'\\\\n'b'the\", 'offence', 'punishable', 'under', 'section', '138', 'of', \"Negotiable\\\\n'b'\\\\n'b'Instrument\", 'Act,', 'sworn', 'statement', 'of', 'complainant', 'was', \"recorded.\\\\n'b'\\\\n'b'Being\", 'satisfied', 'that', 'there', 'are', 'prima-facie', 'materials', 'to', \"proceed\\\\n'b'\\\\n'b'against\", 'accused,', 'summons', 'was', 'issued.', 'After', \"appearance,\\\\n'b'\\\\n'b'accused\", 'enlarged', 'on', 'bail', 'and', 'plea', 'was', 'recorded', 'as', 'per', \"section\\\\n'b'\\\\n'b'251\", 'of', 'Cr.P.C.', 'Accused', 'has', 'not', 'stated', 'the', \"defence.\\\\n'b'\\\\n'b'\\\\n'b'\\\\n'b'04.\", 'When', 'the', 'case', 'was', 'set', 'down', 'for', 'trial,', 'both', 'the', \"parties\\\\n'b'\\\\n'b'and\", 'their', 'counsels', 'filed', 'Joint', 'memo', 'and', 'prays', 'for', \"judgment\\\\n'b'\\\\n'b'accordingly.\\\\n'b'\\\\n'b'\\\\n'b'05.\", 'Heard', 'and', 'perused', 'the', 'materials', 'on', \"record.\\\\n'b'\", '4', 'C.C.23993', \"/2018\\\\n'b'\\\\n'b'06.\", 'The', 'points', 'that', 'arise', 'for', 'my', 'consideration', 'are', 'as', \"follows;\\\\n'b'\\\\n'b'\", \"POINTS\\\\n'b'\\\\n'b'\", '1.', 'Whether', 'the', 'accused', 'is', 'liable', 'to', \"be\\\\n'b'\", 'convicted', 'in', 'terms', 'of', 'Joint', 'memo', \"dated\\\\n'b'\", '30.', \"11.2018?\\\\n'b'\\\\n'b'\", '2.', 'What', \"Order?\\\\n'b'\\\\n'b'\\\\n'b'07.\", 'Now', 'my', 'answer', 'to', 'the', 'above', 'points', 'is', 'as', \"follows;\\\\n'b'\\\\n'b'\", '1.', 'Point', 'No.1:', 'In', 'the', \"affirmative\\\\n'b'\\\\n'b'\", '2.', 'Point', 'No.2:', 'As', 'per', 'final', \"order\\\\n'b'\\\\n'b'\", 'for', 'the', \"following;\\\\n'b'\\\\n'b'\", \"REASONS\\\\n'b'\\\\n'b'08.\", 'POINT', 'No.1:', 'Complainant,', 'accused', 'and', \"respective\\\\n'b'\\\\n'b'counsels\", 'filed', 'Joint', 'memo', 'on', '30.11.2018.', 'The', 'contents', 'of', \"the\\\\n'b'\\\\n'b'same\", 'was', 'read', 'over', 'and', 'explained', 'to', 'the', 'parties.', 'Through', \"Joint\\\\n'b'\\\\n'b'memo,\", 'accused', 'has', 'admitted', 'his', 'liability.', 'Accused', 'has', \"agreed\\\\n'b'\\\\n'b'to\", 'pay', 'Rs.5,50,000/-', 'in', '45', 'monthly', 'installments', 'of', \"Rs.10,000/-\\\\n'b'\\\\n'b'on\", '10th', 'day', 'of', 'each', 'month', 'commencing', 'from', '10.12.2018', \"to\\\\n'b'\\\\n'b'10.08.2022.\\\\n'b'\\\\n'b'\", 'Accused', 'has', 'admitted', 'that,', 'in', 'case', 'of', 'default', 'of', \"payment\\\\n'b'\\\\n'b'within\", 'the', 'stipulated', 'period,', 'complainant', 'is', 'at', 'liberty', 'to', \"take\\\\n'b'\", '5', 'C.C.23993', \"/2018\\\\n'b'\\\\n'b'appropriate\", 'legal', 'action.', 'The', 'terms', 'and', 'conditions', 'mentioned', \"in\\\\n'b'\\\\n'b'memo\", 'is', 'part', 'and', 'parcel', 'of', 'this', \"order.\\\\n'b'\\\\n'b'\\\\n'b'09.\", 'As', 'per', 'the', 'aforesaid', 'memo,', 'accused', 'has', 'admitted', \"the\\\\n'b'\\\\n'b'liability\", 'imposed', 'on', 'him', 'as', 'contemplated', 'in', 'the', 'complaint.', \"The\\\\n'b'\\\\n'b'memo\", 'field', 'by', 'the', 'complainant', 'and', 'accused', 'is', 'sufficient', \"to\\\\n'b'\\\\n'b'answer\", 'point', 'No.1', 'in', 'the', \"affirmative.\\\\n'b'\\\\n'b'\\\\n'b'10.\", 'POINT', 'NO.2:', 'In', 'view', 'of', 'the', 'reasons', 'stated', \"and\\\\n'b'\\\\n'b'discussed\", 'on', 'point', 'No.1,', 'I', 'proceed', 'to', 'pass', 'the', \"following;\\\\n'b'\\\\n'b'\", \"ORDER\\\\n'b'\\\\n'b'\", 'Acting', 'under', 'section', '255', '(2)', \"of\\\\n'b'\\\\n'b'\", 'Criminal', 'Procedure', 'Code,', 'accused', \"is\\\\n'b'\\\\n'b'\", 'hereby', 'convicted', 'for', 'the', 'offence', \"punishable\\\\n'b'\\\\n'b'\", 'under', 'section', '138', 'of', 'Negotiable', \"Instrument\\\\n'b'\\\\n'b'\", 'Act', 'and', 'accused', 'is', 'sentenced', 'to', 'pay', 'a', \"fine\\\\n'b'\\\\n'b'\", 'of', 'Rs.5,50,000/-', '(Five', 'Lakh', \"Fifty\\\\n'b'\\\\n'b'\", 'Thousand', 'only)', 'as', 'settled', 'in', 'the', \"joint\\\\n'b'\\\\n'b'\", \"memo.\\\\n'b'\", '6', 'C.C.23993', \"/2018\\\\n'b'\\\\n'b'\", 'When', 'the', 'said', 'amount', 'is', 'deposited', \"as\\\\n'b'\", 'agreed', 'upon,', 'same', 'shall', 'be', 'paid', 'to', \"the\\\\n'b'\", 'complainant', 'as', \"compensation.\\\\n'b'\\\\n'b'\\\\n'b'\\\\n'b'\", 'Terms', 'and', 'conditions', 'of', 'the', \"joint\\\\n'b'\", 'memo', 'becomes', 'part', 'and', 'parcel', 'of', \"this\\\\n'b'\", \"order.\\\\n'b'\\\\n'b'\\\\n'b'\", 'In', 'default', 'of', 'payment', 'of', 'the', \"fine\\\\n'b'\", 'amount,', 'accused', 'shall', \"undergo\\\\n'b'\", 'imprisonment', 'for', '3', '(Three)', \"months.\\\\n'b'\\\\n'b'\\\\n'b'\\\\n'b'\", 'The', 'bail', 'bond', 'of', 'the', 'accused', \"stands\\\\n'b'\", \"cancelled.\\\\n'b'\\\\n'b'\\\\n'b'\", 'Office', 'to', 'supply', 'the', 'copy', 'of', \"this\\\\n'b'\", 'Judgment', 'to', 'the', 'accused', 'immediately', \"on\\\\n'b'\", 'free', 'of', \"cost.\\\\n'b'\", '{Dictated', 'to', 'the', 'stenographer', 'directly', 'on', 'computer,', 'corrected', \"and\\\\n'b'then\", 'signed', 'by', 'me', 'and', 'then', 'pronounced', 'in', 'the', 'open', 'court', 'on', 'this', \"27th\\\\n'b'day\", 'of', 'December', \"2018}.\\\\n'b'\\\\n'b'\\\\n'b'\", '(KALPANA', \"M.S.),\\\\n'b'\", 'XX', 'ACMM,', \"Bengaluru.\\\\n'b'\", '7', 'C.C.23993', \"/2018\\\\n'b'\\\\n'b'\", \"ANNEXURE\\\\n'b'\\\\n'b'List\", 'of', 'witnesses', 'examined', 'on', 'behalf', 'of', \"Complainant:\\\\n'b'\\\\n'b'\\\\n'b'P.W.1\", \"T.S.Mohana\\\\n'b'\\\\n'b'List\", 'of', 'documents', 'produced', 'on', 'behalf', 'of', \"complainant:\\\\n'b'\\\\n'b'\\\\n'b'Ex.P.1\", \"Cheque\\\\n'b'\\\\n'b'Ex.P.1(a)\", 'Signature', 'of', \"accused\\\\n'b'\\\\n'b'Ex.P.\", '2', 'Bank', \"endorsement\\\\n'b'\\\\n'b'Ex.P.\", '3', 'Copy', 'of', 'the', 'legal', \"notice\\\\n'b'\\\\n'b'Ex.P.\", '4', 'Postal', \"receipt\\\\n'b'\\\\n'b'Ex.P.5\", 'Postal', \"acknowledgement\\\\n'b'\\\\n'b'\\\\n'b'\\\\n'b'List\", 'of', 'witnesses', 'examined', 'on', 'behalf', 'of', \"accused:\\\\n'b'\\\\n'b'\", \"-Nil-\\\\n'b'\\\\n'b'List\", 'of', 'documents', 'produced', 'on', 'behalf', 'of', \"accused:\\\\n'b'\\\\n'b'\", \"-Nil-\\\\n'b'\\\\n'b'\\\\n'b'\", 'XX', \"A.C.M.M.,\\\\n'b'\", \"Bengaluru.\\\\n'b'\", '8', 'C.C.23993', \"/2018\\\\n'b'\\\\n'b'Dated\", \"27.12.2018\\\\n'b'\\\\n'b'\", '(Judgment', 'pronounced', 'in', 'the', 'open', 'court', 'vide', \"separate)\\\\n'b'\\\\n'b'\", \"ORDER\\\\n'b'\\\\n'b'\", 'Acting', 'under', 'section', '255', '(2)', \"of\\\\n'b'\", 'Criminal', 'Procedure', 'Code,', 'accused', \"is\\\\n'b'\", 'hereby', 'convicted', 'for', 'the', 'offence', \"punishable\\\\n'b'\", 'under', 'section', '138', 'of', 'Negotiable', \"Instrument\\\\n'b'\", 'Act', 'and', 'accused', 'is', 'sentenced', 'to', 'pay', 'a', \"fine\\\\n'b'\", 'of', 'Rs.5,50,000/-', '(Five', 'Lakh', \"Fifty\\\\n'b'\", 'Thousand', 'only)', 'as', 'settled', 'in', 'the', \"joint\\\\n'b'\", \"memo.\\\\n'b'\\\\n'b'\", 'When', 'the', 'said', 'amount', 'is', 'deposited', \"as\\\\n'b'\", 'agreed', 'upon,', 'same', 'shall', 'be', 'paid', 'to', \"the\\\\n'b'\", 'complainant', 'as', \"compensation.\\\\n'b'\\\\n'b'\\\\n'b'\", 'Terms', 'and', 'conditions', 'of', 'the', \"joint\\\\n'b'\", 'memo', 'becomes', 'part', 'and', 'parcel', 'of', \"this\\\\n'b'\", \"order.\\\\n'b'\\\\n'b'\\\\n'b'\", 'In', 'default', 'of', 'payment', 'of', 'the', \"fine\\\\n'b'\", 'amount,', 'accused', 'shall', \"undergo\\\\n'b'\", 'imprisonment', 'for', '3', '(Three)', \"months.\\\\n'b'\\\\n'b'\\\\n'b'\", 'The', 'bail', 'bond', 'of', 'the', 'accused', \"stands\\\\n'b'\", \"cancelled.\\\\n'b'\", '9', 'C.C.23993', \"/2018\\\\n'b'\\\\n'b'\\\\n'b'\\\\n'b'\", 'Office', 'to', 'supply', 'the', 'copy', 'of', \"this\\\\n'b'Judgment\", 'to', 'the', 'accused', 'immediately', \"on\\\\n'b'free\", 'of', \"cost.\\\\n'b'\\\\n'b'\\\\n'b'\", 'XX', \"A.C.M.M.,\\\\n'b'\", \"Bengaluru.\\\\n'b'\\\\n'b'\\\\n'b'Bangalore\", 'District', \"Court\\\\n'b'T.S.Mohana\", 'vs', 'Sridhar.M', 'on', '27', 'December,', '2018', 'IN', 'THE', 'COURT', 'OF', 'THE', 'XX', 'ADDL.CHIEF', \"METROPOLITAN\\\\n'b'\", 'MAGISTRATE', 'AT', 'BENGALURU', \"CITY\\\\n'b'\\\\n'b'\", 'Dated', 'this', 'the', '27th', 'day', 'of', 'December', \"2018\\\\n'b'\\\\n'b'\", 'PRESENT:', \"KALPANA.M.S.,\\\\n'b'\", 'B.Sc.,', \"LL.M.,\\\\n'b'\", 'XX', 'ADDL.', \"C.M.M.\\\\n'b'\", \"Bengaluru.\\\\n'b'\\\\n'b'\", \"C.C.No.23993/2018\\\\n'b'\\\\n'b'Complainant\", ':', \"T.S.Mohana,\\\\n'b'\", \"S/o.T.S.Shivanna,\\\\n'b'\", 'Aged', 'about', '38', \"years,\\\\n'b'\", 'R/at', 'No.479,', 'L.N.School', \"Road,\\\\n'b'\", \"Meenakshinagara,\\\\n'b'\", 'New', 'extension,', \"Kamakshipalya,\\\\n'b'\", 'Bengaluru', '-', '560', \"079.\\\\n'b'\\\\n'b'\", \"Vs.\\\\n'b'\\\\n'b'Accused\", ':', \"Sridhar.M,\\\\n'b'\", \"S/o.Maniraju,\\\\n'b'\", 'Aged', 'about', '40', \"years,\\\\n'b'\", 'Office', 'at.', 'TD', 'POWER', 'SYSTEMS', \"LTD,\\\\n'b'\", 'No.27,28,29,', 'KIADB', 'Industrial', \"Area,\\\\n'b'\", 'Dabaspete,', 'Nelamangala', \"Taluk,\\\\n'b'\", 'Bengaluru', '-', '562', \"111.\\\\n'b'\\\\n'b'\\\\n'b'Offence\", 'complied', 'of', ':', 'U/S.', '138', 'of', 'N.I.', \"Act.,\\\\n'b'\\\\n'b'\\\\n'b'Plea\", 'of', 'accused', ':', 'Pleaded', 'not', \"guilty\\\\n'b'\\\\n'b'\\\\n'b'Final\", 'Order', ':', 'Accused', 'is', \"Convicted\\\\n'b'\", '2', 'C.C.23993', \"/2018\\\\n'b'\\\\n'b'Date\", 'of', 'Order', ':', \"27.12.2018\\\\n'b'\\\\n'b'\\\\n'b'\\\\n'b'\", \"JUDGMENT\\\\n'b'\\\\n'b'\", 'The', 'complainant', 'has', 'filed', 'this', 'complaint', 'under', \"section\\\\n'b'\\\\n'b'200\", 'of', 'code', 'of', 'criminal', 'procedure', 'alleging', 'that', 'the', 'accused', \"has\\\\n'b'\\\\n'b'committed\", 'an', 'offence', 'punishable', 'under', 'section', '138', \"of\\\\n'b'\\\\n'b'Negotiable\", 'Instrument', 'Act', '(', 'in', 'short', 'referred', 'as', '\"N.I.', 'Act\").\\\\n\\'b\\'\\\\n\\'b\\'\\\\n\\'b\\'\\\\n\\'b\\'02.', 'The', 'sum', 'and', 'substance', 'of', 'the', 'complaint,', 'is', 'as', \"follows;\\\\n'b'\\\\n'b'\", 'The', 'complainant', 'and', 'accused', 'are', 'known', 'to', 'each', 'other', \"from\\\\n'b'\\\\n'b'past\", 'five', 'years.', 'In', 'the', 'year', '2015,', 'the', 'accused', 'has', 'obtained', \"loan\\\\n'b'\\\\n'b'of\", 'Rs.7,00,000/-', 'from', 'the', 'complainant', 'for', 'his', \"financial\\\\n'b'\\\\n'b'commitments\", 'and', 'agreed', 'to', 'repay', 'the', 'same', 'on', 'or', 'before', \"March\\\\n'b'\\\\n'b'2016.\", 'Complainant', 'agreed', 'to', 'receive', 'the', 'said', 'amount', \"on\\\\n'b'\\\\n'b'monthly\", 'installments', 'of', 'Rs.12,000/-.', 'Accused', 'paid', 'the', \"amount\\\\n'b'\\\\n'b'of\", 'Rs.12,000/-', 'since', 'from', 'March', '2016', 'to', 'February', '2016', \"and\\\\n'b'\\\\n'b'stopped\", 'paying', 'the', 'said', 'amount', 'from', 'the', 'month', 'of', 'March', \"2018.\\\\n'b'\\\\n'b'Complainant\", 'demanded', 'the', 'accused', 'for', 'legally', 'recoverable', \"debt\\\\n'b'\\\\n'b'due\", 'by', 'him.', 'Towards', 'discharge', 'of', 'his', 'liability,', 'accused', \"has\\\\n'b'\\\\n'b'issued\", 'a', 'Cheque', 'bearing', 'No.000089', 'dated', '10.04.2018', \"for\\\\n'b'\", '3', 'C.C.23993', \"/2018\\\\n'b'\\\\n'b'Rs.4,80,000/-,\", 'which', 'came', 'to', 'be', 'dishonoured', 'on', \"presentation\\\\n'b'\\\\n'b'with\", 'an', 'endorsement', '\"Funds', 'Insufficient\".', \"Thereafter,\\\\n'b'\\\\n'b'complainant\", 'got', 'issued', 'legal', 'notice', 'to', 'accused', 'on', \"05.07.2018,\\\\n'b'\\\\n'b'which\", 'was', 'duly', 'served', 'on', 'accused', 'on', '09.07.2018.', \"Accused\\\\n'b'\\\\n'b'neither\", 'replied', 'the', 'notice', 'nor', 'paid', 'the', 'cheque', 'amount.', \"Hence\\\\n'b'\\\\n'b'this\", \"complaint.\\\\n'b'\\\\n'b'\\\\n'b'03.\", 'On', 'filing', 'of', 'complaint,', 'this', 'court', 'has', 'taken', 'cognizance', \"for\\\\n'b'\\\\n'b'the\", 'offence', 'punishable', 'under', 'section', '138', 'of', \"Negotiable\\\\n'b'\\\\n'b'Instrument\", 'Act,', 'sworn', 'statement', 'of', 'complainant', 'was', \"recorded.\\\\n'b'\\\\n'b'Being\", 'satisfied', 'that', 'there', 'are', 'prima-facie', 'materials', 'to', \"proceed\\\\n'b'\\\\n'b'against\", 'accused,', 'summons', 'was', 'issued.', 'After', \"appearance,\\\\n'b'\\\\n'b'accused\", 'enlarged', 'on', 'bail', 'and', 'plea', 'was', 'recorded', 'as', 'per', \"section\\\\n'b'\\\\n'b'251\", 'of', 'Cr.P.C.', 'Accused', 'has', 'not', 'stated', 'the', \"defence.\\\\n'b'\\\\n'b'\\\\n'b'\\\\n'b'04.\", 'When', 'the', 'case', 'was', 'set', 'down', 'for', 'trial,', 'both', 'the', \"parties\\\\n'b'\\\\n'b'and\", 'their', 'counsels', 'filed', 'Joint', 'memo', 'and', 'prays', 'for', \"judgment\\\\n'b'\\\\n'b'accordingly.\\\\n'b'\\\\n'b'\\\\n'b'05.\", 'Heard', 'and', 'perused', 'the', 'materials', 'on', \"record.\\\\n'b'\", '4', 'C.C.23993', \"/2018\\\\n'b'\\\\n'b'06.\", 'The', 'points', 'that', 'arise', 'for', 'my', 'consideration', 'are', 'as', \"follows;\\\\n'b'\\\\n'b'\", \"POINTS\\\\n'b'\\\\n'b'\", '1.', 'Whether', 'the', 'accused', 'is', 'liable', 'to', \"be\\\\n'b'\", 'convicted', 'in', 'terms', 'of', 'Joint', 'memo', \"dated\\\\n'b'\", '30.', \"11.2018?\\\\n'b'\\\\n'b'\", '2.', 'What', \"Order?\\\\n'b'\\\\n'b'\\\\n'b'07.\", 'Now', 'my', 'answer', 'to', 'the', 'above', 'points', 'is', 'as', \"follows;\\\\n'b'\\\\n'b'\", '1.', 'Point', 'No.1:', 'In', 'the', \"affirmative\\\\n'b'\\\\n'b'\", '2.', 'Point', 'No.2:', 'As', 'per', 'final', \"order\\\\n'b'\\\\n'b'\", 'for', 'the', \"following;\\\\n'b'\\\\n'b'\", \"REASONS\\\\n'b'\\\\n'b'08.\", 'POINT', 'No.1:', 'Complainant,', 'accused', 'and', \"respective\\\\n'b'\\\\n'b'counsels\", 'filed', 'Joint', 'memo', 'on', '30.11.2018.', 'The', 'contents', 'of', \"the\\\\n'b'\\\\n'b'same\", 'was', 'read', 'over', 'and', 'explained', 'to', 'the', 'parties.', 'Through', \"Joint\\\\n'b'\\\\n'b'memo,\", 'accused', 'has', 'admitted', 'his', 'liability.', 'Accused', 'has', \"agreed\\\\n'b'\\\\n'b'to\", 'pay', 'Rs.5,50,000/-', 'in', '45', 'monthly', 'installments', 'of', \"Rs.10,000/-\\\\n'b'\\\\n'b'on\", '10th', 'day', 'of', 'each', 'month', 'commencing', 'from', '10.12.2018', \"to\\\\n'b'\\\\n'b'10.08.2022.\\\\n'b'\\\\n'b'\", 'Accused', 'has', 'admitted', 'that,', 'in', 'case', 'of', 'default', 'of', \"payment\\\\n'b'\\\\n'b'within\", 'the', 'stipulated', 'period,', 'complainant', 'is', 'at', 'liberty', 'to', \"take\\\\n'b'\", '5', 'C.C.23993', \"/2018\\\\n'b'\\\\n'b'appropriate\", 'legal', 'action.', 'The', 'terms', 'and', 'conditions', 'mentioned', \"in\\\\n'b'\\\\n'b'memo\", 'is', 'part', 'and', 'parcel', 'of', 'this', \"order.\\\\n'b'\\\\n'b'\\\\n'b'09.\", 'As', 'per', 'the', 'aforesaid', 'memo,', 'accused', 'has', 'admitted', \"the\\\\n'b'\\\\n'b'liability\", 'imposed', 'on', 'him', 'as', 'contemplated', 'in', 'the', 'complaint.', \"The\\\\n'b'\\\\n'b'memo\", 'field', 'by', 'the', 'complainant', 'and', 'accused', 'is', 'sufficient', \"to\\\\n'b'\\\\n'b'answer\", 'point', 'No.1', 'in', 'the', \"affirmative.\\\\n'b'\\\\n'b'\\\\n'b'10.\", 'POINT', 'NO.2:', 'In', 'view', 'of', 'the', 'reasons', 'stated', \"and\\\\n'b'\\\\n'b'discussed\", 'on', 'point', 'No.1,', 'I', 'proceed', 'to', 'pass', 'the', \"following;\\\\n'b'\\\\n'b'\", \"ORDER\\\\n'b'\\\\n'b'\", 'Acting', 'under', 'section', '255', '(2)', \"of\\\\n'b'\\\\n'b'\", 'Criminal', 'Procedure', 'Code,', 'accused', \"is\\\\n'b'\\\\n'b'\", 'hereby', 'convicted', 'for', 'the', 'offence', \"punishable\\\\n'b'\\\\n'b'\", 'under', 'section', '138', 'of', 'Negotiable', \"Instrument\\\\n'b'\\\\n'b'\", 'Act', 'and', 'accused', 'is', 'sentenced', 'to', 'pay', 'a', \"fine\\\\n'b'\\\\n'b'\", 'of', 'Rs.5,50,000/-', '(Five', 'Lakh', \"Fifty\\\\n'b'\\\\n'b'\", 'Thousand', 'only)', 'as', 'settled', 'in', 'the', \"joint\\\\n'b'\\\\n'b'\", \"memo.\\\\n'b'\", '6', 'C.C.23993', \"/2018\\\\n'b'\\\\n'b'\", 'When', 'the', 'said', 'amount', 'is', 'deposited', \"as\\\\n'b'\", 'agreed', 'upon,', 'same', 'shall', 'be', 'paid', 'to', \"the\\\\n'b'\", 'complainant', 'as', \"compensation.\\\\n'b'\\\\n'b'\\\\n'b'\\\\n'b'\", 'Terms', 'and', 'conditions', 'of', 'the', \"joint\\\\n'b'\", 'memo', 'becomes', 'part', 'and', 'parcel', 'of', \"this\\\\n'b'\", \"order.\\\\n'b'\\\\n'b'\\\\n'b'\", 'In', 'default', 'of', 'payment', 'of', 'the', \"fine\\\\n'b'\", 'amount,', 'accused', 'shall', \"undergo\\\\n'b'\", 'imprisonment', 'for', '3', '(Three)', \"months.\\\\n'b'\\\\n'b'\\\\n'b'\\\\n'b'\", 'The', 'bail', 'bond', 'of', 'the', 'accused', \"stands\\\\n'b'\", \"cancelled.\\\\n'b'\\\\n'b'\\\\n'b'\", 'Office', 'to', 'supply', 'the', 'copy', 'of', \"this\\\\n'b'\", 'Judgment', 'to', 'the', 'accused', 'immediately', \"on\\\\n'b'\", 'free', 'of', \"cost.\\\\n'b'\", '{Dictated', 'to', 'the', 'stenographer', 'directly', 'on', 'computer,', 'corrected', \"and\\\\n'b'then\", 'signed', 'by', 'me', 'and', 'then', 'pronounced', 'in', 'the', 'open', 'court', 'on', 'this', \"27th\\\\n'b'day\", 'of', 'December', \"2018}.\\\\n'b'\\\\n'b'\\\\n'b'\", '(KALPANA', \"M.S.),\\\\n'b'\", 'XX', 'ACMM,', \"Bengaluru.\\\\n'b'\", '7', 'C.C.23993', \"/2018\\\\n'b'\\\\n'b'\", \"ANNEXURE\\\\n'b'\\\\n'b'List\", 'of', 'witnesses', 'examined', 'on', 'behalf', 'of', \"Complainant:\\\\n'b'\\\\n'b'\\\\n'b'P.W.1\", \"T.S.Mohana\\\\n'b'\\\\n'b'List\", 'of', 'documents', 'produced', 'on', 'behalf', 'of', \"complainant:\\\\n'b'\\\\n'b'\\\\n'b'Ex.P.1\", \"Cheque\\\\n'b'\\\\n'b'Ex.P.1(a)\", 'Signature', 'of', \"accused\\\\n'b'\\\\n'b'Ex.P.\", '2', 'Bank', \"endorsement\\\\n'b'\\\\n'b'Ex.P.\", '3', 'Copy', 'of', 'the', 'legal', \"notice\\\\n'b'\\\\n'b'Ex.P.\", '4', 'Postal', \"receipt\\\\n'b'\\\\n'b'Ex.P.5\", 'Postal', \"acknowledgement\\\\n'b'\\\\n'b'\\\\n'b'\\\\n'b'List\", 'of', 'witnesses', 'examined', 'on', 'behalf', 'of', \"accused:\\\\n'b'\\\\n'b'\", \"-Nil-\\\\n'b'\\\\n'b'List\", 'of', 'documents', 'produced', 'on', 'behalf', 'of', \"accused:\\\\n'b'\\\\n'b'\", \"-Nil-\\\\n'b'\\\\n'b'\\\\n'b'\", 'XX', \"A.C.M.M.,\\\\n'b'\", \"Bengaluru.\\\\n'b'\", '8', 'C.C.23993', \"/2018\\\\n'b'\\\\n'b'Dated\", \"27.12.2018\\\\n'b'\\\\n'b'\", '(Judgment', 'pronounced', 'in', 'the', 'open', 'court', 'vide', \"separate)\\\\n'b'\\\\n'b'\", \"ORDER\\\\n'b'\\\\n'b'\", 'Acting', 'under', 'section', '255', '(2)', \"of\\\\n'b'\", 'Criminal', 'Procedure', 'Code,', 'accused', \"is\\\\n'b'\", 'hereby', 'convicted', 'for', 'the', 'offence', \"punishable\\\\n'b'\", 'under', 'section', '138', 'of', 'Negotiable', \"Instrument\\\\n'b'\", 'Act', 'and', 'accused', 'is', 'sentenced', 'to', 'pay', 'a', \"fine\\\\n'b'\", 'of', 'Rs.5,50,000/-', '(Five', 'Lakh', \"Fifty\\\\n'b'\", 'Thousand', 'only)', 'as', 'settled', 'in', 'the', \"joint\\\\n'b'\", \"memo.\\\\n'b'\\\\n'b'\", 'When', 'the', 'said', 'amount', 'is', 'deposited', \"as\\\\n'b'\", 'agreed', 'upon,', 'same', 'shall', 'be', 'paid', 'to', \"the\\\\n'b'\", 'complainant', 'as', \"compensation.\\\\n'b'\\\\n'b'\\\\n'b'\", 'Terms', 'and', 'conditions', 'of', 'the', \"joint\\\\n'b'\", 'memo', 'becomes', 'part', 'and', 'parcel', 'of', \"this\\\\n'b'\", \"order.\\\\n'b'\\\\n'b'\\\\n'b'\", 'In', 'default', 'of', 'payment', 'of', 'the', \"fine\\\\n'b'\", 'amount,', 'accused', 'shall', \"undergo\\\\n'b'\", 'imprisonment', 'for', '3', '(Three)', \"months.\\\\n'b'\\\\n'b'\\\\n'b'\", 'The', 'bail', 'bond', 'of', 'the', 'accused', \"stands\\\\n'b'\", \"cancelled.\\\\n'b'\", '9', 'C.C.23993', \"/2018\\\\n'b'\\\\n'b'\\\\n'b'\\\\n'b'\", 'Office', 'to', 'supply', 'the', 'copy', 'of', \"this\\\\n'b'Judgment\", 'to', 'the', 'accused', 'immediately', \"on\\\\n'b'free\", 'of', \"cost.\\\\n'b'\\\\n'b'\\\\n'b'\", 'XX', \"A.C.M.M.,\\\\n'b'\", \"Bengaluru.\\\\n'b'\\\\n'b'\\\\n'b'Bangalore\", 'District', \"Court\\\\n'b'T.S.Mohana\", 'vs', 'Sridhar.M', 'on', '27', 'December,', '2018', 'IN', 'THE', 'COURT', 'OF', 'THE', 'XX', 'ADDL.CHIEF', \"METROPOLITAN\\\\n'b'\", 'MAGISTRATE', 'AT', 'BENGALURU', \"CITY\\\\n'b'\\\\n'b'\", 'Dated', 'this', 'the', '27th', 'day', 'of', 'December', \"2018\\\\n'b'\\\\n'b'\", 'PRESENT:', \"KALPANA.M.S.,\\\\n'b'\", 'B.Sc.,', \"LL.M.,\\\\n'b'\", 'XX', 'ADDL.', \"C.M.M.\\\\n'b'\", \"Bengaluru.\\\\n'b'\\\\n'b'\", \"C.C.No.23993/2018\\\\n'b'\\\\n'b'Complainant\", ':', \"T.S.Mohana,\\\\n'b'\", \"S/o.T.S.Shivanna,\\\\n'b'\", 'Aged', 'about', '38', \"years,\\\\n'b'\", 'R/at', 'No.479,', 'L.N.School', \"Road,\\\\n'b'\", \"Meenakshinagara,\\\\n'b'\", 'New', 'extension,', \"Kamakshipalya,\\\\n'b'\", 'Bengaluru', '-', '560', \"079.\\\\n'b'\\\\n'b'\", \"Vs.\\\\n'b'\\\\n'b'Accused\", ':', \"Sridhar.M,\\\\n'b'\", \"S/o.Maniraju,\\\\n'b'\", 'Aged', 'about', '40', \"years,\\\\n'b'\", 'Office', 'at.', 'TD', 'POWER', 'SYSTEMS', \"LTD,\\\\n'b'\", 'No.27,28,29,', 'KIADB', 'Industrial', \"Area,\\\\n'b'\", 'Dabaspete,', 'Nelamangala', \"Taluk,\\\\n'b'\", 'Bengaluru', '-', '562', \"111.\\\\n'b'\\\\n'b'\\\\n'b'Offence\", 'complied', 'of', ':', 'U/S.', '138', 'of', 'N.I.', \"Act.,\\\\n'b'\\\\n'b'\\\\n'b'Plea\", 'of', 'accused', ':', 'Pleaded', 'not', \"guilty\\\\n'b'\\\\n'b'\\\\n'b'Final\", 'Order', ':', 'Accused', 'is', \"Convicted\\\\n'b'\", '2', 'C.C.23993', \"/2018\\\\n'b'\\\\n'b'Date\", 'of', 'Order', ':', \"27.12.2018\\\\n'b'\\\\n'b'\\\\n'b'\\\\n'b'\", \"JUDGMENT\\\\n'b'\\\\n'b'\", 'The', 'complainant', 'has', 'filed', 'this', 'complaint', 'under', \"section\\\\n'b'\\\\n'b'200\", 'of', 'code', 'of', 'criminal', 'procedure', 'alleging', 'that', 'the', 'accused', \"has\\\\n'b'\\\\n'b'committed\", 'an', 'offence', 'punishable', 'under', 'section', '138', \"of\\\\n'b'\\\\n'b'Negotiable\", 'Instrument', 'Act', '(', 'in', 'short', 'referred', 'as', '\"N.I.', 'Act\").\\\\n\\'b\\'\\\\n\\'b\\'\\\\n\\'b\\'\\\\n\\'b\\'02.', 'The', 'sum', 'and', 'substance', 'of', 'the', 'complaint,', 'is', 'as', \"follows;\\\\n'b'\\\\n'b'\", 'The', 'complainant', 'and', 'accused', 'are', 'known', 'to', 'each', 'other', \"from\\\\n'b'\\\\n'b'past\", 'five', 'years.', 'In', 'the', 'year', '2015,', 'the', 'accused', 'has', 'obtained', \"loan\\\\n'b'\\\\n'b'of\", 'Rs.7,00,000/-', 'from', 'the', 'complainant', 'for', 'his', \"financial\\\\n'b'\\\\n'b'commitments\", 'and', 'agreed', 'to', 'repay', 'the', 'same', 'on', 'or', 'before', \"March\\\\n'b'\\\\n'b'2016.\", 'Complainant', 'agreed', 'to', 'receive', 'the', 'said', 'amount', \"on\\\\n'b'\\\\n'b'monthly\", 'installments', 'of', 'Rs.12,000/-.', 'Accused', 'paid', 'the', \"amount\\\\n'b'\\\\n'b'of\", 'Rs.12,000/-', 'since', 'from', 'March', '2016', 'to', 'February', '2016', \"and\\\\n'b'\\\\n'b'stopped\", 'paying', 'the', 'said', 'amount', 'from', 'the', 'month', 'of', 'March', \"2018.\\\\n'b'\\\\n'b'Complainant\", 'demanded', 'the', 'accused', 'for', 'legally', 'recoverable', \"debt\\\\n'b'\\\\n'b'due\", 'by', 'him.', 'Towards', 'discharge', 'of', 'his', 'liability,', 'accused', \"has\\\\n'b'\\\\n'b'issued\", 'a', 'Cheque', 'bearing', 'No.000089', 'dated', '10.04.2018', \"for\\\\n'b'\", '3', 'C.C.23993', \"/2018\\\\n'b'\\\\n'b'Rs.4,80,000/-,\", 'which', 'came', 'to', 'be', 'dishonoured', 'on', \"presentation\\\\n'b'\\\\n'b'with\", 'an', 'endorsement', '\"Funds', 'Insufficient\".', \"Thereafter,\\\\n'b'\\\\n'b'complainant\", 'got', 'issued', 'legal', 'notice', 'to', 'accused', 'on', \"05.07.2018,\\\\n'b'\\\\n'b'which\", 'was', 'duly', 'served', 'on', 'accused', 'on', '09.07.2018.', \"Accused\\\\n'b'\\\\n'b'neither\", 'replied', 'the', 'notice', 'nor', 'paid', 'the', 'cheque', 'amount.', \"Hence\\\\n'b'\\\\n'b'this\", \"complaint.\\\\n'b'\\\\n'b'\\\\n'b'03.\", 'On', 'filing', 'of', 'complaint,', 'this', 'court', 'has', 'taken', 'cognizance', \"for\\\\n'b'\\\\n'b'the\", 'offence', 'punishable', 'under', 'section', '138', 'of', \"Negotiable\\\\n'b'\\\\n'b'Instrument\", 'Act,', 'sworn', 'statement', 'of', 'complainant', 'was', \"recorded.\\\\n'b'\\\\n'b'Being\", 'satisfied', 'that', 'there', 'are', 'prima-facie', 'materials', 'to', \"proceed\\\\n'b'\\\\n'b'against\", 'accused,', 'summons', 'was', 'issued.', 'After', \"appearance,\\\\n'b'\\\\n'b'accused\", 'enlarged', 'on', 'bail', 'and', 'plea', 'was', 'recorded', 'as', 'per', \"section\\\\n'b'\\\\n'b'251\", 'of', 'Cr.P.C.', 'Accused', 'has', 'not', 'stated', 'the', \"defence.\\\\n'b'\\\\n'b'\\\\n'b'\\\\n'b'04.\", 'When', 'the', 'case', 'was', 'set', 'down', 'for', 'trial,', 'both', 'the', \"parties\\\\n'b'\\\\n'b'and\", 'their', 'counsels', 'filed', 'Joint', 'memo', 'and', 'prays', 'for', \"judgment\\\\n'b'\\\\n'b'accordingly.\\\\n'b'\\\\n'b'\\\\n'b'05.\", 'Heard', 'and', 'perused', 'the', 'materials', 'on', \"record.\\\\n'b'\", '4', 'C.C.23993', \"/2018\\\\n'b'\\\\n'b'06.\", 'The', 'points', 'that', 'arise', 'for', 'my', 'consideration', 'are', 'as', \"follows;\\\\n'b'\\\\n'b'\", \"POINTS\\\\n'b'\\\\n'b'\", '1.', 'Whether', 'the', 'accused', 'is', 'liable', 'to', \"be\\\\n'b'\", 'convicted', 'in', 'terms', 'of', 'Joint', 'memo', \"dated\\\\n'b'\", '30.', \"11.2018?\\\\n'b'\\\\n'b'\", '2.', 'What', \"Order?\\\\n'b'\\\\n'b'\\\\n'b'07.\", 'Now', 'my', 'answer', 'to', 'the', 'above', 'points', 'is', 'as', \"follows;\\\\n'b'\\\\n'b'\", '1.', 'Point', 'No.1:', 'In', 'the', \"affirmative\\\\n'b'\\\\n'b'\", '2.', 'Point', 'No.2:', 'As', 'per', 'final', \"order\\\\n'b'\\\\n'b'\", 'for', 'the', \"following;\\\\n'b'\\\\n'b'\", \"REASONS\\\\n'b'\\\\n'b'08.\", 'POINT', 'No.1:', 'Complainant,', 'accused', 'and', \"respective\\\\n'b'\\\\n'b'counsels\", 'filed', 'Joint', 'memo', 'on', '30.11.2018.', 'The', 'contents', 'of', \"the\\\\n'b'\\\\n'b'same\", 'was', 'read', 'over', 'and', 'explained', 'to', 'the', 'parties.', 'Through', \"Joint\\\\n'b'\\\\n'b'memo,\", 'accused', 'has', 'admitted', 'his', 'liability.', 'Accused', 'has', \"agreed\\\\n'b'\\\\n'b'to\", 'pay', 'Rs.5,50,000/-', 'in', '45', 'monthly', 'installments', 'of', \"Rs.10,000/-\\\\n'b'\\\\n'b'on\", '10th', 'day', 'of', 'each', 'month', 'commencing', 'from', '10.12.2018', \"to\\\\n'b'\\\\n'b'10.08.2022.\\\\n'b'\\\\n'b'\", 'Accused', 'has', 'admitted', 'that,', 'in', 'case', 'of', 'default', 'of', \"payment\\\\n'b'\\\\n'b'within\", 'the', 'stipulated', 'period,', 'complainant', 'is', 'at', 'liberty', 'to', \"take\\\\n'b'\", '5', 'C.C.23993', \"/2018\\\\n'b'\\\\n'b'appropriate\", 'legal', 'action.', 'The', 'terms', 'and', 'conditions', 'mentioned', \"in\\\\n'b'\\\\n'b'memo\", 'is', 'part', 'and', 'parcel', 'of', 'this', \"order.\\\\n'b'\\\\n'b'\\\\n'b'09.\", 'As', 'per', 'the', 'aforesaid', 'memo,', 'accused', 'has', 'admitted', \"the\\\\n'b'\\\\n'b'liability\", 'imposed', 'on', 'him', 'as', 'contemplated', 'in', 'the', 'complaint.', \"The\\\\n'b'\\\\n'b'memo\", 'field', 'by', 'the', 'complainant', 'and', 'accused', 'is', 'sufficient', \"to\\\\n'b'\\\\n'b'answer\", 'point', 'No.1', 'in', 'the', \"affirmative.\\\\n'b'\\\\n'b'\\\\n'b'10.\", 'POINT', 'NO.2:', 'In', 'view', 'of', 'the', 'reasons', 'stated', \"and\\\\n'b'\\\\n'b'discussed\", 'on', 'point', 'No.1,', 'I', 'proceed', 'to', 'pass', 'the', \"following;\\\\n'b'\\\\n'b'\", \"ORDER\\\\n'b'\\\\n'b'\", 'Acting', 'under', 'section', '255', '(2)', \"of\\\\n'b'\\\\n'b'\", 'Criminal', 'Procedure', 'Code,', 'accused', \"is\\\\n'b'\\\\n'b'\", 'hereby', 'convicted', 'for', 'the', 'offence', \"punishable\\\\n'b'\\\\n'b'\", 'under', 'section', '138', 'of', 'Negotiable', \"Instrument\\\\n'b'\\\\n'b'\", 'Act', 'and', 'accused', 'is', 'sentenced', 'to', 'pay', 'a', \"fine\\\\n'b'\\\\n'b'\", 'of', 'Rs.5,50,000/-', '(Five', 'Lakh', \"Fifty\\\\n'b'\\\\n'b'\", 'Thousand', 'only)', 'as', 'settled', 'in', 'the', \"joint\\\\n'b'\\\\n'b'\", \"memo.\\\\n'b'\", '6', 'C.C.23993', \"/2018\\\\n'b'\\\\n'b'\", 'When', 'the', 'said', 'amount', 'is', 'deposited', \"as\\\\n'b'\", 'agreed', 'upon,', 'same', 'shall', 'be', 'paid', 'to', \"the\\\\n'b'\", 'complainant', 'as', \"compensation.\\\\n'b'\\\\n'b'\\\\n'b'\\\\n'b'\", 'Terms', 'and', 'conditions', 'of', 'the', \"joint\\\\n'b'\", 'memo', 'becomes', 'part', 'and', 'parcel', 'of', \"this\\\\n'b'\", \"order.\\\\n'b'\\\\n'b'\\\\n'b'\", 'In', 'default', 'of', 'payment', 'of', 'the', \"fine\\\\n'b'\", 'amount,', 'accused', 'shall', \"undergo\\\\n'b'\", 'imprisonment', 'for', '3', '(Three)', \"months.\\\\n'b'\\\\n'b'\\\\n'b'\\\\n'b'\", 'The', 'bail', 'bond', 'of', 'the', 'accused', \"stands\\\\n'b'\", \"cancelled.\\\\n'b'\\\\n'b'\\\\n'b'\", 'Office', 'to', 'supply', 'the', 'copy', 'of', \"this\\\\n'b'\", 'Judgment', 'to', 'the', 'accused', 'immediately', \"on\\\\n'b'\", 'free', 'of', \"cost.\\\\n'b'\", '{Dictated', 'to', 'the', 'stenographer', 'directly', 'on', 'computer,', 'corrected', \"and\\\\n'b'then\", 'signed', 'by', 'me', 'and', 'then', 'pronounced', 'in', 'the', 'open', 'court', 'on', 'this', \"27th\\\\n'b'day\", 'of', 'December', \"2018}.\\\\n'b'\\\\n'b'\\\\n'b'\", '(KALPANA', \"M.S.),\\\\n'b'\", 'XX', 'ACMM,', \"Bengaluru.\\\\n'b'\", '7', 'C.C.23993', \"/2018\\\\n'b'\\\\n'b'\", \"ANNEXURE\\\\n'b'\\\\n'b'List\", 'of', 'witnesses', 'examined', 'on', 'behalf', 'of', \"Complainant:\\\\n'b'\\\\n'b'\\\\n'b'P.W.1\", \"T.S.Mohana\\\\n'b'\\\\n'b'List\", 'of', 'documents', 'produced', 'on', 'behalf', 'of', \"complainant:\\\\n'b'\\\\n'b'\\\\n'b'Ex.P.1\", \"Cheque\\\\n'b'\\\\n'b'Ex.P.1(a)\", 'Signature', 'of', \"accused\\\\n'b'\\\\n'b'Ex.P.\", '2', 'Bank', \"endorsement\\\\n'b'\\\\n'b'Ex.P.\", '3', 'Copy', 'of', 'the', 'legal', \"notice\\\\n'b'\\\\n'b'Ex.P.\", '4', 'Postal', \"receipt\\\\n'b'\\\\n'b'Ex.P.5\", 'Postal', \"acknowledgement\\\\n'b'\\\\n'b'\\\\n'b'\\\\n'b'List\", 'of', 'witnesses', 'examined', 'on', 'behalf', 'of', \"accused:\\\\n'b'\\\\n'b'\", \"-Nil-\\\\n'b'\\\\n'b'List\", 'of', 'documents', 'produced', 'on', 'behalf', 'of', \"accused:\\\\n'b'\\\\n'b'\", \"-Nil-\\\\n'b'\\\\n'b'\\\\n'b'\", 'XX', \"A.C.M.M.,\\\\n'b'\", \"Bengaluru.\\\\n'b'\", '8', 'C.C.23993', \"/2018\\\\n'b'\\\\n'b'Dated\", \"27.12.2018\\\\n'b'\\\\n'b'\", '(Judgment', 'pronounced', 'in', 'the', 'open', 'court', 'vide', \"separate)\\\\n'b'\\\\n'b'\", \"ORDER\\\\n'b'\\\\n'b'\", 'Acting', 'under', 'section', '255', '(2)', \"of\\\\n'b'\", 'Criminal', 'Procedure', 'Code,', 'accused', \"is\\\\n'b'\", 'hereby', 'convicted', 'for', 'the', 'offence', \"punishable\\\\n'b'\", 'under', 'section', '138', 'of', 'Negotiable', \"Instrument\\\\n'b'\", 'Act', 'and', 'accused', 'is', 'sentenced', 'to', 'pay', 'a', \"fine\\\\n'b'\", 'of', 'Rs.5,50,000/-', '(Five', 'Lakh', \"Fifty\\\\n'b'\", 'Thousand', 'only)', 'as', 'settled', 'in', 'the', \"joint\\\\n'b'\", \"memo.\\\\n'b'\\\\n'b'\", 'When', 'the', 'said', 'amount', 'is', 'deposited', \"as\\\\n'b'\", 'agreed', 'upon,', 'same', 'shall', 'be', 'paid', 'to', \"the\\\\n'b'\", 'complainant', 'as', \"compensation.\\\\n'b'\\\\n'b'\\\\n'b'\", 'Terms', 'and', 'conditions', 'of', 'the', \"joint\\\\n'b'\", 'memo', 'becomes', 'part', 'and', 'parcel', 'of', \"this\\\\n'b'\", \"order.\\\\n'b'\\\\n'b'\\\\n'b'\", 'In', 'default', 'of', 'payment', 'of', 'the', \"fine\\\\n'b'\", 'amount,', 'accused', 'shall', \"undergo\\\\n'b'\", 'imprisonment', 'for', '3', '(Three)', \"months.\\\\n'b'\\\\n'b'\\\\n'b'\", 'The', 'bail', 'bond', 'of', 'the', 'accused', \"stands\\\\n'b'\", \"cancelled.\\\\n'b'\", '9', 'C.C.23993', \"/2018\\\\n'b'\\\\n'b'\\\\n'b'\\\\n'b'\", 'Office', 'to', 'supply', 'the', 'copy', 'of', \"this\\\\n'b'Judgment\", 'to', 'the', 'accused', 'immediately', \"on\\\\n'b'free\", 'of', \"cost.\\\\n'b'\\\\n'b'\\\\n'b'\", 'XX', \"A.C.M.M.,\\\\n'b'\", \"Bengaluru.\\\\n'b'\\\\n'b'\\\\n'b'Bangalore\", 'District', \"Court\\\\n'b'T.S.Mohana\", 'vs', 'Sridhar.M', 'on', '27', 'December,', '2018', 'IN', 'THE', 'COURT', 'OF', 'THE', 'XX', 'ADDL.CHIEF', \"METROPOLITAN\\\\n'b'\", 'MAGISTRATE', 'AT', 'BENGALURU', \"CITY\\\\n'b'\\\\n'b'\", 'Dated', 'this', 'the', '27th', 'day', 'of', 'December', \"2018\\\\n'b'\\\\n'b'\", 'PRESENT:', \"KALPANA.M.S.,\\\\n'b'\", 'B.Sc.,', \"LL.M.,\\\\n'b'\", 'XX', 'ADDL.', \"C.M.M.\\\\n'b'\", \"Bengaluru.\\\\n'b'\\\\n'b'\", \"C.C.No.23993/2018\\\\n'b'\\\\n'b'Complainant\", ':', \"T.S.Mohana,\\\\n'b'\", \"S/o.T.S.Shivanna,\\\\n'b'\", 'Aged', 'about', '38', \"years,\\\\n'b'\", 'R/at', 'No.479,', 'L.N.School', \"Road,\\\\n'b'\", \"Meenakshinagara,\\\\n'b'\", 'New', 'extension,', \"Kamakshipalya,\\\\n'b'\", 'Bengaluru', '-', '560', \"079.\\\\n'b'\\\\n'b'\", \"Vs.\\\\n'b'\\\\n'b'Accused\", ':', \"Sridhar.M,\\\\n'b'\", \"S/o.Maniraju,\\\\n'b'\", 'Aged', 'about', '40', \"years,\\\\n'b'\", 'Office', 'at.', 'TD', 'POWER', 'SYSTEMS', \"LTD,\\\\n'b'\", 'No.27,28,29,', 'KIADB', 'Industrial', \"Area,\\\\n'b'\", 'Dabaspete,', 'Nelamangala', \"Taluk,\\\\n'b'\", 'Bengaluru', '-', '562', \"111.\\\\n'b'\\\\n'b'\\\\n'b'Offence\", 'complied', 'of', ':', 'U/S.', '138', 'of', 'N.I.', \"Act.,\\\\n'b'\\\\n'b'\\\\n'b'Plea\", 'of', 'accused', ':', 'Pleaded', 'not', \"guilty\\\\n'b'\\\\n'b'\\\\n'b'Final\", 'Order', ':', 'Accused', 'is', \"Convicted\\\\n'b'\", '2', 'C.C.23993', \"/2018\\\\n'b'\\\\n'b'Date\", 'of', 'Order', ':', \"27.12.2018\\\\n'b'\\\\n'b'\\\\n'b'\\\\n'b'\", \"JUDGMENT\\\\n'b'\\\\n'b'\", 'The', 'complainant', 'has', 'filed', 'this', 'complaint', 'under', \"section\\\\n'b'\\\\n'b'200\", 'of', 'code', 'of', 'criminal', 'procedure', 'alleging', 'that', 'the', 'accused', \"has\\\\n'b'\\\\n'b'committed\", 'an', 'offence', 'punishable', 'under', 'section', '138', \"of\\\\n'b'\\\\n'b'Negotiable\", 'Instrument', 'Act', '(', 'in', 'short', 'referred', 'as', '\"N.I.', 'Act\").\\\\n\\'b\\'\\\\n\\'b\\'\\\\n\\'b\\'\\\\n\\'b\\'02.', 'The', 'sum', 'and', 'substance', 'of', 'the', 'complaint,', 'is', 'as', \"follows;\\\\n'b'\\\\n'b'\", 'The', 'complainant', 'and', 'accused', 'are', 'known', 'to', 'each', 'other', \"from\\\\n'b'\\\\n'b'past\", 'five', 'years.', 'In', 'the', 'year', '2015,', 'the', 'accused', 'has', 'obtained', \"loan\\\\n'b'\\\\n'b'of\", 'Rs.7,00,000/-', 'from', 'the', 'complainant', 'for', 'his', \"financial\\\\n'b'\\\\n'b'commitments\", 'and', 'agreed', 'to', 'repay', 'the', 'same', 'on', 'or', 'before', \"March\\\\n'b'\\\\n'b'2016.\", 'Complainant', 'agreed', 'to', 'receive', 'the', 'said', 'amount', \"on\\\\n'b'\\\\n'b'monthly\", 'installments', 'of', 'Rs.12,000/-.', 'Accused', 'paid', 'the', \"amount\\\\n'b'\\\\n'b'of\", 'Rs.12,000/-', 'since', 'from', 'March', '2016', 'to', 'February', '2016', \"and\\\\n'b'\\\\n'b'stopped\", 'paying', 'the', 'said', 'amount', 'from', 'the', 'month', 'of', 'March', \"2018.\\\\n'b'\\\\n'b'Complainant\", 'demanded', 'the', 'accused', 'for', 'legally', 'recoverable', \"debt\\\\n'b'\\\\n'b'due\", 'by', 'him.', 'Towards', 'discharge', 'of', 'his', 'liability,', 'accused', \"has\\\\n'b'\\\\n'b'issued\", 'a', 'Cheque', 'bearing', 'No.000089', 'dated', '10.04.2018', \"for\\\\n'b'\", '3', 'C.C.23993', \"/2018\\\\n'b'\\\\n'b'Rs.4,80,000/-,\", 'which', 'came', 'to', 'be', 'dishonoured', 'on', \"presentation\\\\n'b'\\\\n'b'with\", 'an', 'endorsement', '\"Funds', 'Insufficient\".', \"Thereafter,\\\\n'b'\\\\n'b'complainant\", 'got', 'issued', 'legal', 'notice', 'to', 'accused', 'on', \"05.07.2018,\\\\n'b'\\\\n'b'which\", 'was', 'duly', 'served', 'on', 'accused', 'on', '09.07.2018.', \"Accused\\\\n'b'\\\\n'b'neither\", 'replied', 'the', 'notice', 'nor', 'paid', 'the', 'cheque', 'amount.', \"Hence\\\\n'b'\\\\n'b'this\", \"complaint.\\\\n'b'\\\\n'b'\\\\n'b'03.\", 'On', 'filing', 'of', 'complaint,', 'this', 'court', 'has', 'taken', 'cognizance', \"for\\\\n'b'\\\\n'b'the\", 'offence', 'punishable', 'under', 'section', '138', 'of', \"Negotiable\\\\n'b'\\\\n'b'Instrument\", 'Act,', 'sworn', 'statement', 'of', 'complainant', 'was', \"recorded.\\\\n'b'\\\\n'b'Being\", 'satisfied', 'that', 'there', 'are', 'prima-facie', 'materials', 'to', \"proceed\\\\n'b'\\\\n'b'against\", 'accused,', 'summons', 'was', 'issued.', 'After', \"appearance,\\\\n'b'\\\\n'b'accused\", 'enlarged', 'on', 'bail', 'and', 'plea', 'was', 'recorded', 'as', 'per', \"section\\\\n'b'\\\\n'b'251\", 'of', 'Cr.P.C.', 'Accused', 'has', 'not', 'stated', 'the', \"defence.\\\\n'b'\\\\n'b'\\\\n'b'\\\\n'b'04.\", 'When', 'the', 'case', 'was', 'set', 'down', 'for', 'trial,', 'both', 'the', \"parties\\\\n'b'\\\\n'b'and\", 'their', 'counsels', 'filed', 'Joint', 'memo', 'and', 'prays', 'for', \"judgment\\\\n'b'\\\\n'b'accordingly.\\\\n'b'\\\\n'b'\\\\n'b'05.\", 'Heard', 'and', 'perused', 'the', 'materials', 'on', \"record.\\\\n'b'\", '4', 'C.C.23993', \"/2018\\\\n'b'\\\\n'b'06.\", 'The', 'points', 'that', 'arise', 'for', 'my', 'consideration', 'are', 'as', \"follows;\\\\n'b'\\\\n'b'\", \"POINTS\\\\n'b'\\\\n'b'\", '1.', 'Whether', 'the', 'accused', 'is', 'liable', 'to', \"be\\\\n'b'\", 'convicted', 'in', 'terms', 'of', 'Joint', 'memo', \"dated\\\\n'b'\", '30.', \"11.2018?\\\\n'b'\\\\n'b'\", '2.', 'What', \"Order?\\\\n'b'\\\\n'b'\\\\n'b'07.\", 'Now', 'my', 'answer', 'to', 'the', 'above', 'points', 'is', 'as', \"follows;\\\\n'b'\\\\n'b'\", '1.', 'Point', 'No.1:', 'In', 'the', \"affirmative\\\\n'b'\\\\n'b'\", '2.', 'Point', 'No.2:', 'As', 'per', 'final', \"order\\\\n'b'\\\\n'b'\", 'for', 'the', \"following;\\\\n'b'\\\\n'b'\", \"REASONS\\\\n'b'\\\\n'b'08.\", 'POINT', 'No.1:', 'Complainant,', 'accused', 'and', \"respective\\\\n'b'\\\\n'b'counsels\", 'filed', 'Joint', 'memo', 'on', '30.11.2018.', 'The', 'contents', 'of', \"the\\\\n'b'\\\\n'b'same\", 'was', 'read', 'over', 'and', 'explained', 'to', 'the', 'parties.', 'Through', \"Joint\\\\n'b'\\\\n'b'memo,\", 'accused', 'has', 'admitted', 'his', 'liability.', 'Accused', 'has', \"agreed\\\\n'b'\\\\n'b'to\", 'pay', 'Rs.5,50,000/-', 'in', '45', 'monthly', 'installments', 'of', \"Rs.10,000/-\\\\n'b'\\\\n'b'on\", '10th', 'day', 'of', 'each', 'month', 'commencing', 'from', '10.12.2018', \"to\\\\n'b'\\\\n'b'10.08.2022.\\\\n'b'\\\\n'b'\", 'Accused', 'has', 'admitted', 'that,', 'in', 'case', 'of', 'default', 'of', \"payment\\\\n'b'\\\\n'b'within\", 'the', 'stipulated', 'period,', 'complainant', 'is', 'at', 'liberty', 'to', \"take\\\\n'b'\", '5', 'C.C.23993', \"/2018\\\\n'b'\\\\n'b'appropriate\", 'legal', 'action.', 'The', 'terms', 'and', 'conditions', 'mentioned', \"in\\\\n'b'\\\\n'b'memo\", 'is', 'part', 'and', 'parcel', 'of', 'this', \"order.\\\\n'b'\\\\n'b'\\\\n'b'09.\", 'As', 'per', 'the', 'aforesaid', 'memo,', 'accused', 'has', 'admitted', \"the\\\\n'b'\\\\n'b'liability\", 'imposed', 'on', 'him', 'as', 'contemplated', 'in', 'the', 'complaint.', \"The\\\\n'b'\\\\n'b'memo\", 'field', 'by', 'the', 'complainant', 'and', 'accused', 'is', 'sufficient', \"to\\\\n'b'\\\\n'b'answer\", 'point', 'No.1', 'in', 'the', \"affirmative.\\\\n'b'\\\\n'b'\\\\n'b'10.\", 'POINT', 'NO.2:', 'In', 'view', 'of', 'the', 'reasons', 'stated', \"and\\\\n'b'\\\\n'b'discussed\", 'on', 'point', 'No.1,', 'I', 'proceed', 'to', 'pass', 'the', \"following;\\\\n'b'\\\\n'b'\", \"ORDER\\\\n'b'\\\\n'b'\", 'Acting', 'under', 'section', '255', '(2)', \"of\\\\n'b'\\\\n'b'\", 'Criminal', 'Procedure', 'Code,', 'accused', \"is\\\\n'b'\\\\n'b'\", 'hereby', 'convicted', 'for', 'the', 'offence', \"punishable\\\\n'b'\\\\n'b'\", 'under', 'section', '138', 'of', 'Negotiable', \"Instrument\\\\n'b'\\\\n'b'\", 'Act', 'and', 'accused', 'is', 'sentenced', 'to', 'pay', 'a', \"fine\\\\n'b'\\\\n'b'\", 'of', 'Rs.5,50,000/-', '(Five', 'Lakh', \"Fifty\\\\n'b'\\\\n'b'\", 'Thousand', 'only)', 'as', 'settled', 'in', 'the', \"joint\\\\n'b'\\\\n'b'\", \"memo.\\\\n'b'\", '6', 'C.C.23993', \"/2018\\\\n'b'\\\\n'b'\", 'When', 'the', 'said', 'amount', 'is', 'deposited', \"as\\\\n'b'\", 'agreed', 'upon,', 'same', 'shall', 'be', 'paid', 'to', \"the\\\\n'b'\", 'complainant', 'as', \"compensation.\\\\n'b'\\\\n'b'\\\\n'b'\\\\n'b'\", 'Terms', 'and', 'conditions', 'of', 'the', \"joint\\\\n'b'\", 'memo', 'becomes', 'part', 'and', 'parcel', 'of', \"this\\\\n'b'\", \"order.\\\\n'b'\\\\n'b'\\\\n'b'\", 'In', 'default', 'of', 'payment', 'of', 'the', \"fine\\\\n'b'\", 'amount,', 'accused', 'shall', \"undergo\\\\n'b'\", 'imprisonment', 'for', '3', '(Three)', \"months.\\\\n'b'\\\\n'b'\\\\n'b'\\\\n'b'\", 'The', 'bail', 'bond', 'of', 'the', 'accused', \"stands\\\\n'b'\", \"cancelled.\\\\n'b'\\\\n'b'\\\\n'b'\", 'Office', 'to', 'supply', 'the', 'copy', 'of', \"this\\\\n'b'\", 'Judgment', 'to', 'the', 'accused', 'immediately', \"on\\\\n'b'\", 'free', 'of', \"cost.\\\\n'b'\", '{Dictated', 'to', 'the', 'stenographer', 'directly', 'on', 'computer,', 'corrected', \"and\\\\n'b'then\", 'signed', 'by', 'me', 'and', 'then', 'pronounced', 'in', 'the', 'open', 'court', 'on', 'this', \"27th\\\\n'b'day\", 'of', 'December', \"2018}.\\\\n'b'\\\\n'b'\\\\n'b'\", '(KALPANA', \"M.S.),\\\\n'b'\", 'XX', 'ACMM,', \"Bengaluru.\\\\n'b'\", '7', 'C.C.23993', \"/2018\\\\n'b'\\\\n'b'\", \"ANNEXURE\\\\n'b'\\\\n'b'List\", 'of', 'witnesses', 'examined', 'on', 'behalf', 'of', \"Complainant:\\\\n'b'\\\\n'b'\\\\n'b'P.W.1\", \"T.S.Mohana\\\\n'b'\\\\n'b'List\", 'of', 'documents', 'produced', 'on', 'behalf', 'of', \"complainant:\\\\n'b'\\\\n'b'\\\\n'b'Ex.P.1\", \"Cheque\\\\n'b'\\\\n'b'Ex.P.1(a)\", 'Signature', 'of', \"accused\\\\n'b'\\\\n'b'Ex.P.\", '2', 'Bank', \"endorsement\\\\n'b'\\\\n'b'Ex.P.\", '3', 'Copy', 'of', 'the', 'legal', \"notice\\\\n'b'\\\\n'b'Ex.P.\", '4', 'Postal', \"receipt\\\\n'b'\\\\n'b'Ex.P.5\", 'Postal', \"acknowledgement\\\\n'b'\\\\n'b'\\\\n'b'\\\\n'b'List\", 'of', 'witnesses', 'examined', 'on', 'behalf', 'of', \"accused:\\\\n'b'\\\\n'b'\", \"-Nil-\\\\n'b'\\\\n'b'List\", 'of', 'documents', 'produced', 'on', 'behalf', 'of', \"accused:\\\\n'b'\\\\n'b'\", \"-Nil-\\\\n'b'\\\\n'b'\\\\n'b'\", 'XX', \"A.C.M.M.,\\\\n'b'\", \"Bengaluru.\\\\n'b'\", '8', 'C.C.23993', \"/2018\\\\n'b'\\\\n'b'Dated\", \"27.12.2018\\\\n'b'\\\\n'b'\", '(Judgment', 'pronounced', 'in', 'the', 'open', 'court', 'vide', \"separate)\\\\n'b'\\\\n'b'\", \"ORDER\\\\n'b'\\\\n'b'\", 'Acting', 'under', 'section', '255', '(2)', \"of\\\\n'b'\", 'Criminal', 'Procedure', 'Code,', 'accused', \"is\\\\n'b'\", 'hereby', 'convicted', 'for', 'the', 'offence', \"punishable\\\\n'b'\", 'under', 'section', '138', 'of', 'Negotiable', \"Instrument\\\\n'b'\", 'Act', 'and', 'accused', 'is', 'sentenced', 'to', 'pay', 'a', \"fine\\\\n'b'\", 'of', 'Rs.5,50,000/-', '(Five', 'Lakh', \"Fifty\\\\n'b'\", 'Thousand', 'only)', 'as', 'settled', 'in', 'the', \"joint\\\\n'b'\", \"memo.\\\\n'b'\\\\n'b'\", 'When', 'the', 'said', 'amount', 'is', 'deposited', \"as\\\\n'b'\", 'agreed', 'upon,', 'same', 'shall', 'be', 'paid', 'to', \"the\\\\n'b'\", 'complainant', 'as', \"compensation.\\\\n'b'\\\\n'b'\\\\n'b'\", 'Terms', 'and', 'conditions', 'of', 'the', \"joint\\\\n'b'\", 'memo', 'becomes', 'part', 'and', 'parcel', 'of', \"this\\\\n'b'\", \"order.\\\\n'b'\\\\n'b'\\\\n'b'\", 'In', 'default', 'of', 'payment', 'of', 'the', \"fine\\\\n'b'\", 'amount,', 'accused', 'shall', \"undergo\\\\n'b'\", 'imprisonment', 'for', '3', '(Three)', \"months.\\\\n'b'\\\\n'b'\\\\n'b'\", 'The', 'bail', 'bond', 'of', 'the', 'accused', \"stands\\\\n'b'\", \"cancelled.\\\\n'b'\", '9', 'C.C.23993', \"/2018\\\\n'b'\\\\n'b'\\\\n'b'\\\\n'b'\", 'Office', 'to', 'supply', 'the', 'copy', 'of', \"this\\\\n'b'Judgment\", 'to', 'the', 'accused', 'immediately', \"on\\\\n'b'free\", 'of', \"cost.\\\\n'b'\\\\n'b'\\\\n'b'\", 'XX', \"A.C.M.M.,\\\\n'b'\", \"Bengaluru.\\\\n'b'\\\\n'\"]\n"
          ]
        }
      ]
    },
    {
      "cell_type": "code",
      "metadata": {
        "colab": {
          "base_uri": "https://localhost:8080/"
        },
        "id": "qtqCfjAory0N",
        "outputId": "294330e9-1619-45b5-fa10-55b37a3c408a"
      },
      "source": [
        "#Taking just the first 100 words to see the data\n",
        "wordlist2 = wordlist[:100]\n",
        "print (wordlist2)"
      ],
      "execution_count": null,
      "outputs": [
        {
          "output_type": "stream",
          "name": "stdout",
          "text": [
            "[\"b'\\\\n'b'Bangalore\", 'District', \"Court\\\\n'b'T.S.Mohana\", 'vs', 'Sridhar.M', 'on', '27', 'December,', '2018', 'IN', 'THE', 'COURT', 'OF', 'THE', 'XX', 'ADDL.CHIEF', \"METROPOLITAN\\\\n'b'\", 'MAGISTRATE', 'AT', 'BENGALURU', \"CITY\\\\n'b'\\\\n'b'\", 'Dated', 'this', 'the', '27th', 'day', 'of', 'December', \"2018\\\\n'b'\\\\n'b'\", 'PRESENT:', \"KALPANA.M.S.,\\\\n'b'\", 'B.Sc.,', \"LL.M.,\\\\n'b'\", 'XX', 'ADDL.', \"C.M.M.\\\\n'b'\", \"Bengaluru.\\\\n'b'\\\\n'b'\", \"C.C.No.23993/2018\\\\n'b'\\\\n'b'Complainant\", ':', \"T.S.Mohana,\\\\n'b'\", \"S/o.T.S.Shivanna,\\\\n'b'\", 'Aged', 'about', '38', \"years,\\\\n'b'\", 'R/at', 'No.479,', 'L.N.School', \"Road,\\\\n'b'\", \"Meenakshinagara,\\\\n'b'\", 'New', 'extension,', \"Kamakshipalya,\\\\n'b'\", 'Bengaluru', '-', '560', \"079.\\\\n'b'\\\\n'b'\", \"Vs.\\\\n'b'\\\\n'b'Accused\", ':', \"Sridhar.M,\\\\n'b'\", \"S/o.Maniraju,\\\\n'b'\", 'Aged', 'about', '40', \"years,\\\\n'b'\", 'Office', 'at.', 'TD', 'POWER', 'SYSTEMS', \"LTD,\\\\n'b'\", 'No.27,28,29,', 'KIADB', 'Industrial', \"Area,\\\\n'b'\", 'Dabaspete,', 'Nelamangala', \"Taluk,\\\\n'b'\", 'Bengaluru', '-', '562', \"111.\\\\n'b'\\\\n'b'\\\\n'b'Offence\", 'complied', 'of', ':', 'U/S.', '138', 'of', 'N.I.', \"Act.,\\\\n'b'\\\\n'b'\\\\n'b'Plea\", 'of', 'accused', ':', 'Pleaded', 'not', \"guilty\\\\n'b'\\\\n'b'\\\\n'b'Final\", 'Order', ':', 'Accused', 'is']\n"
          ]
        }
      ]
    },
    {
      "cell_type": "code",
      "metadata": {
        "id": "vDLnVMtyp3hf"
      },
      "source": [
        "#Counting the word frequencies\n",
        "wordfreq = [wordlist.count(w) for w in wordlist]"
      ],
      "execution_count": null,
      "outputs": []
    },
    {
      "cell_type": "code",
      "metadata": {
        "colab": {
          "base_uri": "https://localhost:8080/"
        },
        "id": "EtrVhiutqBIn",
        "outputId": "f1720971-c7d5-414f-a22b-43cbe2d361d6"
      },
      "source": [
        "#Printing the first 100 frequencies\n",
        "wordfreq[:100]"
      ],
      "execution_count": null,
      "outputs": [
        {
          "output_type": "execute_result",
          "data": {
            "text/plain": [
              "[1,\n",
              " 8,\n",
              " 8,\n",
              " 8,\n",
              " 8,\n",
              " 136,\n",
              " 8,\n",
              " 8,\n",
              " 8,\n",
              " 8,\n",
              " 16,\n",
              " 8,\n",
              " 8,\n",
              " 16,\n",
              " 40,\n",
              " 8,\n",
              " 8,\n",
              " 8,\n",
              " 8,\n",
              " 8,\n",
              " 8,\n",
              " 8,\n",
              " 40,\n",
              " 400,\n",
              " 8,\n",
              " 16,\n",
              " 416,\n",
              " 16,\n",
              " 8,\n",
              " 8,\n",
              " 8,\n",
              " 8,\n",
              " 8,\n",
              " 40,\n",
              " 8,\n",
              " 8,\n",
              " 8,\n",
              " 8,\n",
              " 48,\n",
              " 8,\n",
              " 8,\n",
              " 16,\n",
              " 16,\n",
              " 8,\n",
              " 16,\n",
              " 8,\n",
              " 8,\n",
              " 8,\n",
              " 8,\n",
              " 8,\n",
              " 8,\n",
              " 8,\n",
              " 8,\n",
              " 16,\n",
              " 16,\n",
              " 8,\n",
              " 8,\n",
              " 8,\n",
              " 48,\n",
              " 8,\n",
              " 8,\n",
              " 16,\n",
              " 16,\n",
              " 8,\n",
              " 16,\n",
              " 24,\n",
              " 8,\n",
              " 8,\n",
              " 8,\n",
              " 8,\n",
              " 8,\n",
              " 8,\n",
              " 8,\n",
              " 8,\n",
              " 8,\n",
              " 8,\n",
              " 8,\n",
              " 8,\n",
              " 16,\n",
              " 16,\n",
              " 8,\n",
              " 8,\n",
              " 8,\n",
              " 416,\n",
              " 48,\n",
              " 8,\n",
              " 40,\n",
              " 416,\n",
              " 8,\n",
              " 8,\n",
              " 416,\n",
              " 184,\n",
              " 48,\n",
              " 8,\n",
              " 16,\n",
              " 8,\n",
              " 16,\n",
              " 48,\n",
              " 40,\n",
              " 88]"
            ]
          },
          "metadata": {},
          "execution_count": 19
        }
      ]
    },
    {
      "cell_type": "code",
      "metadata": {
        "id": "bc0ptvgIsUOq"
      },
      "source": [
        "#Making a dictionary using list and frequency\n",
        "def wordListToFreqDict(wordlist,wordfreq):\n",
        "    return dict(list(zip(wordlist,wordfreq)))"
      ],
      "execution_count": null,
      "outputs": []
    },
    {
      "cell_type": "code",
      "metadata": {
        "colab": {
          "base_uri": "https://localhost:8080/"
        },
        "id": "FD8AoBDastRv",
        "outputId": "2bcd20d5-f43e-496a-bb93-0f064ae4458e"
      },
      "source": [
        "#Calling function\n",
        "word_dict = wordListToFreqDict(wordlist, wordfreq)\n",
        "print (word_dict)"
      ],
      "execution_count": null,
      "outputs": [
        {
          "output_type": "stream",
          "name": "stdout",
          "text": [
            "{\"b'\\\\n'b'Bangalore\": 1, 'District': 8, \"Court\\\\n'b'T.S.Mohana\": 8, 'vs': 8, 'Sridhar.M': 8, 'on': 136, '27': 8, 'December,': 8, '2018': 8, 'IN': 8, 'THE': 16, 'COURT': 8, 'OF': 8, 'XX': 40, 'ADDL.CHIEF': 8, \"METROPOLITAN\\\\n'b'\": 8, 'MAGISTRATE': 8, 'AT': 8, 'BENGALURU': 8, \"CITY\\\\n'b'\\\\n'b'\": 8, 'Dated': 8, 'this': 40, 'the': 400, '27th': 8, 'day': 16, 'of': 416, 'December': 16, \"2018\\\\n'b'\\\\n'b'\": 8, 'PRESENT:': 8, \"KALPANA.M.S.,\\\\n'b'\": 8, 'B.Sc.,': 8, \"LL.M.,\\\\n'b'\": 8, 'ADDL.': 8, \"C.M.M.\\\\n'b'\": 8, \"Bengaluru.\\\\n'b'\\\\n'b'\": 8, \"C.C.No.23993/2018\\\\n'b'\\\\n'b'Complainant\": 8, ':': 48, \"T.S.Mohana,\\\\n'b'\": 8, \"S/o.T.S.Shivanna,\\\\n'b'\": 8, 'Aged': 16, 'about': 16, '38': 8, \"years,\\\\n'b'\": 16, 'R/at': 8, 'No.479,': 8, 'L.N.School': 8, \"Road,\\\\n'b'\": 8, \"Meenakshinagara,\\\\n'b'\": 8, 'New': 8, 'extension,': 8, \"Kamakshipalya,\\\\n'b'\": 8, 'Bengaluru': 16, '-': 16, '560': 8, \"079.\\\\n'b'\\\\n'b'\": 8, \"Vs.\\\\n'b'\\\\n'b'Accused\": 8, \"Sridhar.M,\\\\n'b'\": 8, \"S/o.Maniraju,\\\\n'b'\": 8, '40': 8, 'Office': 24, 'at.': 8, 'TD': 8, 'POWER': 8, 'SYSTEMS': 8, \"LTD,\\\\n'b'\": 8, 'No.27,28,29,': 8, 'KIADB': 8, 'Industrial': 8, \"Area,\\\\n'b'\": 8, 'Dabaspete,': 8, 'Nelamangala': 8, \"Taluk,\\\\n'b'\": 8, '562': 8, \"111.\\\\n'b'\\\\n'b'\\\\n'b'Offence\": 8, 'complied': 8, 'U/S.': 8, '138': 40, 'N.I.': 8, \"Act.,\\\\n'b'\\\\n'b'\\\\n'b'Plea\": 8, 'accused': 184, 'Pleaded': 8, 'not': 16, \"guilty\\\\n'b'\\\\n'b'\\\\n'b'Final\": 8, 'Order': 16, 'Accused': 40, 'is': 88, \"Convicted\\\\n'b'\": 8, '2': 16, 'C.C.23993': 64, \"/2018\\\\n'b'\\\\n'b'Date\": 8, \"27.12.2018\\\\n'b'\\\\n'b'\\\\n'b'\\\\n'b'\": 8, \"JUDGMENT\\\\n'b'\\\\n'b'\": 8, 'The': 64, 'complainant': 64, 'has': 64, 'filed': 24, 'complaint': 8, 'under': 56, \"section\\\\n'b'\\\\n'b'200\": 8, 'code': 8, 'criminal': 8, 'procedure': 8, 'alleging': 8, 'that': 24, \"has\\\\n'b'\\\\n'b'committed\": 8, 'an': 16, 'offence': 32, 'punishable': 16, 'section': 48, \"of\\\\n'b'\\\\n'b'Negotiable\": 8, 'Instrument': 8, 'Act': 24, '(': 8, 'in': 80, 'short': 8, 'referred': 8, 'as': 80, '\"N.I.': 8, 'Act\").\\\\n\\'b\\'\\\\n\\'b\\'\\\\n\\'b\\'\\\\n\\'b\\'02.': 8, 'sum': 8, 'and': 144, 'substance': 8, 'complaint,': 16, \"follows;\\\\n'b'\\\\n'b'\": 24, 'are': 24, 'known': 8, 'to': 168, 'each': 16, 'other': 8, \"from\\\\n'b'\\\\n'b'past\": 8, 'five': 8, 'years.': 8, 'In': 40, 'year': 8, '2015,': 8, 'obtained': 8, \"loan\\\\n'b'\\\\n'b'of\": 8, 'Rs.7,00,000/-': 8, 'from': 32, 'for': 80, 'his': 24, \"financial\\\\n'b'\\\\n'b'commitments\": 8, 'agreed': 32, 'repay': 8, 'same': 24, 'or': 8, 'before': 8, \"March\\\\n'b'\\\\n'b'2016.\": 8, 'Complainant': 8, 'receive': 8, 'said': 32, 'amount': 32, \"on\\\\n'b'\\\\n'b'monthly\": 8, 'installments': 16, 'Rs.12,000/-.': 8, 'paid': 32, \"amount\\\\n'b'\\\\n'b'of\": 8, 'Rs.12,000/-': 8, 'since': 8, 'March': 16, '2016': 16, 'February': 8, \"and\\\\n'b'\\\\n'b'stopped\": 8, 'paying': 8, 'month': 16, \"2018.\\\\n'b'\\\\n'b'Complainant\": 8, 'demanded': 8, 'legally': 8, 'recoverable': 8, \"debt\\\\n'b'\\\\n'b'due\": 8, 'by': 24, 'him.': 8, 'Towards': 8, 'discharge': 8, 'liability,': 8, \"has\\\\n'b'\\\\n'b'issued\": 8, 'a': 24, 'Cheque': 8, 'bearing': 8, 'No.000089': 8, 'dated': 8, '10.04.2018': 8, \"for\\\\n'b'\": 8, '3': 32, \"/2018\\\\n'b'\\\\n'b'Rs.4,80,000/-,\": 8, 'which': 8, 'came': 8, 'be': 24, 'dishonoured': 8, \"presentation\\\\n'b'\\\\n'b'with\": 8, 'endorsement': 8, '\"Funds': 8, 'Insufficient\".': 8, \"Thereafter,\\\\n'b'\\\\n'b'complainant\": 8, 'got': 8, 'issued': 8, 'legal': 24, 'notice': 16, \"05.07.2018,\\\\n'b'\\\\n'b'which\": 8, 'was': 48, 'duly': 8, 'served': 8, '09.07.2018.': 8, \"Accused\\\\n'b'\\\\n'b'neither\": 8, 'replied': 8, 'nor': 8, 'cheque': 8, 'amount.': 8, \"Hence\\\\n'b'\\\\n'b'this\": 8, \"complaint.\\\\n'b'\\\\n'b'\\\\n'b'03.\": 8, 'On': 8, 'filing': 8, 'court': 24, 'taken': 8, 'cognizance': 8, \"for\\\\n'b'\\\\n'b'the\": 8, \"Negotiable\\\\n'b'\\\\n'b'Instrument\": 8, 'Act,': 8, 'sworn': 8, 'statement': 8, \"recorded.\\\\n'b'\\\\n'b'Being\": 8, 'satisfied': 8, 'there': 8, 'prima-facie': 8, 'materials': 16, \"proceed\\\\n'b'\\\\n'b'against\": 8, 'accused,': 8, 'summons': 8, 'issued.': 8, 'After': 8, \"appearance,\\\\n'b'\\\\n'b'accused\": 8, 'enlarged': 8, 'bail': 24, 'plea': 8, 'recorded': 8, 'per': 24, \"section\\\\n'b'\\\\n'b'251\": 8, 'Cr.P.C.': 8, 'stated': 16, \"defence.\\\\n'b'\\\\n'b'\\\\n'b'\\\\n'b'04.\": 8, 'When': 24, 'case': 16, 'set': 8, 'down': 8, 'trial,': 8, 'both': 8, \"parties\\\\n'b'\\\\n'b'and\": 8, 'their': 8, 'counsels': 8, 'Joint': 24, 'memo': 40, 'prays': 8, \"judgment\\\\n'b'\\\\n'b'accordingly.\\\\n'b'\\\\n'b'\\\\n'b'05.\": 8, 'Heard': 8, 'perused': 8, \"record.\\\\n'b'\": 8, '4': 16, \"/2018\\\\n'b'\\\\n'b'06.\": 8, 'points': 16, 'arise': 8, 'my': 16, 'consideration': 8, \"POINTS\\\\n'b'\\\\n'b'\": 8, '1.': 16, 'Whether': 8, 'liable': 8, \"be\\\\n'b'\": 8, 'convicted': 24, 'terms': 16, \"dated\\\\n'b'\": 8, '30.': 8, \"11.2018?\\\\n'b'\\\\n'b'\": 8, '2.': 16, 'What': 8, \"Order?\\\\n'b'\\\\n'b'\\\\n'b'07.\": 8, 'Now': 8, 'answer': 8, 'above': 8, 'Point': 16, 'No.1:': 16, \"affirmative\\\\n'b'\\\\n'b'\": 8, 'No.2:': 8, 'As': 16, 'final': 8, \"order\\\\n'b'\\\\n'b'\": 8, \"following;\\\\n'b'\\\\n'b'\": 16, \"REASONS\\\\n'b'\\\\n'b'08.\": 8, 'POINT': 16, 'Complainant,': 8, \"respective\\\\n'b'\\\\n'b'counsels\": 8, '30.11.2018.': 8, 'contents': 8, \"the\\\\n'b'\\\\n'b'same\": 8, 'read': 8, 'over': 8, 'explained': 8, 'parties.': 8, 'Through': 8, \"Joint\\\\n'b'\\\\n'b'memo,\": 8, 'admitted': 24, 'liability.': 8, \"agreed\\\\n'b'\\\\n'b'to\": 8, 'pay': 24, 'Rs.5,50,000/-': 24, '45': 8, 'monthly': 8, \"Rs.10,000/-\\\\n'b'\\\\n'b'on\": 8, '10th': 8, 'commencing': 8, '10.12.2018': 8, \"to\\\\n'b'\\\\n'b'10.08.2022.\\\\n'b'\\\\n'b'\": 8, 'that,': 8, 'default': 24, \"payment\\\\n'b'\\\\n'b'within\": 8, 'stipulated': 8, 'period,': 8, 'at': 8, 'liberty': 8, \"take\\\\n'b'\": 8, '5': 8, \"/2018\\\\n'b'\\\\n'b'appropriate\": 8, 'action.': 8, 'conditions': 24, 'mentioned': 8, \"in\\\\n'b'\\\\n'b'memo\": 8, 'part': 24, 'parcel': 24, \"order.\\\\n'b'\\\\n'b'\\\\n'b'09.\": 8, 'aforesaid': 8, 'memo,': 8, \"the\\\\n'b'\\\\n'b'liability\": 8, 'imposed': 8, 'him': 8, 'contemplated': 8, 'complaint.': 8, \"The\\\\n'b'\\\\n'b'memo\": 8, 'field': 8, 'sufficient': 8, \"to\\\\n'b'\\\\n'b'answer\": 8, 'point': 16, 'No.1': 8, \"affirmative.\\\\n'b'\\\\n'b'\\\\n'b'10.\": 8, 'NO.2:': 8, 'view': 8, 'reasons': 8, \"and\\\\n'b'\\\\n'b'discussed\": 8, 'No.1,': 8, 'I': 8, 'proceed': 8, 'pass': 8, \"ORDER\\\\n'b'\\\\n'b'\": 16, 'Acting': 16, '255': 16, '(2)': 16, \"of\\\\n'b'\\\\n'b'\": 8, 'Criminal': 16, 'Procedure': 16, 'Code,': 16, \"is\\\\n'b'\\\\n'b'\": 8, 'hereby': 16, \"punishable\\\\n'b'\\\\n'b'\": 8, 'Negotiable': 16, \"Instrument\\\\n'b'\\\\n'b'\": 8, 'sentenced': 16, \"fine\\\\n'b'\\\\n'b'\": 8, '(Five': 16, 'Lakh': 16, \"Fifty\\\\n'b'\\\\n'b'\": 8, 'Thousand': 16, 'only)': 16, 'settled': 16, \"joint\\\\n'b'\\\\n'b'\": 8, \"memo.\\\\n'b'\": 8, '6': 8, \"/2018\\\\n'b'\\\\n'b'\": 16, 'deposited': 16, \"as\\\\n'b'\": 16, 'upon,': 16, 'shall': 32, \"the\\\\n'b'\": 16, \"compensation.\\\\n'b'\\\\n'b'\\\\n'b'\\\\n'b'\": 8, 'Terms': 16, \"joint\\\\n'b'\": 24, 'becomes': 16, \"this\\\\n'b'\": 24, \"order.\\\\n'b'\\\\n'b'\\\\n'b'\": 16, 'payment': 16, \"fine\\\\n'b'\": 24, 'amount,': 16, \"undergo\\\\n'b'\": 16, 'imprisonment': 16, '(Three)': 16, \"months.\\\\n'b'\\\\n'b'\\\\n'b'\\\\n'b'\": 8, 'bond': 16, \"stands\\\\n'b'\": 16, \"cancelled.\\\\n'b'\\\\n'b'\\\\n'b'\": 8, 'supply': 16, 'copy': 16, 'Judgment': 8, 'immediately': 16, \"on\\\\n'b'\": 8, 'free': 8, \"cost.\\\\n'b'\": 8, '{Dictated': 8, 'stenographer': 8, 'directly': 8, 'computer,': 8, 'corrected': 8, \"and\\\\n'b'then\": 8, 'signed': 8, 'me': 8, 'then': 8, 'pronounced': 16, 'open': 16, \"27th\\\\n'b'day\": 8, \"2018}.\\\\n'b'\\\\n'b'\\\\n'b'\": 8, '(KALPANA': 8, \"M.S.),\\\\n'b'\": 8, 'ACMM,': 8, \"Bengaluru.\\\\n'b'\": 16, '7': 8, \"ANNEXURE\\\\n'b'\\\\n'b'List\": 8, 'witnesses': 16, 'examined': 16, 'behalf': 32, \"Complainant:\\\\n'b'\\\\n'b'\\\\n'b'P.W.1\": 8, \"T.S.Mohana\\\\n'b'\\\\n'b'List\": 8, 'documents': 16, 'produced': 16, \"complainant:\\\\n'b'\\\\n'b'\\\\n'b'Ex.P.1\": 8, \"Cheque\\\\n'b'\\\\n'b'Ex.P.1(a)\": 8, 'Signature': 8, \"accused\\\\n'b'\\\\n'b'Ex.P.\": 8, 'Bank': 8, \"endorsement\\\\n'b'\\\\n'b'Ex.P.\": 8, 'Copy': 8, \"notice\\\\n'b'\\\\n'b'Ex.P.\": 8, 'Postal': 16, \"receipt\\\\n'b'\\\\n'b'Ex.P.5\": 8, \"acknowledgement\\\\n'b'\\\\n'b'\\\\n'b'\\\\n'b'List\": 8, \"accused:\\\\n'b'\\\\n'b'\": 16, \"-Nil-\\\\n'b'\\\\n'b'List\": 8, \"-Nil-\\\\n'b'\\\\n'b'\\\\n'b'\": 8, \"A.C.M.M.,\\\\n'b'\": 16, '8': 8, \"/2018\\\\n'b'\\\\n'b'Dated\": 8, \"27.12.2018\\\\n'b'\\\\n'b'\": 8, '(Judgment': 8, 'vide': 8, \"separate)\\\\n'b'\\\\n'b'\": 8, \"of\\\\n'b'\": 8, \"is\\\\n'b'\": 8, \"punishable\\\\n'b'\": 8, \"Instrument\\\\n'b'\": 8, \"Fifty\\\\n'b'\": 8, \"memo.\\\\n'b'\\\\n'b'\": 8, \"compensation.\\\\n'b'\\\\n'b'\\\\n'b'\": 8, \"months.\\\\n'b'\\\\n'b'\\\\n'b'\": 8, \"cancelled.\\\\n'b'\": 8, '9': 8, \"/2018\\\\n'b'\\\\n'b'\\\\n'b'\\\\n'b'\": 8, \"this\\\\n'b'Judgment\": 8, \"on\\\\n'b'free\": 8, \"cost.\\\\n'b'\\\\n'b'\\\\n'b'\": 8, \"Bengaluru.\\\\n'b'\\\\n'b'\\\\n'b'Bangalore\": 7, \"Bengaluru.\\\\n'b'\\\\n'\": 1}\n"
          ]
        }
      ]
    },
    {
      "cell_type": "code",
      "metadata": {
        "id": "ZQA5NPUDsmnq"
      },
      "source": [
        "#Sorting the dictionary\n",
        "def sortFreqDict(freqdict):\n",
        "    aux = [(freqdict[key], key) for key in freqdict]\n",
        "    aux.sort()\n",
        "    aux.reverse()\n",
        "    return aux"
      ],
      "execution_count": null,
      "outputs": []
    },
    {
      "cell_type": "code",
      "metadata": {
        "id": "J6OjvYx_z5ND"
      },
      "source": [
        "mappable_dict = sortFreqDict(word_dict)"
      ],
      "execution_count": null,
      "outputs": []
    },
    {
      "cell_type": "code",
      "metadata": {
        "id": "FZmwTXD4z9d0",
        "colab": {
          "base_uri": "https://localhost:8080/"
        },
        "outputId": "ab37e628-c6c7-4d17-baf1-61ed915624f4"
      },
      "source": [
        "#Words with highest frequency \n",
        "mappable_freq = mappable_dict[:10]\n",
        "print (mappable_freq)"
      ],
      "execution_count": null,
      "outputs": [
        {
          "output_type": "stream",
          "name": "stdout",
          "text": [
            "[(416, 'of'), (400, 'the'), (184, 'accused'), (168, 'to'), (144, 'and'), (136, 'on'), (88, 'is'), (80, 'in'), (80, 'for'), (80, 'as')]\n"
          ]
        }
      ]
    },
    {
      "cell_type": "code",
      "metadata": {
        "colab": {
          "base_uri": "https://localhost:8080/",
          "height": 265
        },
        "id": "s_ehfrmuNctl",
        "outputId": "81429ca6-b64c-4ea4-ee3f-3731dbe2b79f"
      },
      "source": [
        "#Mapping using matplotlib\n",
        "\n",
        "import matplotlib.pylab as plt\n",
        "\n",
        "x, y = zip(*mappable_freq) # unpack a list of pairs into two tuples\n",
        "\n",
        "plt.plot(x, y)\n",
        "plt.show()\n"
      ],
      "execution_count": null,
      "outputs": [
        {
          "output_type": "display_data",
          "data": {
            "image/png": "[encoded data removed]",
            "text/plain": [
              "<Figure size 432x288 with 1 Axes>"
            ]
          },
          "metadata": {
            "needs_background": "light"
          }
        }
      ]
    },
    {
      "cell_type": "code",
      "metadata": {
        "colab": {
          "base_uri": "https://localhost:8080/",
          "height": 265
        },
        "id": "nQY-Q7KrNuME",
        "outputId": "3093a8e6-c5f0-4378-d89e-ceccec138d2a"
      },
      "source": [
        "plt.bar(y,x)\n",
        "plt.show()"
      ],
      "execution_count": null,
      "outputs": [
        {
          "output_type": "display_data",
          "data": {
            "image/png": "[encoded data removed]",
            "text/plain": [
              "<Figure size 432x288 with 1 Axes>"
            ]
          },
          "metadata": {
            "needs_background": "light"
          }
        }
      ]
    },
    {
      "cell_type": "code",
      "metadata": {
        "colab": {
          "base_uri": "https://localhost:8080/"
        },
        "id": "wr_CCny9UIAf",
        "outputId": "efeb4ffc-f649-4d30-a681-15c842398a7a"
      },
      "source": [
        "\n",
        "import nltk\n",
        "nltk.download('stopwords')\n"
      ],
      "execution_count": null,
      "outputs": [
        {
          "output_type": "stream",
          "name": "stdout",
          "text": [
            "[nltk_data] Downloading package stopwords to /root/nltk_data...\n",
            "[nltk_data]   Unzipping corpora/stopwords.zip.\n"
          ]
        },
        {
          "output_type": "execute_result",
          "data": {
            "text/plain": [
              "True"
            ]
          },
          "metadata": {},
          "execution_count": 26
        }
      ]
    },
    {
      "cell_type": "code",
      "metadata": {
        "id": "ZyW1qcgsPwJQ"
      },
      "source": [
        "# Cleaning the data \n",
        "\n",
        "#Removing the stop words  https://towardsdatascience.com/cleaning-text-data-with-python-b69b47b97b76\n",
        "\n",
        "#stop_words = stopwords.words(\"english\")\n",
        "from nltk.corpus import stopwords\n",
        "stop_words = set(stopwords.words('english'))\n",
        "\n",
        "#wordlist2=wordlist\n",
        "wordfreq2=wordfreq\n",
        "\n",
        "#print (wordlist2[:10])\n",
        "\n",
        "wordstring2 =wordstring2.lower()\n",
        "\n",
        "stop_words = stopwords.words(\"english\")\n",
        "work_string = ' '.join([word for word in wordstring2.split(' ') if word not in stop_words])\n",
        "print(wordstring2)\n",
        "print(work_string)\n",
        "\n",
        "\n"
      ],
      "execution_count": null,
      "outputs": []
    },
    {
      "cell_type": "code",
      "metadata": {
        "id": "gNixp-N5aX_j",
        "colab": {
          "base_uri": "https://localhost:8080/",
          "height": 162
        },
        "outputId": "32666d85-ec2d-4f6b-cbf9-9a1383375726"
      },
      "source": [
        "wordstring2"
      ],
      "execution_count": null,
      "outputs": [
        {
          "output_type": "error",
          "ename": "NameError",
          "evalue": "ignored",
          "traceback": [
            "\u001b[0;31m---------------------------------------------------------------------------\u001b[0m",
            "\u001b[0;31mNameError\u001b[0m                                 Traceback (most recent call last)",
            "\u001b[0;32m<ipython-input-1-a57fbb6c9df9>\u001b[0m in \u001b[0;36m<module>\u001b[0;34m()\u001b[0m\n\u001b[0;32m----> 1\u001b[0;31m \u001b[0mwordstring2\u001b[0m\u001b[0;34m\u001b[0m\u001b[0;34m\u001b[0m\u001b[0m\n\u001b[0m",
            "\u001b[0;31mNameError\u001b[0m: name 'wordstring2' is not defined"
          ]
        }
      ]
    },
    {
      "cell_type": "code",
      "metadata": {
        "id": "M5R9sfo6iy1N"
      },
      "source": [
        "work_string = work_string.replace(':',' ')\n",
        "work_string = work_string.replace('\\\\n',' ')\n",
        "work_string = work_string.replace(\"'b'\",' ')\n",
        "\n"
      ],
      "execution_count": null,
      "outputs": []
    },
    {
      "cell_type": "code",
      "metadata": {
        "colab": {
          "base_uri": "https://localhost:8080/"
        },
        "id": "KDNwcBwkilSl",
        "outputId": "2e52ccf9-fbba-4323-fed3-ec1af99eb520"
      },
      "source": [
        "type(work_string)\n",
        "print (work_string[:200])"
      ],
      "execution_count": null,
      "outputs": [
        {
          "output_type": "stream",
          "name": "stdout",
          "text": [
            "b'  bangalore district court  t.s.mohana vs sridhar.m 27 december, 2018 court xx addl.chief metropolitan            magistrate bengaluru city                  dated 27th day december 2018             \n"
          ]
        }
      ]
    },
    {
      "cell_type": "code",
      "metadata": {
        "colab": {
          "base_uri": "https://localhost:8080/"
        },
        "id": "sM5U4VyeRYRw",
        "outputId": "499106cf-d765-4cb5-acb1-fc231ec21965"
      },
      "source": [
        "word_list = work_string.split()\n",
        "print (word_list)"
      ],
      "execution_count": null,
      "outputs": [
        {
          "output_type": "stream",
          "name": "stdout",
          "text": [
            "[\"b'\", 'bangalore', 'district', 'court', 't.s.mohana', 'vs', 'sridhar.m', '27', 'december,', '2018', 'court', 'xx', 'addl.chief', 'metropolitan', 'magistrate', 'bengaluru', 'city', 'dated', '27th', 'day', 'december', '2018', 'present', 'kalpana.m.s.,', 'b.sc.,', 'll.m.,', 'xx', 'addl.', 'c.m.m.', 'bengaluru.', 'c.c.no.23993/2018', 'complainant', 't.s.mohana,', 's/o.t.s.shivanna,', 'aged', '38', 'years,', 'r/at', 'no.479,', 'l.n.school', 'road,', 'meenakshinagara,', 'new', 'extension,', 'kamakshipalya,', 'bengaluru', '-', '560', '079.', 'vs.', 'accused', 'sridhar.m,', 's/o.maniraju,', 'aged', '40', 'years,', 'office', 'at.', 'td', 'power', 'systems', 'ltd,', 'no.27,28,29,', 'kiadb', 'industrial', 'area,', 'dabaspete,', 'nelamangala', 'taluk,', 'bengaluru', '-', '562', '111.', 'offence', 'complied', 'u/s.', '138', 'n.i.', 'act.,', 'plea', 'accused', 'pleaded', 'guilty', 'final', 'order', 'accused', 'convicted', '2', 'c.c.23993', '/2018', 'date', 'order', '27.12.2018', 'judgment', 'complainant', 'filed', 'complaint', 'section', '200', 'code', 'criminal', 'procedure', 'alleging', 'accused', 'has', 'committed', 'offence', 'punishable', 'section', '138', 'of', 'negotiable', 'instrument', 'act', '(', 'short', 'referred', '\"n.i.', 'act\").', '02.', 'sum', 'substance', 'complaint,', 'follows;', 'complainant', 'accused', 'known', 'from', 'past', 'five', 'years.', 'year', '2015,', 'accused', 'obtained', 'loan', 'of', 'rs.7,00,000/-', 'complainant', 'financial', 'commitments', 'agreed', 'repay', 'march', '2016.', 'complainant', 'agreed', 'receive', 'said', 'amount', 'on', 'monthly', 'installments', 'rs.12,000/-.', 'accused', 'paid', 'amount', 'of', 'rs.12,000/-', 'since', 'march', '2016', 'february', '2016', 'and', 'stopped', 'paying', 'said', 'amount', 'month', 'march', '2018.', 'complainant', 'demanded', 'accused', 'legally', 'recoverable', 'debt', 'due', 'him.', 'towards', 'discharge', 'liability,', 'accused', 'has', 'issued', 'cheque', 'bearing', 'no.000089', 'dated', '10.04.2018', 'for', '3', 'c.c.23993', '/2018', 'rs.4,80,000/-,', 'came', 'dishonoured', 'presentation', 'with', 'endorsement', '\"funds', 'insufficient\".', 'thereafter,', 'complainant', 'got', 'issued', 'legal', 'notice', 'accused', '05.07.2018,', 'which', 'duly', 'served', 'accused', '09.07.2018.', 'accused', 'neither', 'replied', 'notice', 'paid', 'cheque', 'amount.', 'hence', 'this', 'complaint.', '03.', 'filing', 'complaint,', 'court', 'taken', 'cognizance', 'for', 'the', 'offence', 'punishable', 'section', '138', 'negotiable', 'instrument', 'act,', 'sworn', 'statement', 'complainant', 'recorded.', 'being', 'satisfied', 'prima-facie', 'materials', 'proceed', 'against', 'accused,', 'summons', 'issued.', 'appearance,', 'accused', 'enlarged', 'bail', 'plea', 'recorded', 'per', 'section', '251', 'cr.p.c.', 'accused', 'stated', 'defence.', '04.', 'case', 'set', 'trial,', 'parties', 'and', 'counsels', 'filed', 'joint', 'memo', 'prays', 'judgment', 'accordingly.', '05.', 'heard', 'perused', 'materials', 'record.', '4', 'c.c.23993', '/2018', '06.', 'points', 'arise', 'consideration', 'follows;', 'points', '1.', 'whether', 'accused', 'liable', 'be', 'convicted', 'terms', 'joint', 'memo', 'dated', '30.', '11.2018?', '2.', 'order?', '07.', 'answer', 'points', 'follows;', '1.', 'point', 'no.1', 'affirmative', '2.', 'point', 'no.2', 'per', 'final', 'order', 'following;', 'reasons', '08.', 'point', 'no.1', 'complainant,', 'accused', 'respective', 'counsels', 'filed', 'joint', 'memo', '30.11.2018.', 'contents', 'the', 'same', 'read', 'explained', 'parties.', 'joint', 'memo,', 'accused', 'admitted', 'liability.', 'accused', 'agreed', 'to', 'pay', 'rs.5,50,000/-', '45', 'monthly', 'installments', 'rs.10,000/-', 'on', '10th', 'day', 'month', 'commencing', '10.12.2018', 'to', '10.08.2022.', 'accused', 'admitted', 'that,', 'case', 'default', 'payment', 'within', 'stipulated', 'period,', 'complainant', 'liberty', 'take', '5', 'c.c.23993', '/2018', 'appropriate', 'legal', 'action.', 'terms', 'conditions', 'mentioned', 'in', 'memo', 'part', 'parcel', 'order.', '09.', 'per', 'aforesaid', 'memo,', 'accused', 'admitted', 'the', 'liability', 'imposed', 'contemplated', 'complaint.', 'the', 'memo', 'field', 'complainant', 'accused', 'sufficient', 'to', 'answer', 'point', 'no.1', 'affirmative.', '10.', 'point', 'no.2', 'view', 'reasons', 'stated', 'and', 'discussed', 'point', 'no.1,', 'proceed', 'pass', 'following;', 'order', 'acting', 'section', '255', '(2)', 'of', 'criminal', 'procedure', 'code,', 'accused', 'is', 'hereby', 'convicted', 'offence', 'punishable', 'section', '138', 'negotiable', 'instrument', 'act', 'accused', 'sentenced', 'pay', 'fine', 'rs.5,50,000/-', '(five', 'lakh', 'fifty', 'thousand', 'only)', 'settled', 'joint', 'memo.', '6', 'c.c.23993', '/2018', 'said', 'amount', 'deposited', 'as', 'agreed', 'upon,', 'shall', 'paid', 'the', 'complainant', 'compensation.', 'terms', 'conditions', 'joint', 'memo', 'becomes', 'part', 'parcel', 'this', 'order.', 'default', 'payment', 'fine', 'amount,', 'accused', 'shall', 'undergo', 'imprisonment', '3', '(three)', 'months.', 'bail', 'bond', 'accused', 'stands', 'cancelled.', 'office', 'supply', 'copy', 'this', 'judgment', 'accused', 'immediately', 'on', 'free', 'cost.', '{dictated', 'stenographer', 'directly', 'computer,', 'corrected', 'and', 'then', 'signed', 'pronounced', 'open', 'court', '27th', 'day', 'december', '2018}.', '(kalpana', 'm.s.),', 'xx', 'acmm,', 'bengaluru.', '7', 'c.c.23993', '/2018', 'annexure', 'list', 'witnesses', 'examined', 'behalf', 'complainant', 'p.w.1', 't.s.mohana', 'list', 'documents', 'produced', 'behalf', 'complainant', 'ex.p.1', 'cheque', 'ex.p.1(a)', 'signature', 'accused', 'ex.p.', '2', 'bank', 'endorsement', 'ex.p.', '3', 'copy', 'legal', 'notice', 'ex.p.', '4', 'postal', 'receipt', 'ex.p.5', 'postal', 'acknowledgement', 'list', 'witnesses', 'examined', 'behalf', 'accused', '-nil-', 'list', 'documents', 'produced', 'behalf', 'accused', '-nil-', 'xx', 'a.c.m.m.,', 'bengaluru.', '8', 'c.c.23993', '/2018', 'dated', '27.12.2018', '(judgment', 'pronounced', 'open', 'court', 'vide', 'separate)', 'order', 'acting', 'section', '255', '(2)', 'of', 'criminal', 'procedure', 'code,', 'accused', 'is', 'hereby', 'convicted', 'offence', 'punishable', 'section', '138', 'negotiable', 'instrument', 'act', 'accused', 'sentenced', 'pay', 'fine', 'rs.5,50,000/-', '(five', 'lakh', 'fifty', 'thousand', 'only)', 'settled', 'joint', 'memo.', 'said', 'amount', 'deposited', 'as', 'agreed', 'upon,', 'shall', 'paid', 'the', 'complainant', 'compensation.', 'terms', 'conditions', 'joint', 'memo', 'becomes', 'part', 'parcel', 'this', 'order.', 'default', 'payment', 'fine', 'amount,', 'accused', 'shall', 'undergo', 'imprisonment', '3', '(three)', 'months.', 'bail', 'bond', 'accused', 'stands', 'cancelled.', '9', 'c.c.23993', '/2018', 'office', 'supply', 'copy', 'this', 'judgment', 'accused', 'immediately', 'on', 'free', 'cost.', 'xx', 'a.c.m.m.,', 'bengaluru.', 'bangalore', 'district', 'court', 't.s.mohana', 'vs', 'sridhar.m', '27', 'december,', '2018', 'court', 'xx', 'addl.chief', 'metropolitan', 'magistrate', 'bengaluru', 'city', 'dated', '27th', 'day', 'december', '2018', 'present', 'kalpana.m.s.,', 'b.sc.,', 'll.m.,', 'xx', 'addl.', 'c.m.m.', 'bengaluru.', 'c.c.no.23993/2018', 'complainant', 't.s.mohana,', 's/o.t.s.shivanna,', 'aged', '38', 'years,', 'r/at', 'no.479,', 'l.n.school', 'road,', 'meenakshinagara,', 'new', 'extension,', 'kamakshipalya,', 'bengaluru', '-', '560', '079.', 'vs.', 'accused', 'sridhar.m,', 's/o.maniraju,', 'aged', '40', 'years,', 'office', 'at.', 'td', 'power', 'systems', 'ltd,', 'no.27,28,29,', 'kiadb', 'industrial', 'area,', 'dabaspete,', 'nelamangala', 'taluk,', 'bengaluru', '-', '562', '111.', 'offence', 'complied', 'u/s.', '138', 'n.i.', 'act.,', 'plea', 'accused', 'pleaded', 'guilty', 'final', 'order', 'accused', 'convicted', '2', 'c.c.23993', '/2018', 'date', 'order', '27.12.2018', 'judgment', 'complainant', 'filed', 'complaint', 'section', '200', 'code', 'criminal', 'procedure', 'alleging', 'accused', 'has', 'committed', 'offence', 'punishable', 'section', '138', 'of', 'negotiable', 'instrument', 'act', '(', 'short', 'referred', '\"n.i.', 'act\").', '02.', 'sum', 'substance', 'complaint,', 'follows;', 'complainant', 'accused', 'known', 'from', 'past', 'five', 'years.', 'year', '2015,', 'accused', 'obtained', 'loan', 'of', 'rs.7,00,000/-', 'complainant', 'financial', 'commitments', 'agreed', 'repay', 'march', '2016.', 'complainant', 'agreed', 'receive', 'said', 'amount', 'on', 'monthly', 'installments', 'rs.12,000/-.', 'accused', 'paid', 'amount', 'of', 'rs.12,000/-', 'since', 'march', '2016', 'february', '2016', 'and', 'stopped', 'paying', 'said', 'amount', 'month', 'march', '2018.', 'complainant', 'demanded', 'accused', 'legally', 'recoverable', 'debt', 'due', 'him.', 'towards', 'discharge', 'liability,', 'accused', 'has', 'issued', 'cheque', 'bearing', 'no.000089', 'dated', '10.04.2018', 'for', '3', 'c.c.23993', '/2018', 'rs.4,80,000/-,', 'came', 'dishonoured', 'presentation', 'with', 'endorsement', '\"funds', 'insufficient\".', 'thereafter,', 'complainant', 'got', 'issued', 'legal', 'notice', 'accused', '05.07.2018,', 'which', 'duly', 'served', 'accused', '09.07.2018.', 'accused', 'neither', 'replied', 'notice', 'paid', 'cheque', 'amount.', 'hence', 'this', 'complaint.', '03.', 'filing', 'complaint,', 'court', 'taken', 'cognizance', 'for', 'the', 'offence', 'punishable', 'section', '138', 'negotiable', 'instrument', 'act,', 'sworn', 'statement', 'complainant', 'recorded.', 'being', 'satisfied', 'prima-facie', 'materials', 'proceed', 'against', 'accused,', 'summons', 'issued.', 'appearance,', 'accused', 'enlarged', 'bail', 'plea', 'recorded', 'per', 'section', '251', 'cr.p.c.', 'accused', 'stated', 'defence.', '04.', 'case', 'set', 'trial,', 'parties', 'and', 'counsels', 'filed', 'joint', 'memo', 'prays', 'judgment', 'accordingly.', '05.', 'heard', 'perused', 'materials', 'record.', '4', 'c.c.23993', '/2018', '06.', 'points', 'arise', 'consideration', 'follows;', 'points', '1.', 'whether', 'accused', 'liable', 'be', 'convicted', 'terms', 'joint', 'memo', 'dated', '30.', '11.2018?', '2.', 'order?', '07.', 'answer', 'points', 'follows;', '1.', 'point', 'no.1', 'affirmative', '2.', 'point', 'no.2', 'per', 'final', 'order', 'following;', 'reasons', '08.', 'point', 'no.1', 'complainant,', 'accused', 'respective', 'counsels', 'filed', 'joint', 'memo', '30.11.2018.', 'contents', 'the', 'same', 'read', 'explained', 'parties.', 'joint', 'memo,', 'accused', 'admitted', 'liability.', 'accused', 'agreed', 'to', 'pay', 'rs.5,50,000/-', '45', 'monthly', 'installments', 'rs.10,000/-', 'on', '10th', 'day', 'month', 'commencing', '10.12.2018', 'to', '10.08.2022.', 'accused', 'admitted', 'that,', 'case', 'default', 'payment', 'within', 'stipulated', 'period,', 'complainant', 'liberty', 'take', '5', 'c.c.23993', '/2018', 'appropriate', 'legal', 'action.', 'terms', 'conditions', 'mentioned', 'in', 'memo', 'part', 'parcel', 'order.', '09.', 'per', 'aforesaid', 'memo,', 'accused', 'admitted', 'the', 'liability', 'imposed', 'contemplated', 'complaint.', 'the', 'memo', 'field', 'complainant', 'accused', 'sufficient', 'to', 'answer', 'point', 'no.1', 'affirmative.', '10.', 'point', 'no.2', 'view', 'reasons', 'stated', 'and', 'discussed', 'point', 'no.1,', 'proceed', 'pass', 'following;', 'order', 'acting', 'section', '255', '(2)', 'of', 'criminal', 'procedure', 'code,', 'accused', 'is', 'hereby', 'convicted', 'offence', 'punishable', 'section', '138', 'negotiable', 'instrument', 'act', 'accused', 'sentenced', 'pay', 'fine', 'rs.5,50,000/-', '(five', 'lakh', 'fifty', 'thousand', 'only)', 'settled', 'joint', 'memo.', '6', 'c.c.23993', '/2018', 'said', 'amount', 'deposited', 'as', 'agreed', 'upon,', 'shall', 'paid', 'the', 'complainant', 'compensation.', 'terms', 'conditions', 'joint', 'memo', 'becomes', 'part', 'parcel', 'this', 'order.', 'default', 'payment', 'fine', 'amount,', 'accused', 'shall', 'undergo', 'imprisonment', '3', '(three)', 'months.', 'bail', 'bond', 'accused', 'stands', 'cancelled.', 'office', 'supply', 'copy', 'this', 'judgment', 'accused', 'immediately', 'on', 'free', 'cost.', '{dictated', 'stenographer', 'directly', 'computer,', 'corrected', 'and', 'then', 'signed', 'pronounced', 'open', 'court', '27th', 'day', 'december', '2018}.', '(kalpana', 'm.s.),', 'xx', 'acmm,', 'bengaluru.', '7', 'c.c.23993', '/2018', 'annexure', 'list', 'witnesses', 'examined', 'behalf', 'complainant', 'p.w.1', 't.s.mohana', 'list', 'documents', 'produced', 'behalf', 'complainant', 'ex.p.1', 'cheque', 'ex.p.1(a)', 'signature', 'accused', 'ex.p.', '2', 'bank', 'endorsement', 'ex.p.', '3', 'copy', 'legal', 'notice', 'ex.p.', '4', 'postal', 'receipt', 'ex.p.5', 'postal', 'acknowledgement', 'list', 'witnesses', 'examined', 'behalf', 'accused', '-nil-', 'list', 'documents', 'produced', 'behalf', 'accused', '-nil-', 'xx', 'a.c.m.m.,', 'bengaluru.', '8', 'c.c.23993', '/2018', 'dated', '27.12.2018', '(judgment', 'pronounced', 'open', 'court', 'vide', 'separate)', 'order', 'acting', 'section', '255', '(2)', 'of', 'criminal', 'procedure', 'code,', 'accused', 'is', 'hereby', 'convicted', 'offence', 'punishable', 'section', '138', 'negotiable', 'instrument', 'act', 'accused', 'sentenced', 'pay', 'fine', 'rs.5,50,000/-', '(five', 'lakh', 'fifty', 'thousand', 'only)', 'settled', 'joint', 'memo.', 'said', 'amount', 'deposited', 'as', 'agreed', 'upon,', 'shall', 'paid', 'the', 'complainant', 'compensation.', 'terms', 'conditions', 'joint', 'memo', 'becomes', 'part', 'parcel', 'this', 'order.', 'default', 'payment', 'fine', 'amount,', 'accused', 'shall', 'undergo', 'imprisonment', '3', '(three)', 'months.', 'bail', 'bond', 'accused', 'stands', 'cancelled.', '9', 'c.c.23993', '/2018', 'office', 'supply', 'copy', 'this', 'judgment', 'accused', 'immediately', 'on', 'free', 'cost.', 'xx', 'a.c.m.m.,', 'bengaluru.', 'bangalore', 'district', 'court', 't.s.mohana', 'vs', 'sridhar.m', '27', 'december,', '2018', 'court', 'xx', 'addl.chief', 'metropolitan', 'magistrate', 'bengaluru', 'city', 'dated', '27th', 'day', 'december', '2018', 'present', 'kalpana.m.s.,', 'b.sc.,', 'll.m.,', 'xx', 'addl.', 'c.m.m.', 'bengaluru.', 'c.c.no.23993/2018', 'complainant', 't.s.mohana,', 's/o.t.s.shivanna,', 'aged', '38', 'years,', 'r/at', 'no.479,', 'l.n.school', 'road,', 'meenakshinagara,', 'new', 'extension,', 'kamakshipalya,', 'bengaluru', '-', '560', '079.', 'vs.', 'accused', 'sridhar.m,', 's/o.maniraju,', 'aged', '40', 'years,', 'office', 'at.', 'td', 'power', 'systems', 'ltd,', 'no.27,28,29,', 'kiadb', 'industrial', 'area,', 'dabaspete,', 'nelamangala', 'taluk,', 'bengaluru', '-', '562', '111.', 'offence', 'complied', 'u/s.', '138', 'n.i.', 'act.,', 'plea', 'accused', 'pleaded', 'guilty', 'final', 'order', 'accused', 'convicted', '2', 'c.c.23993', '/2018', 'date', 'order', '27.12.2018', 'judgment', 'complainant', 'filed', 'complaint', 'section', '200', 'code', 'criminal', 'procedure', 'alleging', 'accused', 'has', 'committed', 'offence', 'punishable', 'section', '138', 'of', 'negotiable', 'instrument', 'act', '(', 'short', 'referred', '\"n.i.', 'act\").', '02.', 'sum', 'substance', 'complaint,', 'follows;', 'complainant', 'accused', 'known', 'from', 'past', 'five', 'years.', 'year', '2015,', 'accused', 'obtained', 'loan', 'of', 'rs.7,00,000/-', 'complainant', 'financial', 'commitments', 'agreed', 'repay', 'march', '2016.', 'complainant', 'agreed', 'receive', 'said', 'amount', 'on', 'monthly', 'installments', 'rs.12,000/-.', 'accused', 'paid', 'amount', 'of', 'rs.12,000/-', 'since', 'march', '2016', 'february', '2016', 'and', 'stopped', 'paying', 'said', 'amount', 'month', 'march', '2018.', 'complainant', 'demanded', 'accused', 'legally', 'recoverable', 'debt', 'due', 'him.', 'towards', 'discharge', 'liability,', 'accused', 'has', 'issued', 'cheque', 'bearing', 'no.000089', 'dated', '10.04.2018', 'for', '3', 'c.c.23993', '/2018', 'rs.4,80,000/-,', 'came', 'dishonoured', 'presentation', 'with', 'endorsement', '\"funds', 'insufficient\".', 'thereafter,', 'complainant', 'got', 'issued', 'legal', 'notice', 'accused', '05.07.2018,', 'which', 'duly', 'served', 'accused', '09.07.2018.', 'accused', 'neither', 'replied', 'notice', 'paid', 'cheque', 'amount.', 'hence', 'this', 'complaint.', '03.', 'filing', 'complaint,', 'court', 'taken', 'cognizance', 'for', 'the', 'offence', 'punishable', 'section', '138', 'negotiable', 'instrument', 'act,', 'sworn', 'statement', 'complainant', 'recorded.', 'being', 'satisfied', 'prima-facie', 'materials', 'proceed', 'against', 'accused,', 'summons', 'issued.', 'appearance,', 'accused', 'enlarged', 'bail', 'plea', 'recorded', 'per', 'section', '251', 'cr.p.c.', 'accused', 'stated', 'defence.', '04.', 'case', 'set', 'trial,', 'parties', 'and', 'counsels', 'filed', 'joint', 'memo', 'prays', 'judgment', 'accordingly.', '05.', 'heard', 'perused', 'materials', 'record.', '4', 'c.c.23993', '/2018', '06.', 'points', 'arise', 'consideration', 'follows;', 'points', '1.', 'whether', 'accused', 'liable', 'be', 'convicted', 'terms', 'joint', 'memo', 'dated', '30.', '11.2018?', '2.', 'order?', '07.', 'answer', 'points', 'follows;', '1.', 'point', 'no.1', 'affirmative', '2.', 'point', 'no.2', 'per', 'final', 'order', 'following;', 'reasons', '08.', 'point', 'no.1', 'complainant,', 'accused', 'respective', 'counsels', 'filed', 'joint', 'memo', '30.11.2018.', 'contents', 'the', 'same', 'read', 'explained', 'parties.', 'joint', 'memo,', 'accused', 'admitted', 'liability.', 'accused', 'agreed', 'to', 'pay', 'rs.5,50,000/-', '45', 'monthly', 'installments', 'rs.10,000/-', 'on', '10th', 'day', 'month', 'commencing', '10.12.2018', 'to', '10.08.2022.', 'accused', 'admitted', 'that,', 'case', 'default', 'payment', 'within', 'stipulated', 'period,', 'complainant', 'liberty', 'take', '5', 'c.c.23993', '/2018', 'appropriate', 'legal', 'action.', 'terms', 'conditions', 'mentioned', 'in', 'memo', 'part', 'parcel', 'order.', '09.', 'per', 'aforesaid', 'memo,', 'accused', 'admitted', 'the', 'liability', 'imposed', 'contemplated', 'complaint.', 'the', 'memo', 'field', 'complainant', 'accused', 'sufficient', 'to', 'answer', 'point', 'no.1', 'affirmative.', '10.', 'point', 'no.2', 'view', 'reasons', 'stated', 'and', 'discussed', 'point', 'no.1,', 'proceed', 'pass', 'following;', 'order', 'acting', 'section', '255', '(2)', 'of', 'criminal', 'procedure', 'code,', 'accused', 'is', 'hereby', 'convicted', 'offence', 'punishable', 'section', '138', 'negotiable', 'instrument', 'act', 'accused', 'sentenced', 'pay', 'fine', 'rs.5,50,000/-', '(five', 'lakh', 'fifty', 'thousand', 'only)', 'settled', 'joint', 'memo.', '6', 'c.c.23993', '/2018', 'said', 'amount', 'deposited', 'as', 'agreed', 'upon,', 'shall', 'paid', 'the', 'complainant', 'compensation.', 'terms', 'conditions', 'joint', 'memo', 'becomes', 'part', 'parcel', 'this', 'order.', 'default', 'payment', 'fine', 'amount,', 'accused', 'shall', 'undergo', 'imprisonment', '3', '(three)', 'months.', 'bail', 'bond', 'accused', 'stands', 'cancelled.', 'office', 'supply', 'copy', 'this', 'judgment', 'accused', 'immediately', 'on', 'free', 'cost.', '{dictated', 'stenographer', 'directly', 'computer,', 'corrected', 'and', 'then', 'signed', 'pronounced', 'open', 'court', '27th', 'day', 'december', '2018}.', '(kalpana', 'm.s.),', 'xx', 'acmm,', 'bengaluru.', '7', 'c.c.23993', '/2018', 'annexure', 'list', 'witnesses', 'examined', 'behalf', 'complainant', 'p.w.1', 't.s.mohana', 'list', 'documents', 'produced', 'behalf', 'complainant', 'ex.p.1', 'cheque', 'ex.p.1(a)', 'signature', 'accused', 'ex.p.', '2', 'bank', 'endorsement', 'ex.p.', '3', 'copy', 'legal', 'notice', 'ex.p.', '4', 'postal', 'receipt', 'ex.p.5', 'postal', 'acknowledgement', 'list', 'witnesses', 'examined', 'behalf', 'accused', '-nil-', 'list', 'documents', 'produced', 'behalf', 'accused', '-nil-', 'xx', 'a.c.m.m.,', 'bengaluru.', '8', 'c.c.23993', '/2018', 'dated', '27.12.2018', '(judgment', 'pronounced', 'open', 'court', 'vide', 'separate)', 'order', 'acting', 'section', '255', '(2)', 'of', 'criminal', 'procedure', 'code,', 'accused', 'is', 'hereby', 'convicted', 'offence', 'punishable', 'section', '138', 'negotiable', 'instrument', 'act', 'accused', 'sentenced', 'pay', 'fine', 'rs.5,50,000/-', '(five', 'lakh', 'fifty', 'thousand', 'only)', 'settled', 'joint', 'memo.', 'said', 'amount', 'deposited', 'as', 'agreed', 'upon,', 'shall', 'paid', 'the', 'complainant', 'compensation.', 'terms', 'conditions', 'joint', 'memo', 'becomes', 'part', 'parcel', 'this', 'order.', 'default', 'payment', 'fine', 'amount,', 'accused', 'shall', 'undergo', 'imprisonment', '3', '(three)', 'months.', 'bail', 'bond', 'accused', 'stands', 'cancelled.', '9', 'c.c.23993', '/2018', 'office', 'supply', 'copy', 'this', 'judgment', 'accused', 'immediately', 'on', 'free', 'cost.', 'xx', 'a.c.m.m.,', 'bengaluru.', 'bangalore', 'district', 'court', 't.s.mohana', 'vs', 'sridhar.m', '27', 'december,', '2018', 'court', 'xx', 'addl.chief', 'metropolitan', 'magistrate', 'bengaluru', 'city', 'dated', '27th', 'day', 'december', '2018', 'present', 'kalpana.m.s.,', 'b.sc.,', 'll.m.,', 'xx', 'addl.', 'c.m.m.', 'bengaluru.', 'c.c.no.23993/2018', 'complainant', 't.s.mohana,', 's/o.t.s.shivanna,', 'aged', '38', 'years,', 'r/at', 'no.479,', 'l.n.school', 'road,', 'meenakshinagara,', 'new', 'extension,', 'kamakshipalya,', 'bengaluru', '-', '560', '079.', 'vs.', 'accused', 'sridhar.m,', 's/o.maniraju,', 'aged', '40', 'years,', 'office', 'at.', 'td', 'power', 'systems', 'ltd,', 'no.27,28,29,', 'kiadb', 'industrial', 'area,', 'dabaspete,', 'nelamangala', 'taluk,', 'bengaluru', '-', '562', '111.', 'offence', 'complied', 'u/s.', '138', 'n.i.', 'act.,', 'plea', 'accused', 'pleaded', 'guilty', 'final', 'order', 'accused', 'convicted', '2', 'c.c.23993', '/2018', 'date', 'order', '27.12.2018', 'judgment', 'complainant', 'filed', 'complaint', 'section', '200', 'code', 'criminal', 'procedure', 'alleging', 'accused', 'has', 'committed', 'offence', 'punishable', 'section', '138', 'of', 'negotiable', 'instrument', 'act', '(', 'short', 'referred', '\"n.i.', 'act\").', '02.', 'sum', 'substance', 'complaint,', 'follows;', 'complainant', 'accused', 'known', 'from', 'past', 'five', 'years.', 'year', '2015,', 'accused', 'obtained', 'loan', 'of', 'rs.7,00,000/-', 'complainant', 'financial', 'commitments', 'agreed', 'repay', 'march', '2016.', 'complainant', 'agreed', 'receive', 'said', 'amount', 'on', 'monthly', 'installments', 'rs.12,000/-.', 'accused', 'paid', 'amount', 'of', 'rs.12,000/-', 'since', 'march', '2016', 'february', '2016', 'and', 'stopped', 'paying', 'said', 'amount', 'month', 'march', '2018.', 'complainant', 'demanded', 'accused', 'legally', 'recoverable', 'debt', 'due', 'him.', 'towards', 'discharge', 'liability,', 'accused', 'has', 'issued', 'cheque', 'bearing', 'no.000089', 'dated', '10.04.2018', 'for', '3', 'c.c.23993', '/2018', 'rs.4,80,000/-,', 'came', 'dishonoured', 'presentation', 'with', 'endorsement', '\"funds', 'insufficient\".', 'thereafter,', 'complainant', 'got', 'issued', 'legal', 'notice', 'accused', '05.07.2018,', 'which', 'duly', 'served', 'accused', '09.07.2018.', 'accused', 'neither', 'replied', 'notice', 'paid', 'cheque', 'amount.', 'hence', 'this', 'complaint.', '03.', 'filing', 'complaint,', 'court', 'taken', 'cognizance', 'for', 'the', 'offence', 'punishable', 'section', '138', 'negotiable', 'instrument', 'act,', 'sworn', 'statement', 'complainant', 'recorded.', 'being', 'satisfied', 'prima-facie', 'materials', 'proceed', 'against', 'accused,', 'summons', 'issued.', 'appearance,', 'accused', 'enlarged', 'bail', 'plea', 'recorded', 'per', 'section', '251', 'cr.p.c.', 'accused', 'stated', 'defence.', '04.', 'case', 'set', 'trial,', 'parties', 'and', 'counsels', 'filed', 'joint', 'memo', 'prays', 'judgment', 'accordingly.', '05.', 'heard', 'perused', 'materials', 'record.', '4', 'c.c.23993', '/2018', '06.', 'points', 'arise', 'consideration', 'follows;', 'points', '1.', 'whether', 'accused', 'liable', 'be', 'convicted', 'terms', 'joint', 'memo', 'dated', '30.', '11.2018?', '2.', 'order?', '07.', 'answer', 'points', 'follows;', '1.', 'point', 'no.1', 'affirmative', '2.', 'point', 'no.2', 'per', 'final', 'order', 'following;', 'reasons', '08.', 'point', 'no.1', 'complainant,', 'accused', 'respective', 'counsels', 'filed', 'joint', 'memo', '30.11.2018.', 'contents', 'the', 'same', 'read', 'explained', 'parties.', 'joint', 'memo,', 'accused', 'admitted', 'liability.', 'accused', 'agreed', 'to', 'pay', 'rs.5,50,000/-', '45', 'monthly', 'installments', 'rs.10,000/-', 'on', '10th', 'day', 'month', 'commencing', '10.12.2018', 'to', '10.08.2022.', 'accused', 'admitted', 'that,', 'case', 'default', 'payment', 'within', 'stipulated', 'period,', 'complainant', 'liberty', 'take', '5', 'c.c.23993', '/2018', 'appropriate', 'legal', 'action.', 'terms', 'conditions', 'mentioned', 'in', 'memo', 'part', 'parcel', 'order.', '09.', 'per', 'aforesaid', 'memo,', 'accused', 'admitted', 'the', 'liability', 'imposed', 'contemplated', 'complaint.', 'the', 'memo', 'field', 'complainant', 'accused', 'sufficient', 'to', 'answer', 'point', 'no.1', 'affirmative.', '10.', 'point', 'no.2', 'view', 'reasons', 'stated', 'and', 'discussed', 'point', 'no.1,', 'proceed', 'pass', 'following;', 'order', 'acting', 'section', '255', '(2)', 'of', 'criminal', 'procedure', 'code,', 'accused', 'is', 'hereby', 'convicted', 'offence', 'punishable', 'section', '138', 'negotiable', 'instrument', 'act', 'accused', 'sentenced', 'pay', 'fine', 'rs.5,50,000/-', '(five', 'lakh', 'fifty', 'thousand', 'only)', 'settled', 'joint', 'memo.', '6', 'c.c.23993', '/2018', 'said', 'amount', 'deposited', 'as', 'agreed', 'upon,', 'shall', 'paid', 'the', 'complainant', 'compensation.', 'terms', 'conditions', 'joint', 'memo', 'becomes', 'part', 'parcel', 'this', 'order.', 'default', 'payment', 'fine', 'amount,', 'accused', 'shall', 'undergo', 'imprisonment', '3', '(three)', 'months.', 'bail', 'bond', 'accused', 'stands', 'cancelled.', 'office', 'supply', 'copy', 'this', 'judgment', 'accused', 'immediately', 'on', 'free', 'cost.', '{dictated', 'stenographer', 'directly', 'computer,', 'corrected', 'and', 'then', 'signed', 'pronounced', 'open', 'court', '27th', 'day', 'december', '2018}.', '(kalpana', 'm.s.),', 'xx', 'acmm,', 'bengaluru.', '7', 'c.c.23993', '/2018', 'annexure', 'list', 'witnesses', 'examined', 'behalf', 'complainant', 'p.w.1', 't.s.mohana', 'list', 'documents', 'produced', 'behalf', 'complainant', 'ex.p.1', 'cheque', 'ex.p.1(a)', 'signature', 'accused', 'ex.p.', '2', 'bank', 'endorsement', 'ex.p.', '3', 'copy', 'legal', 'notice', 'ex.p.', '4', 'postal', 'receipt', 'ex.p.5', 'postal', 'acknowledgement', 'list', 'witnesses', 'examined', 'behalf', 'accused', '-nil-', 'list', 'documents', 'produced', 'behalf', 'accused', '-nil-', 'xx', 'a.c.m.m.,', 'bengaluru.', '8', 'c.c.23993', '/2018', 'dated', '27.12.2018', '(judgment', 'pronounced', 'open', 'court', 'vide', 'separate)', 'order', 'acting', 'section', '255', '(2)', 'of', 'criminal', 'procedure', 'code,', 'accused', 'is', 'hereby', 'convicted', 'offence', 'punishable', 'section', '138', 'negotiable', 'instrument', 'act', 'accused', 'sentenced', 'pay', 'fine', 'rs.5,50,000/-', '(five', 'lakh', 'fifty', 'thousand', 'only)', 'settled', 'joint', 'memo.', 'said', 'amount', 'deposited', 'as', 'agreed', 'upon,', 'shall', 'paid', 'the', 'complainant', 'compensation.', 'terms', 'conditions', 'joint', 'memo', 'becomes', 'part', 'parcel', 'this', 'order.', 'default', 'payment', 'fine', 'amount,', 'accused', 'shall', 'undergo', 'imprisonment', '3', '(three)', 'months.', 'bail', 'bond', 'accused', 'stands', 'cancelled.', '9', 'c.c.23993', '/2018', 'office', 'supply', 'copy', 'this', 'judgment', 'accused', 'immediately', 'on', 'free', 'cost.', 'xx', 'a.c.m.m.,', 'bengaluru.', 'bangalore', 'district', 'court', 't.s.mohana', 'vs', 'sridhar.m', '27', 'december,', '2018', 'court', 'xx', 'addl.chief', 'metropolitan', 'magistrate', 'bengaluru', 'city', 'dated', '27th', 'day', 'december', '2018', 'present', 'kalpana.m.s.,', 'b.sc.,', 'll.m.,', 'xx', 'addl.', 'c.m.m.', 'bengaluru.', 'c.c.no.23993/2018', 'complainant', 't.s.mohana,', 's/o.t.s.shivanna,', 'aged', '38', 'years,', 'r/at', 'no.479,', 'l.n.school', 'road,', 'meenakshinagara,', 'new', 'extension,', 'kamakshipalya,', 'bengaluru', '-', '560', '079.', 'vs.', 'accused', 'sridhar.m,', 's/o.maniraju,', 'aged', '40', 'years,', 'office', 'at.', 'td', 'power', 'systems', 'ltd,', 'no.27,28,29,', 'kiadb', 'industrial', 'area,', 'dabaspete,', 'nelamangala', 'taluk,', 'bengaluru', '-', '562', '111.', 'offence', 'complied', 'u/s.', '138', 'n.i.', 'act.,', 'plea', 'accused', 'pleaded', 'guilty', 'final', 'order', 'accused', 'convicted', '2', 'c.c.23993', '/2018', 'date', 'order', '27.12.2018', 'judgment', 'complainant', 'filed', 'complaint', 'section', '200', 'code', 'criminal', 'procedure', 'alleging', 'accused', 'has', 'committed', 'offence', 'punishable', 'section', '138', 'of', 'negotiable', 'instrument', 'act', '(', 'short', 'referred', '\"n.i.', 'act\").', '02.', 'sum', 'substance', 'complaint,', 'follows;', 'complainant', 'accused', 'known', 'from', 'past', 'five', 'years.', 'year', '2015,', 'accused', 'obtained', 'loan', 'of', 'rs.7,00,000/-', 'complainant', 'financial', 'commitments', 'agreed', 'repay', 'march', '2016.', 'complainant', 'agreed', 'receive', 'said', 'amount', 'on', 'monthly', 'installments', 'rs.12,000/-.', 'accused', 'paid', 'amount', 'of', 'rs.12,000/-', 'since', 'march', '2016', 'february', '2016', 'and', 'stopped', 'paying', 'said', 'amount', 'month', 'march', '2018.', 'complainant', 'demanded', 'accused', 'legally', 'recoverable', 'debt', 'due', 'him.', 'towards', 'discharge', 'liability,', 'accused', 'has', 'issued', 'cheque', 'bearing', 'no.000089', 'dated', '10.04.2018', 'for', '3', 'c.c.23993', '/2018', 'rs.4,80,000/-,', 'came', 'dishonoured', 'presentation', 'with', 'endorsement', '\"funds', 'insufficient\".', 'thereafter,', 'complainant', 'got', 'issued', 'legal', 'notice', 'accused', '05.07.2018,', 'which', 'duly', 'served', 'accused', '09.07.2018.', 'accused', 'neither', 'replied', 'notice', 'paid', 'cheque', 'amount.', 'hence', 'this', 'complaint.', '03.', 'filing', 'complaint,', 'court', 'taken', 'cognizance', 'for', 'the', 'offence', 'punishable', 'section', '138', 'negotiable', 'instrument', 'act,', 'sworn', 'statement', 'complainant', 'recorded.', 'being', 'satisfied', 'prima-facie', 'materials', 'proceed', 'against', 'accused,', 'summons', 'issued.', 'appearance,', 'accused', 'enlarged', 'bail', 'plea', 'recorded', 'per', 'section', '251', 'cr.p.c.', 'accused', 'stated', 'defence.', '04.', 'case', 'set', 'trial,', 'parties', 'and', 'counsels', 'filed', 'joint', 'memo', 'prays', 'judgment', 'accordingly.', '05.', 'heard', 'perused', 'materials', 'record.', '4', 'c.c.23993', '/2018', '06.', 'points', 'arise', 'consideration', 'follows;', 'points', '1.', 'whether', 'accused', 'liable', 'be', 'convicted', 'terms', 'joint', 'memo', 'dated', '30.', '11.2018?', '2.', 'order?', '07.', 'answer', 'points', 'follows;', '1.', 'point', 'no.1', 'affirmative', '2.', 'point', 'no.2', 'per', 'final', 'order', 'following;', 'reasons', '08.', 'point', 'no.1', 'complainant,', 'accused', 'respective', 'counsels', 'filed', 'joint', 'memo', '30.11.2018.', 'contents', 'the', 'same', 'read', 'explained', 'parties.', 'joint', 'memo,', 'accused', 'admitted', 'liability.', 'accused', 'agreed', 'to', 'pay', 'rs.5,50,000/-', '45', 'monthly', 'installments', 'rs.10,000/-', 'on', '10th', 'day', 'month', 'commencing', '10.12.2018', 'to', '10.08.2022.', 'accused', 'admitted', 'that,', 'case', 'default', 'payment', 'within', 'stipulated', 'period,', 'complainant', 'liberty', 'take', '5', 'c.c.23993', '/2018', 'appropriate', 'legal', 'action.', 'terms', 'conditions', 'mentioned', 'in', 'memo', 'part', 'parcel', 'order.', '09.', 'per', 'aforesaid', 'memo,', 'accused', 'admitted', 'the', 'liability', 'imposed', 'contemplated', 'complaint.', 'the', 'memo', 'field', 'complainant', 'accused', 'sufficient', 'to', 'answer', 'point', 'no.1', 'affirmative.', '10.', 'point', 'no.2', 'view', 'reasons', 'stated', 'and', 'discussed', 'point', 'no.1,', 'proceed', 'pass', 'following;', 'order', 'acting', 'section', '255', '(2)', 'of', 'criminal', 'procedure', 'code,', 'accused', 'is', 'hereby', 'convicted', 'offence', 'punishable', 'section', '138', 'negotiable', 'instrument', 'act', 'accused', 'sentenced', 'pay', 'fine', 'rs.5,50,000/-', '(five', 'lakh', 'fifty', 'thousand', 'only)', 'settled', 'joint', 'memo.', '6', 'c.c.23993', '/2018', 'said', 'amount', 'deposited', 'as', 'agreed', 'upon,', 'shall', 'paid', 'the', 'complainant', 'compensation.', 'terms', 'conditions', 'joint', 'memo', 'becomes', 'part', 'parcel', 'this', 'order.', 'default', 'payment', 'fine', 'amount,', 'accused', 'shall', 'undergo', 'imprisonment', '3', '(three)', 'months.', 'bail', 'bond', 'accused', 'stands', 'cancelled.', 'office', 'supply', 'copy', 'this', 'judgment', 'accused', 'immediately', 'on', 'free', 'cost.', '{dictated', 'stenographer', 'directly', 'computer,', 'corrected', 'and', 'then', 'signed', 'pronounced', 'open', 'court', '27th', 'day', 'december', '2018}.', '(kalpana', 'm.s.),', 'xx', 'acmm,', 'bengaluru.', '7', 'c.c.23993', '/2018', 'annexure', 'list', 'witnesses', 'examined', 'behalf', 'complainant', 'p.w.1', 't.s.mohana', 'list', 'documents', 'produced', 'behalf', 'complainant', 'ex.p.1', 'cheque', 'ex.p.1(a)', 'signature', 'accused', 'ex.p.', '2', 'bank', 'endorsement', 'ex.p.', '3', 'copy', 'legal', 'notice', 'ex.p.', '4', 'postal', 'receipt', 'ex.p.5', 'postal', 'acknowledgement', 'list', 'witnesses', 'examined', 'behalf', 'accused', '-nil-', 'list', 'documents', 'produced', 'behalf', 'accused', '-nil-', 'xx', 'a.c.m.m.,', 'bengaluru.', '8', 'c.c.23993', '/2018', 'dated', '27.12.2018', '(judgment', 'pronounced', 'open', 'court', 'vide', 'separate)', 'order', 'acting', 'section', '255', '(2)', 'of', 'criminal', 'procedure', 'code,', 'accused', 'is', 'hereby', 'convicted', 'offence', 'punishable', 'section', '138', 'negotiable', 'instrument', 'act', 'accused', 'sentenced', 'pay', 'fine', 'rs.5,50,000/-', '(five', 'lakh', 'fifty', 'thousand', 'only)', 'settled', 'joint', 'memo.', 'said', 'amount', 'deposited', 'as', 'agreed', 'upon,', 'shall', 'paid', 'the', 'complainant', 'compensation.', 'terms', 'conditions', 'joint', 'memo', 'becomes', 'part', 'parcel', 'this', 'order.', 'default', 'payment', 'fine', 'amount,', 'accused', 'shall', 'undergo', 'imprisonment', '3', '(three)', 'months.', 'bail', 'bond', 'accused', 'stands', 'cancelled.', '9', 'c.c.23993', '/2018', 'office', 'supply', 'copy', 'this', 'judgment', 'accused', 'immediately', 'on', 'free', 'cost.', 'xx', 'a.c.m.m.,', 'bengaluru.', 'bangalore', 'district', 'court', 't.s.mohana', 'vs', 'sridhar.m', '27', 'december,', '2018', 'court', 'xx', 'addl.chief', 'metropolitan', 'magistrate', 'bengaluru', 'city', 'dated', '27th', 'day', 'december', '2018', 'present', 'kalpana.m.s.,', 'b.sc.,', 'll.m.,', 'xx', 'addl.', 'c.m.m.', 'bengaluru.', 'c.c.no.23993/2018', 'complainant', 't.s.mohana,', 's/o.t.s.shivanna,', 'aged', '38', 'years,', 'r/at', 'no.479,', 'l.n.school', 'road,', 'meenakshinagara,', 'new', 'extension,', 'kamakshipalya,', 'bengaluru', '-', '560', '079.', 'vs.', 'accused', 'sridhar.m,', 's/o.maniraju,', 'aged', '40', 'years,', 'office', 'at.', 'td', 'power', 'systems', 'ltd,', 'no.27,28,29,', 'kiadb', 'industrial', 'area,', 'dabaspete,', 'nelamangala', 'taluk,', 'bengaluru', '-', '562', '111.', 'offence', 'complied', 'u/s.', '138', 'n.i.', 'act.,', 'plea', 'accused', 'pleaded', 'guilty', 'final', 'order', 'accused', 'convicted', '2', 'c.c.23993', '/2018', 'date', 'order', '27.12.2018', 'judgment', 'complainant', 'filed', 'complaint', 'section', '200', 'code', 'criminal', 'procedure', 'alleging', 'accused', 'has', 'committed', 'offence', 'punishable', 'section', '138', 'of', 'negotiable', 'instrument', 'act', '(', 'short', 'referred', '\"n.i.', 'act\").', '02.', 'sum', 'substance', 'complaint,', 'follows;', 'complainant', 'accused', 'known', 'from', 'past', 'five', 'years.', 'year', '2015,', 'accused', 'obtained', 'loan', 'of', 'rs.7,00,000/-', 'complainant', 'financial', 'commitments', 'agreed', 'repay', 'march', '2016.', 'complainant', 'agreed', 'receive', 'said', 'amount', 'on', 'monthly', 'installments', 'rs.12,000/-.', 'accused', 'paid', 'amount', 'of', 'rs.12,000/-', 'since', 'march', '2016', 'february', '2016', 'and', 'stopped', 'paying', 'said', 'amount', 'month', 'march', '2018.', 'complainant', 'demanded', 'accused', 'legally', 'recoverable', 'debt', 'due', 'him.', 'towards', 'discharge', 'liability,', 'accused', 'has', 'issued', 'cheque', 'bearing', 'no.000089', 'dated', '10.04.2018', 'for', '3', 'c.c.23993', '/2018', 'rs.4,80,000/-,', 'came', 'dishonoured', 'presentation', 'with', 'endorsement', '\"funds', 'insufficient\".', 'thereafter,', 'complainant', 'got', 'issued', 'legal', 'notice', 'accused', '05.07.2018,', 'which', 'duly', 'served', 'accused', '09.07.2018.', 'accused', 'neither', 'replied', 'notice', 'paid', 'cheque', 'amount.', 'hence', 'this', 'complaint.', '03.', 'filing', 'complaint,', 'court', 'taken', 'cognizance', 'for', 'the', 'offence', 'punishable', 'section', '138', 'negotiable', 'instrument', 'act,', 'sworn', 'statement', 'complainant', 'recorded.', 'being', 'satisfied', 'prima-facie', 'materials', 'proceed', 'against', 'accused,', 'summons', 'issued.', 'appearance,', 'accused', 'enlarged', 'bail', 'plea', 'recorded', 'per', 'section', '251', 'cr.p.c.', 'accused', 'stated', 'defence.', '04.', 'case', 'set', 'trial,', 'parties', 'and', 'counsels', 'filed', 'joint', 'memo', 'prays', 'judgment', 'accordingly.', '05.', 'heard', 'perused', 'materials', 'record.', '4', 'c.c.23993', '/2018', '06.', 'points', 'arise', 'consideration', 'follows;', 'points', '1.', 'whether', 'accused', 'liable', 'be', 'convicted', 'terms', 'joint', 'memo', 'dated', '30.', '11.2018?', '2.', 'order?', '07.', 'answer', 'points', 'follows;', '1.', 'point', 'no.1', 'affirmative', '2.', 'point', 'no.2', 'per', 'final', 'order', 'following;', 'reasons', '08.', 'point', 'no.1', 'complainant,', 'accused', 'respective', 'counsels', 'filed', 'joint', 'memo', '30.11.2018.', 'contents', 'the', 'same', 'read', 'explained', 'parties.', 'joint', 'memo,', 'accused', 'admitted', 'liability.', 'accused', 'agreed', 'to', 'pay', 'rs.5,50,000/-', '45', 'monthly', 'installments', 'rs.10,000/-', 'on', '10th', 'day', 'month', 'commencing', '10.12.2018', 'to', '10.08.2022.', 'accused', 'admitted', 'that,', 'case', 'default', 'payment', 'within', 'stipulated', 'period,', 'complainant', 'liberty', 'take', '5', 'c.c.23993', '/2018', 'appropriate', 'legal', 'action.', 'terms', 'conditions', 'mentioned', 'in', 'memo', 'part', 'parcel', 'order.', '09.', 'per', 'aforesaid', 'memo,', 'accused', 'admitted', 'the', 'liability', 'imposed', 'contemplated', 'complaint.', 'the', 'memo', 'field', 'complainant', 'accused', 'sufficient', 'to', 'answer', 'point', 'no.1', 'affirmative.', '10.', 'point', 'no.2', 'view', 'reasons', 'stated', 'and', 'discussed', 'point', 'no.1,', 'proceed', 'pass', 'following;', 'order', 'acting', 'section', '255', '(2)', 'of', 'criminal', 'procedure', 'code,', 'accused', 'is', 'hereby', 'convicted', 'offence', 'punishable', 'section', '138', 'negotiable', 'instrument', 'act', 'accused', 'sentenced', 'pay', 'fine', 'rs.5,50,000/-', '(five', 'lakh', 'fifty', 'thousand', 'only)', 'settled', 'joint', 'memo.', '6', 'c.c.23993', '/2018', 'said', 'amount', 'deposited', 'as', 'agreed', 'upon,', 'shall', 'paid', 'the', 'complainant', 'compensation.', 'terms', 'conditions', 'joint', 'memo', 'becomes', 'part', 'parcel', 'this', 'order.', 'default', 'payment', 'fine', 'amount,', 'accused', 'shall', 'undergo', 'imprisonment', '3', '(three)', 'months.', 'bail', 'bond', 'accused', 'stands', 'cancelled.', 'office', 'supply', 'copy', 'this', 'judgment', 'accused', 'immediately', 'on', 'free', 'cost.', '{dictated', 'stenographer', 'directly', 'computer,', 'corrected', 'and', 'then', 'signed', 'pronounced', 'open', 'court', '27th', 'day', 'december', '2018}.', '(kalpana', 'm.s.),', 'xx', 'acmm,', 'bengaluru.', '7', 'c.c.23993', '/2018', 'annexure', 'list', 'witnesses', 'examined', 'behalf', 'complainant', 'p.w.1', 't.s.mohana', 'list', 'documents', 'produced', 'behalf', 'complainant', 'ex.p.1', 'cheque', 'ex.p.1(a)', 'signature', 'accused', 'ex.p.', '2', 'bank', 'endorsement', 'ex.p.', '3', 'copy', 'legal', 'notice', 'ex.p.', '4', 'postal', 'receipt', 'ex.p.5', 'postal', 'acknowledgement', 'list', 'witnesses', 'examined', 'behalf', 'accused', '-nil-', 'list', 'documents', 'produced', 'behalf', 'accused', '-nil-', 'xx', 'a.c.m.m.,', 'bengaluru.', '8', 'c.c.23993', '/2018', 'dated', '27.12.2018', '(judgment', 'pronounced', 'open', 'court', 'vide', 'separate)', 'order', 'acting', 'section', '255', '(2)', 'of', 'criminal', 'procedure', 'code,', 'accused', 'is', 'hereby', 'convicted', 'offence', 'punishable', 'section', '138', 'negotiable', 'instrument', 'act', 'accused', 'sentenced', 'pay', 'fine', 'rs.5,50,000/-', '(five', 'lakh', 'fifty', 'thousand', 'only)', 'settled', 'joint', 'memo.', 'said', 'amount', 'deposited', 'as', 'agreed', 'upon,', 'shall', 'paid', 'the', 'complainant', 'compensation.', 'terms', 'conditions', 'joint', 'memo', 'becomes', 'part', 'parcel', 'this', 'order.', 'default', 'payment', 'fine', 'amount,', 'accused', 'shall', 'undergo', 'imprisonment', '3', '(three)', 'months.', 'bail', 'bond', 'accused', 'stands', 'cancelled.', '9', 'c.c.23993', '/2018', 'office', 'supply', 'copy', 'this', 'judgment', 'accused', 'immediately', 'on', 'free', 'cost.', 'xx', 'a.c.m.m.,', 'bengaluru.', 'bangalore', 'district', 'court', 't.s.mohana', 'vs', 'sridhar.m', '27', 'december,', '2018', 'court', 'xx', 'addl.chief', 'metropolitan', 'magistrate', 'bengaluru', 'city', 'dated', '27th', 'day', 'december', '2018', 'present', 'kalpana.m.s.,', 'b.sc.,', 'll.m.,', 'xx', 'addl.', 'c.m.m.', 'bengaluru.', 'c.c.no.23993/2018', 'complainant', 't.s.mohana,', 's/o.t.s.shivanna,', 'aged', '38', 'years,', 'r/at', 'no.479,', 'l.n.school', 'road,', 'meenakshinagara,', 'new', 'extension,', 'kamakshipalya,', 'bengaluru', '-', '560', '079.', 'vs.', 'accused', 'sridhar.m,', 's/o.maniraju,', 'aged', '40', 'years,', 'office', 'at.', 'td', 'power', 'systems', 'ltd,', 'no.27,28,29,', 'kiadb', 'industrial', 'area,', 'dabaspete,', 'nelamangala', 'taluk,', 'bengaluru', '-', '562', '111.', 'offence', 'complied', 'u/s.', '138', 'n.i.', 'act.,', 'plea', 'accused', 'pleaded', 'guilty', 'final', 'order', 'accused', 'convicted', '2', 'c.c.23993', '/2018', 'date', 'order', '27.12.2018', 'judgment', 'complainant', 'filed', 'complaint', 'section', '200', 'code', 'criminal', 'procedure', 'alleging', 'accused', 'has', 'committed', 'offence', 'punishable', 'section', '138', 'of', 'negotiable', 'instrument', 'act', '(', 'short', 'referred', '\"n.i.', 'act\").', '02.', 'sum', 'substance', 'complaint,', 'follows;', 'complainant', 'accused', 'known', 'from', 'past', 'five', 'years.', 'year', '2015,', 'accused', 'obtained', 'loan', 'of', 'rs.7,00,000/-', 'complainant', 'financial', 'commitments', 'agreed', 'repay', 'march', '2016.', 'complainant', 'agreed', 'receive', 'said', 'amount', 'on', 'monthly', 'installments', 'rs.12,000/-.', 'accused', 'paid', 'amount', 'of', 'rs.12,000/-', 'since', 'march', '2016', 'february', '2016', 'and', 'stopped', 'paying', 'said', 'amount', 'month', 'march', '2018.', 'complainant', 'demanded', 'accused', 'legally', 'recoverable', 'debt', 'due', 'him.', 'towards', 'discharge', 'liability,', 'accused', 'has', 'issued', 'cheque', 'bearing', 'no.000089', 'dated', '10.04.2018', 'for', '3', 'c.c.23993', '/2018', 'rs.4,80,000/-,', 'came', 'dishonoured', 'presentation', 'with', 'endorsement', '\"funds', 'insufficient\".', 'thereafter,', 'complainant', 'got', 'issued', 'legal', 'notice', 'accused', '05.07.2018,', 'which', 'duly', 'served', 'accused', '09.07.2018.', 'accused', 'neither', 'replied', 'notice', 'paid', 'cheque', 'amount.', 'hence', 'this', 'complaint.', '03.', 'filing', 'complaint,', 'court', 'taken', 'cognizance', 'for', 'the', 'offence', 'punishable', 'section', '138', 'negotiable', 'instrument', 'act,', 'sworn', 'statement', 'complainant', 'recorded.', 'being', 'satisfied', 'prima-facie', 'materials', 'proceed', 'against', 'accused,', 'summons', 'issued.', 'appearance,', 'accused', 'enlarged', 'bail', 'plea', 'recorded', 'per', 'section', '251', 'cr.p.c.', 'accused', 'stated', 'defence.', '04.', 'case', 'set', 'trial,', 'parties', 'and', 'counsels', 'filed', 'joint', 'memo', 'prays', 'judgment', 'accordingly.', '05.', 'heard', 'perused', 'materials', 'record.', '4', 'c.c.23993', '/2018', '06.', 'points', 'arise', 'consideration', 'follows;', 'points', '1.', 'whether', 'accused', 'liable', 'be', 'convicted', 'terms', 'joint', 'memo', 'dated', '30.', '11.2018?', '2.', 'order?', '07.', 'answer', 'points', 'follows;', '1.', 'point', 'no.1', 'affirmative', '2.', 'point', 'no.2', 'per', 'final', 'order', 'following;', 'reasons', '08.', 'point', 'no.1', 'complainant,', 'accused', 'respective', 'counsels', 'filed', 'joint', 'memo', '30.11.2018.', 'contents', 'the', 'same', 'read', 'explained', 'parties.', 'joint', 'memo,', 'accused', 'admitted', 'liability.', 'accused', 'agreed', 'to', 'pay', 'rs.5,50,000/-', '45', 'monthly', 'installments', 'rs.10,000/-', 'on', '10th', 'day', 'month', 'commencing', '10.12.2018', 'to', '10.08.2022.', 'accused', 'admitted', 'that,', 'case', 'default', 'payment', 'within', 'stipulated', 'period,', 'complainant', 'liberty', 'take', '5', 'c.c.23993', '/2018', 'appropriate', 'legal', 'action.', 'terms', 'conditions', 'mentioned', 'in', 'memo', 'part', 'parcel', 'order.', '09.', 'per', 'aforesaid', 'memo,', 'accused', 'admitted', 'the', 'liability', 'imposed', 'contemplated', 'complaint.', 'the', 'memo', 'field', 'complainant', 'accused', 'sufficient', 'to', 'answer', 'point', 'no.1', 'affirmative.', '10.', 'point', 'no.2', 'view', 'reasons', 'stated', 'and', 'discussed', 'point', 'no.1,', 'proceed', 'pass', 'following;', 'order', 'acting', 'section', '255', '(2)', 'of', 'criminal', 'procedure', 'code,', 'accused', 'is', 'hereby', 'convicted', 'offence', 'punishable', 'section', '138', 'negotiable', 'instrument', 'act', 'accused', 'sentenced', 'pay', 'fine', 'rs.5,50,000/-', '(five', 'lakh', 'fifty', 'thousand', 'only)', 'settled', 'joint', 'memo.', '6', 'c.c.23993', '/2018', 'said', 'amount', 'deposited', 'as', 'agreed', 'upon,', 'shall', 'paid', 'the', 'complainant', 'compensation.', 'terms', 'conditions', 'joint', 'memo', 'becomes', 'part', 'parcel', 'this', 'order.', 'default', 'payment', 'fine', 'amount,', 'accused', 'shall', 'undergo', 'imprisonment', '3', '(three)', 'months.', 'bail', 'bond', 'accused', 'stands', 'cancelled.', 'office', 'supply', 'copy', 'this', 'judgment', 'accused', 'immediately', 'on', 'free', 'cost.', '{dictated', 'stenographer', 'directly', 'computer,', 'corrected', 'and', 'then', 'signed', 'pronounced', 'open', 'court', '27th', 'day', 'december', '2018}.', '(kalpana', 'm.s.),', 'xx', 'acmm,', 'bengaluru.', '7', 'c.c.23993', '/2018', 'annexure', 'list', 'witnesses', 'examined', 'behalf', 'complainant', 'p.w.1', 't.s.mohana', 'list', 'documents', 'produced', 'behalf', 'complainant', 'ex.p.1', 'cheque', 'ex.p.1(a)', 'signature', 'accused', 'ex.p.', '2', 'bank', 'endorsement', 'ex.p.', '3', 'copy', 'legal', 'notice', 'ex.p.', '4', 'postal', 'receipt', 'ex.p.5', 'postal', 'acknowledgement', 'list', 'witnesses', 'examined', 'behalf', 'accused', '-nil-', 'list', 'documents', 'produced', 'behalf', 'accused', '-nil-', 'xx', 'a.c.m.m.,', 'bengaluru.', '8', 'c.c.23993', '/2018', 'dated', '27.12.2018', '(judgment', 'pronounced', 'open', 'court', 'vide', 'separate)', 'order', 'acting', 'section', '255', '(2)', 'of', 'criminal', 'procedure', 'code,', 'accused', 'is', 'hereby', 'convicted', 'offence', 'punishable', 'section', '138', 'negotiable', 'instrument', 'act', 'accused', 'sentenced', 'pay', 'fine', 'rs.5,50,000/-', '(five', 'lakh', 'fifty', 'thousand', 'only)', 'settled', 'joint', 'memo.', 'said', 'amount', 'deposited', 'as', 'agreed', 'upon,', 'shall', 'paid', 'the', 'complainant', 'compensation.', 'terms', 'conditions', 'joint', 'memo', 'becomes', 'part', 'parcel', 'this', 'order.', 'default', 'payment', 'fine', 'amount,', 'accused', 'shall', 'undergo', 'imprisonment', '3', '(three)', 'months.', 'bail', 'bond', 'accused', 'stands', 'cancelled.', '9', 'c.c.23993', '/2018', 'office', 'supply', 'copy', 'this', 'judgment', 'accused', 'immediately', 'on', 'free', 'cost.', 'xx', 'a.c.m.m.,', 'bengaluru.', 'bangalore', 'district', 'court', 't.s.mohana', 'vs', 'sridhar.m', '27', 'december,', '2018', 'court', 'xx', 'addl.chief', 'metropolitan', 'magistrate', 'bengaluru', 'city', 'dated', '27th', 'day', 'december', '2018', 'present', 'kalpana.m.s.,', 'b.sc.,', 'll.m.,', 'xx', 'addl.', 'c.m.m.', 'bengaluru.', 'c.c.no.23993/2018', 'complainant', 't.s.mohana,', 's/o.t.s.shivanna,', 'aged', '38', 'years,', 'r/at', 'no.479,', 'l.n.school', 'road,', 'meenakshinagara,', 'new', 'extension,', 'kamakshipalya,', 'bengaluru', '-', '560', '079.', 'vs.', 'accused', 'sridhar.m,', 's/o.maniraju,', 'aged', '40', 'years,', 'office', 'at.', 'td', 'power', 'systems', 'ltd,', 'no.27,28,29,', 'kiadb', 'industrial', 'area,', 'dabaspete,', 'nelamangala', 'taluk,', 'bengaluru', '-', '562', '111.', 'offence', 'complied', 'u/s.', '138', 'n.i.', 'act.,', 'plea', 'accused', 'pleaded', 'guilty', 'final', 'order', 'accused', 'convicted', '2', 'c.c.23993', '/2018', 'date', 'order', '27.12.2018', 'judgment', 'complainant', 'filed', 'complaint', 'section', '200', 'code', 'criminal', 'procedure', 'alleging', 'accused', 'has', 'committed', 'offence', 'punishable', 'section', '138', 'of', 'negotiable', 'instrument', 'act', '(', 'short', 'referred', '\"n.i.', 'act\").', '02.', 'sum', 'substance', 'complaint,', 'follows;', 'complainant', 'accused', 'known', 'from', 'past', 'five', 'years.', 'year', '2015,', 'accused', 'obtained', 'loan', 'of', 'rs.7,00,000/-', 'complainant', 'financial', 'commitments', 'agreed', 'repay', 'march', '2016.', 'complainant', 'agreed', 'receive', 'said', 'amount', 'on', 'monthly', 'installments', 'rs.12,000/-.', 'accused', 'paid', 'amount', 'of', 'rs.12,000/-', 'since', 'march', '2016', 'february', '2016', 'and', 'stopped', 'paying', 'said', 'amount', 'month', 'march', '2018.', 'complainant', 'demanded', 'accused', 'legally', 'recoverable', 'debt', 'due', 'him.', 'towards', 'discharge', 'liability,', 'accused', 'has', 'issued', 'cheque', 'bearing', 'no.000089', 'dated', '10.04.2018', 'for', '3', 'c.c.23993', '/2018', 'rs.4,80,000/-,', 'came', 'dishonoured', 'presentation', 'with', 'endorsement', '\"funds', 'insufficient\".', 'thereafter,', 'complainant', 'got', 'issued', 'legal', 'notice', 'accused', '05.07.2018,', 'which', 'duly', 'served', 'accused', '09.07.2018.', 'accused', 'neither', 'replied', 'notice', 'paid', 'cheque', 'amount.', 'hence', 'this', 'complaint.', '03.', 'filing', 'complaint,', 'court', 'taken', 'cognizance', 'for', 'the', 'offence', 'punishable', 'section', '138', 'negotiable', 'instrument', 'act,', 'sworn', 'statement', 'complainant', 'recorded.', 'being', 'satisfied', 'prima-facie', 'materials', 'proceed', 'against', 'accused,', 'summons', 'issued.', 'appearance,', 'accused', 'enlarged', 'bail', 'plea', 'recorded', 'per', 'section', '251', 'cr.p.c.', 'accused', 'stated', 'defence.', '04.', 'case', 'set', 'trial,', 'parties', 'and', 'counsels', 'filed', 'joint', 'memo', 'prays', 'judgment', 'accordingly.', '05.', 'heard', 'perused', 'materials', 'record.', '4', 'c.c.23993', '/2018', '06.', 'points', 'arise', 'consideration', 'follows;', 'points', '1.', 'whether', 'accused', 'liable', 'be', 'convicted', 'terms', 'joint', 'memo', 'dated', '30.', '11.2018?', '2.', 'order?', '07.', 'answer', 'points', 'follows;', '1.', 'point', 'no.1', 'affirmative', '2.', 'point', 'no.2', 'per', 'final', 'order', 'following;', 'reasons', '08.', 'point', 'no.1', 'complainant,', 'accused', 'respective', 'counsels', 'filed', 'joint', 'memo', '30.11.2018.', 'contents', 'the', 'same', 'read', 'explained', 'parties.', 'joint', 'memo,', 'accused', 'admitted', 'liability.', 'accused', 'agreed', 'to', 'pay', 'rs.5,50,000/-', '45', 'monthly', 'installments', 'rs.10,000/-', 'on', '10th', 'day', 'month', 'commencing', '10.12.2018', 'to', '10.08.2022.', 'accused', 'admitted', 'that,', 'case', 'default', 'payment', 'within', 'stipulated', 'period,', 'complainant', 'liberty', 'take', '5', 'c.c.23993', '/2018', 'appropriate', 'legal', 'action.', 'terms', 'conditions', 'mentioned', 'in', 'memo', 'part', 'parcel', 'order.', '09.', 'per', 'aforesaid', 'memo,', 'accused', 'admitted', 'the', 'liability', 'imposed', 'contemplated', 'complaint.', 'the', 'memo', 'field', 'complainant', 'accused', 'sufficient', 'to', 'answer', 'point', 'no.1', 'affirmative.', '10.', 'point', 'no.2', 'view', 'reasons', 'stated', 'and', 'discussed', 'point', 'no.1,', 'proceed', 'pass', 'following;', 'order', 'acting', 'section', '255', '(2)', 'of', 'criminal', 'procedure', 'code,', 'accused', 'is', 'hereby', 'convicted', 'offence', 'punishable', 'section', '138', 'negotiable', 'instrument', 'act', 'accused', 'sentenced', 'pay', 'fine', 'rs.5,50,000/-', '(five', 'lakh', 'fifty', 'thousand', 'only)', 'settled', 'joint', 'memo.', '6', 'c.c.23993', '/2018', 'said', 'amount', 'deposited', 'as', 'agreed', 'upon,', 'shall', 'paid', 'the', 'complainant', 'compensation.', 'terms', 'conditions', 'joint', 'memo', 'becomes', 'part', 'parcel', 'this', 'order.', 'default', 'payment', 'fine', 'amount,', 'accused', 'shall', 'undergo', 'imprisonment', '3', '(three)', 'months.', 'bail', 'bond', 'accused', 'stands', 'cancelled.', 'office', 'supply', 'copy', 'this', 'judgment', 'accused', 'immediately', 'on', 'free', 'cost.', '{dictated', 'stenographer', 'directly', 'computer,', 'corrected', 'and', 'then', 'signed', 'pronounced', 'open', 'court', '27th', 'day', 'december', '2018}.', '(kalpana', 'm.s.),', 'xx', 'acmm,', 'bengaluru.', '7', 'c.c.23993', '/2018', 'annexure', 'list', 'witnesses', 'examined', 'behalf', 'complainant', 'p.w.1', 't.s.mohana', 'list', 'documents', 'produced', 'behalf', 'complainant', 'ex.p.1', 'cheque', 'ex.p.1(a)', 'signature', 'accused', 'ex.p.', '2', 'bank', 'endorsement', 'ex.p.', '3', 'copy', 'legal', 'notice', 'ex.p.', '4', 'postal', 'receipt', 'ex.p.5', 'postal', 'acknowledgement', 'list', 'witnesses', 'examined', 'behalf', 'accused', '-nil-', 'list', 'documents', 'produced', 'behalf', 'accused', '-nil-', 'xx', 'a.c.m.m.,', 'bengaluru.', '8', 'c.c.23993', '/2018', 'dated', '27.12.2018', '(judgment', 'pronounced', 'open', 'court', 'vide', 'separate)', 'order', 'acting', 'section', '255', '(2)', 'of', 'criminal', 'procedure', 'code,', 'accused', 'is', 'hereby', 'convicted', 'offence', 'punishable', 'section', '138', 'negotiable', 'instrument', 'act', 'accused', 'sentenced', 'pay', 'fine', 'rs.5,50,000/-', '(five', 'lakh', 'fifty', 'thousand', 'only)', 'settled', 'joint', 'memo.', 'said', 'amount', 'deposited', 'as', 'agreed', 'upon,', 'shall', 'paid', 'the', 'complainant', 'compensation.', 'terms', 'conditions', 'joint', 'memo', 'becomes', 'part', 'parcel', 'this', 'order.', 'default', 'payment', 'fine', 'amount,', 'accused', 'shall', 'undergo', 'imprisonment', '3', '(three)', 'months.', 'bail', 'bond', 'accused', 'stands', 'cancelled.', '9', 'c.c.23993', '/2018', 'office', 'supply', 'copy', 'this', 'judgment', 'accused', 'immediately', 'on', 'free', 'cost.', 'xx', 'a.c.m.m.,', 'bengaluru.', \"'\"]\n"
          ]
        }
      ]
    },
    {
      "cell_type": "code",
      "metadata": {
        "colab": {
          "base_uri": "https://localhost:8080/"
        },
        "id": "c_eZd0Pu9NdV",
        "outputId": "2589d5d1-66ea-46fa-c910-addba516745b"
      },
      "source": [
        "import nltk\n",
        "nltk.download('punkt')"
      ],
      "execution_count": null,
      "outputs": [
        {
          "output_type": "stream",
          "name": "stdout",
          "text": [
            "[nltk_data] Downloading package punkt to /root/nltk_data...\n",
            "[nltk_data]   Package punkt is already up-to-date!\n"
          ]
        },
        {
          "output_type": "execute_result",
          "data": {
            "text/plain": [
              "True"
            ]
          },
          "metadata": {},
          "execution_count": 32
        }
      ]
    },
    {
      "cell_type": "code",
      "metadata": {
        "colab": {
          "base_uri": "https://localhost:8080/",
          "height": 438
        },
        "id": "jqOF2xEg9Qw1",
        "outputId": "0ed7f8e9-314f-4f24-b6af-2696faa16012"
      },
      "source": [
        "from nltk.tag import StanfordNERTagger\n",
        "from nltk.tokenize import word_tokenize\n",
        "\n",
        "st = StanfordNERTagger('/content/gdrive/MyDrive/Stanford NER model/stanford-ner-2020-11-17/classifiers/english.all.3class.distsim.crf.ser.gz',\n",
        "\t\t\t\t\t   '/content/gdrive/MyDrive/Stanford NER model/stanford-ner-2020-11-17/stanford-ner.jar',\n",
        "\t\t\t\t\t   encoding='utf-8')\n",
        "\n",
        "#classified_text = st.tag(word_list)\n",
        "\n",
        "#text = \"Bangalore is a beautiful city\"\n",
        "\n",
        "tokenized_text = word_tokenize(wordstring)\n",
        "classified_text = st.tag(tokenized_text)\n",
        "\n",
        "#print(tokenized_text)\n",
        "print(classified_text)"
      ],
      "execution_count": null,
      "outputs": [
        {
          "output_type": "stream",
          "name": "stderr",
          "text": [
            "/usr/local/lib/python3.7/dist-packages/nltk/tag/stanford.py:183: DeprecationWarning: \n",
            "The StanfordTokenizer will be deprecated in version 3.2.5.\n",
            "Please use \u001b[91mnltk.tag.corenlp.CoreNLPPOSTagger\u001b[0m or \u001b[91mnltk.tag.corenlp.CoreNLPNERTagger\u001b[0m instead.\n",
            "  super(StanfordNERTagger, self).__init__(*args, **kwargs)\n"
          ]
        },
        {
          "output_type": "error",
          "ename": "LookupError",
          "evalue": "ignored",
          "traceback": [
            "\u001b[0;31m---------------------------------------------------------------------------\u001b[0m",
            "\u001b[0;31mLookupError\u001b[0m                               Traceback (most recent call last)",
            "\u001b[0;32m<ipython-input-1-519dcd5cf780>\u001b[0m in \u001b[0;36m<module>\u001b[0;34m()\u001b[0m\n\u001b[1;32m      4\u001b[0m st = StanfordNERTagger('/content/gdrive/MyDrive/Stanford NER model/stanford-ner-2020-11-17/classifiers/english.all.3class.distsim.crf.ser.gz',\n\u001b[1;32m      5\u001b[0m                                            \u001b[0;34m'/content/gdrive/MyDrive/Stanford NER model/stanford-ner-2020-11-17/stanford-ner.jar'\u001b[0m\u001b[0;34m,\u001b[0m\u001b[0;34m\u001b[0m\u001b[0;34m\u001b[0m\u001b[0m\n\u001b[0;32m----> 6\u001b[0;31m \t\t\t\t\t   encoding='utf-8')\n\u001b[0m\u001b[1;32m      7\u001b[0m \u001b[0;34m\u001b[0m\u001b[0m\n\u001b[1;32m      8\u001b[0m \u001b[0;31m#classified_text = st.tag(word_list)\u001b[0m\u001b[0;34m\u001b[0m\u001b[0;34m\u001b[0m\u001b[0;34m\u001b[0m\u001b[0m\n",
            "\u001b[0;32m/usr/local/lib/python3.7/dist-packages/nltk/tag/stanford.py\u001b[0m in \u001b[0;36m__init__\u001b[0;34m(self, *args, **kwargs)\u001b[0m\n\u001b[1;32m    181\u001b[0m \u001b[0;34m\u001b[0m\u001b[0m\n\u001b[1;32m    182\u001b[0m     \u001b[0;32mdef\u001b[0m \u001b[0m__init__\u001b[0m\u001b[0;34m(\u001b[0m\u001b[0mself\u001b[0m\u001b[0;34m,\u001b[0m \u001b[0;34m*\u001b[0m\u001b[0margs\u001b[0m\u001b[0;34m,\u001b[0m \u001b[0;34m**\u001b[0m\u001b[0mkwargs\u001b[0m\u001b[0;34m)\u001b[0m\u001b[0;34m:\u001b[0m\u001b[0;34m\u001b[0m\u001b[0;34m\u001b[0m\u001b[0m\n\u001b[0;32m--> 183\u001b[0;31m         \u001b[0msuper\u001b[0m\u001b[0;34m(\u001b[0m\u001b[0mStanfordNERTagger\u001b[0m\u001b[0;34m,\u001b[0m \u001b[0mself\u001b[0m\u001b[0;34m)\u001b[0m\u001b[0;34m.\u001b[0m\u001b[0m__init__\u001b[0m\u001b[0;34m(\u001b[0m\u001b[0;34m*\u001b[0m\u001b[0margs\u001b[0m\u001b[0;34m,\u001b[0m \u001b[0;34m**\u001b[0m\u001b[0mkwargs\u001b[0m\u001b[0;34m)\u001b[0m\u001b[0;34m\u001b[0m\u001b[0;34m\u001b[0m\u001b[0m\n\u001b[0m\u001b[1;32m    184\u001b[0m \u001b[0;34m\u001b[0m\u001b[0m\n\u001b[1;32m    185\u001b[0m     \u001b[0;34m@\u001b[0m\u001b[0mproperty\u001b[0m\u001b[0;34m\u001b[0m\u001b[0;34m\u001b[0m\u001b[0m\n",
            "\u001b[0;32m/usr/local/lib/python3.7/dist-packages/nltk/tag/stanford.py\u001b[0m in \u001b[0;36m__init__\u001b[0;34m(self, model_filename, path_to_jar, encoding, verbose, java_options)\u001b[0m\n\u001b[1;32m     64\u001b[0m                 \u001b[0mself\u001b[0m\u001b[0;34m.\u001b[0m\u001b[0m_JAR\u001b[0m\u001b[0;34m,\u001b[0m \u001b[0mpath_to_jar\u001b[0m\u001b[0;34m,\u001b[0m\u001b[0;34m\u001b[0m\u001b[0;34m\u001b[0m\u001b[0m\n\u001b[1;32m     65\u001b[0m                 \u001b[0msearchpath\u001b[0m\u001b[0;34m=\u001b[0m\u001b[0;34m(\u001b[0m\u001b[0;34m)\u001b[0m\u001b[0;34m,\u001b[0m \u001b[0murl\u001b[0m\u001b[0;34m=\u001b[0m\u001b[0m_stanford_url\u001b[0m\u001b[0;34m,\u001b[0m\u001b[0;34m\u001b[0m\u001b[0;34m\u001b[0m\u001b[0m\n\u001b[0;32m---> 66\u001b[0;31m                 verbose=verbose)\n\u001b[0m\u001b[1;32m     67\u001b[0m \u001b[0;34m\u001b[0m\u001b[0m\n\u001b[1;32m     68\u001b[0m         self._stanford_model = find_file(model_filename,\n",
            "\u001b[0;32m/usr/local/lib/python3.7/dist-packages/nltk/__init__.py\u001b[0m in \u001b[0;36mfind_jar\u001b[0;34m(name_pattern, path_to_jar, env_vars, searchpath, url, verbose, is_regex)\u001b[0m\n\u001b[1;32m    719\u001b[0m         searchpath=(), url=None, verbose=False, is_regex=False):\n\u001b[1;32m    720\u001b[0m     return next(find_jar_iter(name_pattern, path_to_jar, env_vars,\n\u001b[0;32m--> 721\u001b[0;31m                          searchpath, url, verbose, is_regex))\n\u001b[0m\u001b[1;32m    722\u001b[0m \u001b[0;34m\u001b[0m\u001b[0m\n\u001b[1;32m    723\u001b[0m \u001b[0;34m\u001b[0m\u001b[0m\n",
            "\u001b[0;32m/usr/local/lib/python3.7/dist-packages/nltk/__init__.py\u001b[0m in \u001b[0;36mfind_jar_iter\u001b[0;34m(name_pattern, path_to_jar, env_vars, searchpath, url, verbose, is_regex)\u001b[0m\n\u001b[1;32m    635\u001b[0m         \u001b[0;32melse\u001b[0m\u001b[0;34m:\u001b[0m\u001b[0;34m\u001b[0m\u001b[0;34m\u001b[0m\u001b[0m\n\u001b[1;32m    636\u001b[0m             raise LookupError('Could not find %s jar file at %s' %\n\u001b[0;32m--> 637\u001b[0;31m                             (name_pattern, path_to_jar))\n\u001b[0m\u001b[1;32m    638\u001b[0m \u001b[0;34m\u001b[0m\u001b[0m\n\u001b[1;32m    639\u001b[0m     \u001b[0;31m# Check environment variables\u001b[0m\u001b[0;34m\u001b[0m\u001b[0;34m\u001b[0m\u001b[0;34m\u001b[0m\u001b[0m\n",
            "\u001b[0;31mLookupError\u001b[0m: Could not find stanford-ner.jar jar file at /content/gdrive/MyDrive/Stanford NER model/stanford-ner-2020-11-17/stanford-ner.jar"
          ]
        }
      ]
    },
    {
      "cell_type": "code",
      "metadata": {
        "colab": {
          "base_uri": "https://localhost:8080/"
        },
        "id": "5JeZoZ3y_qKM",
        "outputId": "23756865-ff5c-4f77-f183-4f9134b31d62"
      },
      "source": [
        "text = \"In recent times, the wind of reform which aims at paving the way for a healthy, dynamic, financially viable and self-sustained growth of the power sector to meet the ever increasing demand for electricity from various categories of customers on an equitable basis both in terms of quality and quantity as well as of reasonable tariff so as to facilitate a rapid growth of the Nation's economy is blowing in almost all the States in India. Sometimes, as in the case of the State of Andhra Pradesh, the blowing of the reform wind was very hard, strong and hurting too against certain hitherto protected and favoured categories of consumers of electricity like agriculturists and domestic consumers, irrespective of the fact whether it is justified or not. This resulted in perceived shock and dismay and spontaneously generated persistent and percurrent protests, rallies, agitations ending, at times, with unpardonable violence denounced with abomination and righteous indignation by the Father of the Nation. Police interventions in the troubled situations and accusations of the police excesses have become talk of the State and rocked the proceedings of the A.P. State Legislative Assembly. The State of Andhra Pradesh recently underwent such experience immediately after the impugned increase of the electricity tariff. It is stated that it is the aim of the State Government to structure the power sector in such a manner as to impart the creditworthiness needed to new investments by facilitating its functions on sound commercial lines. The State Government has recognised that functional unbundling and corporatisation of the power sector is one of the necessary and crucial steps for investment so as to bring around fundamental change in its functioning, and make it work on sound principles of modern management. It was also felt that distancing of the State Government from the ownership and operations of the power sector by imparting functional autonomy to the various functional unbundled entities in the power sector will go a long way in fostering the much needed commercial orientation, to the long ailing power sector. As a necessary corollary, it seems, the State Government wanted to withdraw from its earlier role of regulation of power sector including the regulation of tariff to retain with itself only the role of broad formulation of socio-economic policies. The result of the new thought and orientation is the enactment of the Andhra Pradesh Electricity Reform Act, 1998 (Act 30 of 1998) (for short 'the Reform Act')\"\n",
        "\n",
        "tokenized_text2 = word_tokenize(text)\n",
        "classified_text2 = st.tag(tokenized_text2)\n",
        "\n",
        "print (classified_text2)"
      ],
      "execution_count": null,
      "outputs": [
        {
          "output_type": "stream",
          "name": "stdout",
          "text": [
            "[('In', 'O'), ('recent', 'O'), ('times', 'O'), (',', 'O'), ('the', 'O'), ('wind', 'O'), ('of', 'O'), ('reform', 'O'), ('which', 'O'), ('aims', 'O'), ('at', 'O'), ('paving', 'O'), ('the', 'O'), ('way', 'O'), ('for', 'O'), ('a', 'O'), ('healthy', 'O'), (',', 'O'), ('dynamic', 'O'), (',', 'O'), ('financially', 'O'), ('viable', 'O'), ('and', 'O'), ('self-sustained', 'O'), ('growth', 'O'), ('of', 'O'), ('the', 'O'), ('power', 'O'), ('sector', 'O'), ('to', 'O'), ('meet', 'O'), ('the', 'O'), ('ever', 'O'), ('increasing', 'O'), ('demand', 'O'), ('for', 'O'), ('electricity', 'O'), ('from', 'O'), ('various', 'O'), ('categories', 'O'), ('of', 'O'), ('customers', 'O'), ('on', 'O'), ('an', 'O'), ('equitable', 'O'), ('basis', 'O'), ('both', 'O'), ('in', 'O'), ('terms', 'O'), ('of', 'O'), ('quality', 'O'), ('and', 'O'), ('quantity', 'O'), ('as', 'O'), ('well', 'O'), ('as', 'O'), ('of', 'O'), ('reasonable', 'O'), ('tariff', 'O'), ('so', 'O'), ('as', 'O'), ('to', 'O'), ('facilitate', 'O'), ('a', 'O'), ('rapid', 'O'), ('growth', 'O'), ('of', 'O'), ('the', 'O'), ('Nation', 'O'), (\"'s\", 'O'), ('economy', 'O'), ('is', 'O'), ('blowing', 'O'), ('in', 'O'), ('almost', 'O'), ('all', 'O'), ('the', 'O'), ('States', 'LOCATION'), ('in', 'O'), ('India', 'LOCATION'), ('.', 'O'), ('Sometimes', 'O'), (',', 'O'), ('as', 'O'), ('in', 'O'), ('the', 'O'), ('case', 'O'), ('of', 'O'), ('the', 'O'), ('State', 'O'), ('of', 'O'), ('Andhra', 'LOCATION'), ('Pradesh', 'LOCATION'), (',', 'O'), ('the', 'O'), ('blowing', 'O'), ('of', 'O'), ('the', 'O'), ('reform', 'O'), ('wind', 'O'), ('was', 'O'), ('very', 'O'), ('hard', 'O'), (',', 'O'), ('strong', 'O'), ('and', 'O'), ('hurting', 'O'), ('too', 'O'), ('against', 'O'), ('certain', 'O'), ('hitherto', 'O'), ('protected', 'O'), ('and', 'O'), ('favoured', 'O'), ('categories', 'O'), ('of', 'O'), ('consumers', 'O'), ('of', 'O'), ('electricity', 'O'), ('like', 'O'), ('agriculturists', 'O'), ('and', 'O'), ('domestic', 'O'), ('consumers', 'O'), (',', 'O'), ('irrespective', 'O'), ('of', 'O'), ('the', 'O'), ('fact', 'O'), ('whether', 'O'), ('it', 'O'), ('is', 'O'), ('justified', 'O'), ('or', 'O'), ('not', 'O'), ('.', 'O'), ('This', 'O'), ('resulted', 'O'), ('in', 'O'), ('perceived', 'O'), ('shock', 'O'), ('and', 'O'), ('dismay', 'O'), ('and', 'O'), ('spontaneously', 'O'), ('generated', 'O'), ('persistent', 'O'), ('and', 'O'), ('percurrent', 'O'), ('protests', 'O'), (',', 'O'), ('rallies', 'O'), (',', 'O'), ('agitations', 'O'), ('ending', 'O'), (',', 'O'), ('at', 'O'), ('times', 'O'), (',', 'O'), ('with', 'O'), ('unpardonable', 'O'), ('violence', 'O'), ('denounced', 'O'), ('with', 'O'), ('abomination', 'O'), ('and', 'O'), ('righteous', 'O'), ('indignation', 'O'), ('by', 'O'), ('the', 'O'), ('Father', 'O'), ('of', 'O'), ('the', 'O'), ('Nation', 'O'), ('.', 'O'), ('Police', 'O'), ('interventions', 'O'), ('in', 'O'), ('the', 'O'), ('troubled', 'O'), ('situations', 'O'), ('and', 'O'), ('accusations', 'O'), ('of', 'O'), ('the', 'O'), ('police', 'O'), ('excesses', 'O'), ('have', 'O'), ('become', 'O'), ('talk', 'O'), ('of', 'O'), ('the', 'O'), ('State', 'O'), ('and', 'O'), ('rocked', 'O'), ('the', 'O'), ('proceedings', 'O'), ('of', 'O'), ('the', 'O'), ('A.P', 'O'), ('.', 'O'), ('State', 'ORGANIZATION'), ('Legislative', 'ORGANIZATION'), ('Assembly', 'ORGANIZATION'), ('.', 'O'), ('The', 'O'), ('State', 'O'), ('of', 'O'), ('Andhra', 'LOCATION'), ('Pradesh', 'LOCATION'), ('recently', 'O'), ('underwent', 'O'), ('such', 'O'), ('experience', 'O'), ('immediately', 'O'), ('after', 'O'), ('the', 'O'), ('impugned', 'O'), ('increase', 'O'), ('of', 'O'), ('the', 'O'), ('electricity', 'O'), ('tariff', 'O'), ('.', 'O'), ('It', 'O'), ('is', 'O'), ('stated', 'O'), ('that', 'O'), ('it', 'O'), ('is', 'O'), ('the', 'O'), ('aim', 'O'), ('of', 'O'), ('the', 'O'), ('State', 'O'), ('Government', 'O'), ('to', 'O'), ('structure', 'O'), ('the', 'O'), ('power', 'O'), ('sector', 'O'), ('in', 'O'), ('such', 'O'), ('a', 'O'), ('manner', 'O'), ('as', 'O'), ('to', 'O'), ('impart', 'O'), ('the', 'O'), ('creditworthiness', 'O'), ('needed', 'O'), ('to', 'O'), ('new', 'O'), ('investments', 'O'), ('by', 'O'), ('facilitating', 'O'), ('its', 'O'), ('functions', 'O'), ('on', 'O'), ('sound', 'O'), ('commercial', 'O'), ('lines', 'O'), ('.', 'O'), ('The', 'O'), ('State', 'O'), ('Government', 'O'), ('has', 'O'), ('recognised', 'O'), ('that', 'O'), ('functional', 'O'), ('unbundling', 'O'), ('and', 'O'), ('corporatisation', 'O'), ('of', 'O'), ('the', 'O'), ('power', 'O'), ('sector', 'O'), ('is', 'O'), ('one', 'O'), ('of', 'O'), ('the', 'O'), ('necessary', 'O'), ('and', 'O'), ('crucial', 'O'), ('steps', 'O'), ('for', 'O'), ('investment', 'O'), ('so', 'O'), ('as', 'O'), ('to', 'O'), ('bring', 'O'), ('around', 'O'), ('fundamental', 'O'), ('change', 'O'), ('in', 'O'), ('its', 'O'), ('functioning', 'O'), (',', 'O'), ('and', 'O'), ('make', 'O'), ('it', 'O'), ('work', 'O'), ('on', 'O'), ('sound', 'O'), ('principles', 'O'), ('of', 'O'), ('modern', 'O'), ('management', 'O'), ('.', 'O'), ('It', 'O'), ('was', 'O'), ('also', 'O'), ('felt', 'O'), ('that', 'O'), ('distancing', 'O'), ('of', 'O'), ('the', 'O'), ('State', 'O'), ('Government', 'O'), ('from', 'O'), ('the', 'O'), ('ownership', 'O'), ('and', 'O'), ('operations', 'O'), ('of', 'O'), ('the', 'O'), ('power', 'O'), ('sector', 'O'), ('by', 'O'), ('imparting', 'O'), ('functional', 'O'), ('autonomy', 'O'), ('to', 'O'), ('the', 'O'), ('various', 'O'), ('functional', 'O'), ('unbundled', 'O'), ('entities', 'O'), ('in', 'O'), ('the', 'O'), ('power', 'O'), ('sector', 'O'), ('will', 'O'), ('go', 'O'), ('a', 'O'), ('long', 'O'), ('way', 'O'), ('in', 'O'), ('fostering', 'O'), ('the', 'O'), ('much', 'O'), ('needed', 'O'), ('commercial', 'O'), ('orientation', 'O'), (',', 'O'), ('to', 'O'), ('the', 'O'), ('long', 'O'), ('ailing', 'O'), ('power', 'O'), ('sector', 'O'), ('.', 'O'), ('As', 'O'), ('a', 'O'), ('necessary', 'O'), ('corollary', 'O'), (',', 'O'), ('it', 'O'), ('seems', 'O'), (',', 'O'), ('the', 'O'), ('State', 'ORGANIZATION'), ('Government', 'ORGANIZATION'), ('wanted', 'O'), ('to', 'O'), ('withdraw', 'O'), ('from', 'O'), ('its', 'O'), ('earlier', 'O'), ('role', 'O'), ('of', 'O'), ('regulation', 'O'), ('of', 'O'), ('power', 'O'), ('sector', 'O'), ('including', 'O'), ('the', 'O'), ('regulation', 'O'), ('of', 'O'), ('tariff', 'O'), ('to', 'O'), ('retain', 'O'), ('with', 'O'), ('itself', 'O'), ('only', 'O'), ('the', 'O'), ('role', 'O'), ('of', 'O'), ('broad', 'O'), ('formulation', 'O'), ('of', 'O'), ('socio-economic', 'O'), ('policies', 'O'), ('.', 'O'), ('The', 'O'), ('result', 'O'), ('of', 'O'), ('the', 'O'), ('new', 'O'), ('thought', 'O'), ('and', 'O'), ('orientation', 'O'), ('is', 'O'), ('the', 'O'), ('enactment', 'O'), ('of', 'O'), ('the', 'O'), ('Andhra', 'O'), ('Pradesh', 'O'), ('Electricity', 'O'), ('Reform', 'O'), ('Act', 'O'), (',', 'O'), ('1998', 'O'), ('(', 'O'), ('Act', 'O'), ('30', 'O'), ('of', 'O'), ('1998', 'O'), (')', 'O'), ('(', 'O'), ('for', 'O'), ('short', 'O'), (\"'the\", 'O'), ('Reform', 'O'), ('Act', 'O'), (\"'\", 'O'), (')', 'O')]\n"
          ]
        }
      ]
    },
    {
      "cell_type": "code",
      "metadata": {
        "colab": {
          "base_uri": "https://localhost:8080/"
        },
        "id": "rT9X1TC8_BT0",
        "outputId": "9c3f0d7a-92ee-48a4-8d32-38c7b13be267"
      },
      "source": [
        "classified_text"
      ],
      "execution_count": null,
      "outputs": [
        {
          "output_type": "execute_result",
          "data": {
            "text/plain": [
              "[(\"b'\\\\n'b'Bangalore\", 'O'),\n",
              " ('District', 'O'),\n",
              " (\"Court\\\\n'b'T.S.Mohana\", 'O'),\n",
              " ('vs', 'O'),\n",
              " ('Sridhar.M', 'O'),\n",
              " ('on', 'O'),\n",
              " ('27', 'O'),\n",
              " ('December', 'O'),\n",
              " (',', 'O'),\n",
              " ('2018', 'O'),\n",
              " ('IN', 'O'),\n",
              " ('THE', 'O'),\n",
              " ('COURT', 'O'),\n",
              " ('OF', 'O'),\n",
              " ('THE', 'O'),\n",
              " ('XX', 'O'),\n",
              " ('ADDL.CHIEF', 'O'),\n",
              " (\"METROPOLITAN\\\\n'b\", 'O'),\n",
              " (\"'\", 'O'),\n",
              " ('MAGISTRATE', 'ORGANIZATION'),\n",
              " ('AT', 'O'),\n",
              " ('BENGALURU', 'O'),\n",
              " (\"CITY\\\\n'b'\\\\n'b\", 'O'),\n",
              " (\"'\", 'O'),\n",
              " ('Dated', 'O'),\n",
              " ('this', 'O'),\n",
              " ('the', 'O'),\n",
              " ('27th', 'O'),\n",
              " ('day', 'O'),\n",
              " ('of', 'O'),\n",
              " ('December', 'O'),\n",
              " (\"2018\\\\n'b'\\\\n'b\", 'O'),\n",
              " (\"'\", 'O'),\n",
              " ('PRESENT', 'O'),\n",
              " (':', 'O'),\n",
              " ('KALPANA.M.S.', 'O'),\n",
              " (',', 'O'),\n",
              " (\"\\\\n'b\", 'O'),\n",
              " (\"'\", 'O'),\n",
              " ('B.Sc.', 'O'),\n",
              " (',', 'O'),\n",
              " ('LL.M.', 'O'),\n",
              " (',', 'O'),\n",
              " (\"\\\\n'b\", 'O'),\n",
              " (\"'\", 'O'),\n",
              " ('XX', 'O'),\n",
              " ('ADDL', 'O'),\n",
              " ('.', 'O'),\n",
              " (\"C.M.M.\\\\n'b\", 'O'),\n",
              " (\"'\", 'O'),\n",
              " (\"Bengaluru.\\\\n'b'\\\\n'b\", 'O'),\n",
              " (\"'\", 'O'),\n",
              " (\"C.C.No.239932018\\\\n'b'\\\\n'b'Complainant\", 'O'),\n",
              " (':', 'O'),\n",
              " ('T.S.Mohana', 'O'),\n",
              " (',', 'O'),\n",
              " (\"\\\\n'b\", 'O'),\n",
              " (\"'\", 'O'),\n",
              " ('So.T.S.Shivanna', 'O'),\n",
              " (',', 'O'),\n",
              " (\"\\\\n'b\", 'O'),\n",
              " (\"'\", 'O'),\n",
              " ('Aged', 'O'),\n",
              " ('about', 'O'),\n",
              " ('38', 'O'),\n",
              " ('years', 'O'),\n",
              " (',', 'O'),\n",
              " (\"\\\\n'b\", 'O'),\n",
              " (\"'\", 'O'),\n",
              " ('Rat', 'O'),\n",
              " ('No.479', 'O'),\n",
              " (',', 'O'),\n",
              " ('L.N.School', 'LOCATION'),\n",
              " ('Road', 'LOCATION'),\n",
              " (',', 'O'),\n",
              " (\"\\\\n'b\", 'O'),\n",
              " (\"'\", 'O'),\n",
              " ('Meenakshinagara', 'O'),\n",
              " (',', 'O'),\n",
              " (\"\\\\n'b\", 'O'),\n",
              " (\"'\", 'O'),\n",
              " ('New', 'O'),\n",
              " ('extension', 'O'),\n",
              " (',', 'O'),\n",
              " ('Kamakshipalya', 'LOCATION'),\n",
              " (',', 'O'),\n",
              " (\"\\\\n'b\", 'O'),\n",
              " (\"'\", 'O'),\n",
              " ('Bengaluru', 'O'),\n",
              " ('-', 'O'),\n",
              " ('560', 'O'),\n",
              " (\"079.\\\\n'b'\\\\n'b\", 'O'),\n",
              " (\"'\", 'O'),\n",
              " (\"Vs.\\\\n'b'\\\\n'b'Accused\", 'O'),\n",
              " (':', 'O'),\n",
              " ('Sridhar.M', 'O'),\n",
              " (',', 'O'),\n",
              " (\"\\\\n'b\", 'O'),\n",
              " (\"'\", 'O'),\n",
              " ('So.Maniraju', 'O'),\n",
              " (',', 'O'),\n",
              " (\"\\\\n'b\", 'O'),\n",
              " (\"'\", 'O'),\n",
              " ('Aged', 'O'),\n",
              " ('about', 'O'),\n",
              " ('40', 'O'),\n",
              " ('years', 'O'),\n",
              " (',', 'O'),\n",
              " (\"\\\\n'b\", 'O'),\n",
              " (\"'\", 'O'),\n",
              " ('Office', 'O'),\n",
              " ('at', 'O'),\n",
              " ('.', 'O'),\n",
              " ('TD', 'O'),\n",
              " ('POWER', 'O'),\n",
              " ('SYSTEMS', 'O'),\n",
              " ('LTD', 'O'),\n",
              " (',', 'O'),\n",
              " (\"\\\\n'b\", 'O'),\n",
              " (\"'\", 'O'),\n",
              " ('No.27,28,29', 'O'),\n",
              " (',', 'O'),\n",
              " ('KIADB', 'ORGANIZATION'),\n",
              " ('Industrial', 'ORGANIZATION'),\n",
              " ('Area', 'ORGANIZATION'),\n",
              " (',', 'O'),\n",
              " (\"\\\\n'b\", 'O'),\n",
              " (\"'\", 'O'),\n",
              " ('Dabaspete', 'O'),\n",
              " (',', 'O'),\n",
              " ('Nelamangala', 'PERSON'),\n",
              " ('Taluk', 'PERSON'),\n",
              " (',', 'O'),\n",
              " (\"\\\\n'b\", 'O'),\n",
              " (\"'\", 'O'),\n",
              " ('Bengaluru', 'O'),\n",
              " ('-', 'O'),\n",
              " ('562', 'O'),\n",
              " (\"111.\\\\n'b'\\\\n'b'\\\\n'b'Offence\", 'O'),\n",
              " ('complied', 'O'),\n",
              " ('of', 'O'),\n",
              " (':', 'O'),\n",
              " ('US', 'O'),\n",
              " ('.', 'O'),\n",
              " ('138', 'O'),\n",
              " ('of', 'O'),\n",
              " ('N.I', 'LOCATION'),\n",
              " ('.', 'O'),\n",
              " ('Act.', 'O'),\n",
              " (',', 'O'),\n",
              " (\"\\\\n'b'\\\\n'b'\\\\n'b'Plea\", 'O'),\n",
              " ('of', 'O'),\n",
              " ('accused', 'O'),\n",
              " (':', 'O'),\n",
              " ('Pleaded', 'O'),\n",
              " ('not', 'O'),\n",
              " (\"guilty\\\\n'b'\\\\n'b'\\\\n'b'Final\", 'O'),\n",
              " ('Order', 'O'),\n",
              " (':', 'O'),\n",
              " ('Accused', 'O'),\n",
              " ('is', 'O'),\n",
              " (\"Convicted\\\\n'b\", 'O'),\n",
              " (\"'\", 'O'),\n",
              " ('2', 'O'),\n",
              " ('C.C.23993', 'O'),\n",
              " (\"2018\\\\n'b'\\\\n'b'Date\", 'O'),\n",
              " ('of', 'O'),\n",
              " ('Order', 'O'),\n",
              " (':', 'O'),\n",
              " (\"27.12.2018\\\\n'b'\\\\n'b'\\\\n'b'\\\\n'b\", 'O'),\n",
              " (\"'\", 'O'),\n",
              " (\"JUDGMENT\\\\n'b'\\\\n'b\", 'O'),\n",
              " (\"'\", 'O'),\n",
              " ('The', 'O'),\n",
              " ('complainant', 'O'),\n",
              " ('has', 'O'),\n",
              " ('filed', 'O'),\n",
              " ('this', 'O'),\n",
              " ('complaint', 'O'),\n",
              " ('under', 'O'),\n",
              " (\"section\\\\n'b'\\\\n'b'200\", 'O'),\n",
              " ('of', 'O'),\n",
              " ('code', 'O'),\n",
              " ('of', 'O'),\n",
              " ('criminal', 'O'),\n",
              " ('procedure', 'O'),\n",
              " ('alleging', 'O'),\n",
              " ('that', 'O'),\n",
              " ('the', 'O'),\n",
              " ('accused', 'O'),\n",
              " (\"has\\\\n'b'\\\\n'b'committed\", 'O'),\n",
              " ('an', 'O'),\n",
              " ('offence', 'O'),\n",
              " ('punishable', 'O'),\n",
              " ('under', 'O'),\n",
              " ('section', 'O'),\n",
              " ('138', 'O'),\n",
              " (\"of\\\\n'b'\\\\n'b'Negotiable\", 'O'),\n",
              " ('Instrument', 'O'),\n",
              " ('Act', 'O'),\n",
              " ('(', 'O'),\n",
              " ('in', 'O'),\n",
              " ('short', 'O'),\n",
              " ('referred', 'O'),\n",
              " ('as', 'O'),\n",
              " ('``', 'O'),\n",
              " ('N.I', 'O'),\n",
              " ('.', 'O'),\n",
              " ('Act', 'O'),\n",
              " (\"''\", 'O'),\n",
              " (')', 'O'),\n",
              " (\".\\\\n'b'\\\\n'b'\\\\n'b'\\\\n'b'02\", 'O'),\n",
              " ('.', 'O'),\n",
              " ('The', 'O'),\n",
              " ('sum', 'O'),\n",
              " ('and', 'O'),\n",
              " ('substance', 'O'),\n",
              " ('of', 'O'),\n",
              " ('the', 'O'),\n",
              " ('complaint', 'O'),\n",
              " (',', 'O'),\n",
              " ('is', 'O'),\n",
              " ('as', 'O'),\n",
              " ('follows', 'O'),\n",
              " (';', 'O'),\n",
              " (\"\\\\n'b'\\\\n'b\", 'O'),\n",
              " (\"'\", 'O'),\n",
              " ('The', 'O'),\n",
              " ('complainant', 'O'),\n",
              " ('and', 'O'),\n",
              " ('accused', 'O'),\n",
              " ('are', 'O'),\n",
              " ('known', 'O'),\n",
              " ('to', 'O'),\n",
              " ('each', 'O'),\n",
              " ('other', 'O'),\n",
              " (\"from\\\\n'b'\\\\n'b'past\", 'O'),\n",
              " ('five', 'O'),\n",
              " ('years', 'O'),\n",
              " ('.', 'O'),\n",
              " ('In', 'O'),\n",
              " ('the', 'O'),\n",
              " ('year', 'O'),\n",
              " ('2015', 'O'),\n",
              " (',', 'O'),\n",
              " ('the', 'O'),\n",
              " ('accused', 'O'),\n",
              " ('has', 'O'),\n",
              " ('obtained', 'O'),\n",
              " (\"loan\\\\n'b'\\\\n'b'of\", 'O'),\n",
              " ('Rs.7,00,000-', 'O'),\n",
              " ('from', 'O'),\n",
              " ('the', 'O'),\n",
              " ('complainant', 'O'),\n",
              " ('for', 'O'),\n",
              " ('his', 'O'),\n",
              " (\"financial\\\\n'b'\\\\n'b'commitments\", 'O'),\n",
              " ('and', 'O'),\n",
              " ('agreed', 'O'),\n",
              " ('to', 'O'),\n",
              " ('repay', 'O'),\n",
              " ('the', 'O'),\n",
              " ('same', 'O'),\n",
              " ('on', 'O'),\n",
              " ('or', 'O'),\n",
              " ('before', 'O'),\n",
              " (\"March\\\\n'b'\\\\n'b'2016\", 'O'),\n",
              " ('.', 'O'),\n",
              " ('Complainant', 'O'),\n",
              " ('agreed', 'O'),\n",
              " ('to', 'O'),\n",
              " ('receive', 'O'),\n",
              " ('the', 'O'),\n",
              " ('said', 'O'),\n",
              " ('amount', 'O'),\n",
              " (\"on\\\\n'b'\\\\n'b'monthly\", 'O'),\n",
              " ('installments', 'O'),\n",
              " ('of', 'O'),\n",
              " ('Rs.12,000-', 'O'),\n",
              " ('.', 'O'),\n",
              " ('Accused', 'O'),\n",
              " ('paid', 'O'),\n",
              " ('the', 'O'),\n",
              " (\"amount\\\\n'b'\\\\n'b'of\", 'O'),\n",
              " ('Rs.12,000-', 'O'),\n",
              " ('since', 'O'),\n",
              " ('from', 'O'),\n",
              " ('March', 'O'),\n",
              " ('2016', 'O'),\n",
              " ('to', 'O'),\n",
              " ('February', 'O'),\n",
              " ('2016', 'O'),\n",
              " (\"and\\\\n'b'\\\\n'b'stopped\", 'O'),\n",
              " ('paying', 'O'),\n",
              " ('the', 'O'),\n",
              " ('said', 'O'),\n",
              " ('amount', 'O'),\n",
              " ('from', 'O'),\n",
              " ('the', 'O'),\n",
              " ('month', 'O'),\n",
              " ('of', 'O'),\n",
              " ('March', 'O'),\n",
              " (\"2018.\\\\n'b'\\\\n'b'Complainant\", 'O'),\n",
              " ('demanded', 'O'),\n",
              " ('the', 'O'),\n",
              " ('accused', 'O'),\n",
              " ('for', 'O'),\n",
              " ('legally', 'O'),\n",
              " ('recoverable', 'O'),\n",
              " (\"debt\\\\n'b'\\\\n'b'due\", 'O'),\n",
              " ('by', 'O'),\n",
              " ('him', 'O'),\n",
              " ('.', 'O'),\n",
              " ('Towards', 'O'),\n",
              " ('discharge', 'O'),\n",
              " ('of', 'O'),\n",
              " ('his', 'O'),\n",
              " ('liability', 'O'),\n",
              " (',', 'O'),\n",
              " ('accused', 'O'),\n",
              " (\"has\\\\n'b'\\\\n'b'issued\", 'O'),\n",
              " ('a', 'O'),\n",
              " ('Cheque', 'O'),\n",
              " ('bearing', 'O'),\n",
              " ('No.000089', 'O'),\n",
              " ('dated', 'O'),\n",
              " ('10.04.2018', 'O'),\n",
              " (\"for\\\\n'b\", 'O'),\n",
              " (\"'\", 'O'),\n",
              " ('3', 'O'),\n",
              " ('C.C.23993', 'O'),\n",
              " (\"2018\\\\n'b'\\\\n'b'Rs.4,80,000-\", 'O'),\n",
              " (',', 'O'),\n",
              " ('which', 'O'),\n",
              " ('came', 'O'),\n",
              " ('to', 'O'),\n",
              " ('be', 'O'),\n",
              " ('dishonoured', 'O'),\n",
              " ('on', 'O'),\n",
              " (\"presentation\\\\n'b'\\\\n'b'with\", 'O'),\n",
              " ('an', 'O'),\n",
              " ('endorsement', 'O'),\n",
              " ('``', 'O'),\n",
              " ('Funds', 'O'),\n",
              " ('Insufficient', 'O'),\n",
              " (\"''\", 'O'),\n",
              " ('.', 'O'),\n",
              " ('Thereafter', 'O'),\n",
              " (',', 'O'),\n",
              " (\"\\\\n'b'\\\\n'b'complainant\", 'O'),\n",
              " ('got', 'O'),\n",
              " ('issued', 'O'),\n",
              " ('legal', 'O'),\n",
              " ('notice', 'O'),\n",
              " ('to', 'O'),\n",
              " ('accused', 'O'),\n",
              " ('on', 'O'),\n",
              " ('05.07.2018', 'O'),\n",
              " (',', 'O'),\n",
              " (\"\\\\n'b'\\\\n'b'which\", 'O'),\n",
              " ('was', 'O'),\n",
              " ('duly', 'O'),\n",
              " ('served', 'O'),\n",
              " ('on', 'O'),\n",
              " ('accused', 'O'),\n",
              " ('on', 'O'),\n",
              " ('09.07.2018', 'O'),\n",
              " ('.', 'O'),\n",
              " (\"Accused\\\\n'b'\\\\n'b'neither\", 'O'),\n",
              " ('replied', 'O'),\n",
              " ('the', 'O'),\n",
              " ('notice', 'O'),\n",
              " ('nor', 'O'),\n",
              " ('paid', 'O'),\n",
              " ('the', 'O'),\n",
              " ('cheque', 'O'),\n",
              " ('amount', 'O'),\n",
              " ('.', 'O'),\n",
              " (\"Hence\\\\n'b'\\\\n'b'this\", 'O'),\n",
              " (\"complaint.\\\\n'b'\\\\n'b'\\\\n'b'03\", 'O'),\n",
              " ('.', 'O'),\n",
              " ('On', 'O'),\n",
              " ('filing', 'O'),\n",
              " ('of', 'O'),\n",
              " ('complaint', 'O'),\n",
              " (',', 'O'),\n",
              " ('this', 'O'),\n",
              " ('court', 'O'),\n",
              " ('has', 'O'),\n",
              " ('taken', 'O'),\n",
              " ('cognizance', 'O'),\n",
              " (\"for\\\\n'b'\\\\n'b'the\", 'O'),\n",
              " ('offence', 'O'),\n",
              " ('punishable', 'O'),\n",
              " ('under', 'O'),\n",
              " ('section', 'O'),\n",
              " ('138', 'O'),\n",
              " ('of', 'O'),\n",
              " (\"Negotiable\\\\n'b'\\\\n'b'Instrument\", 'O'),\n",
              " ('Act', 'O'),\n",
              " (',', 'O'),\n",
              " ('sworn', 'O'),\n",
              " ('statement', 'O'),\n",
              " ('of', 'O'),\n",
              " ('complainant', 'O'),\n",
              " ('was', 'O'),\n",
              " (\"recorded.\\\\n'b'\\\\n'b'Being\", 'O'),\n",
              " ('satisfied', 'O'),\n",
              " ('that', 'O'),\n",
              " ('there', 'O'),\n",
              " ('are', 'O'),\n",
              " ('prima-facie', 'O'),\n",
              " ('materials', 'O'),\n",
              " ('to', 'O'),\n",
              " (\"proceed\\\\n'b'\\\\n'b'against\", 'O'),\n",
              " ('accused', 'O'),\n",
              " (',', 'O'),\n",
              " ('summons', 'O'),\n",
              " ('was', 'O'),\n",
              " ('issued', 'O'),\n",
              " ('.', 'O'),\n",
              " ('After', 'O'),\n",
              " ('appearance', 'O'),\n",
              " (',', 'O'),\n",
              " (\"\\\\n'b'\\\\n'b'accused\", 'O'),\n",
              " ('enlarged', 'O'),\n",
              " ('on', 'O'),\n",
              " ('bail', 'O'),\n",
              " ('and', 'O'),\n",
              " ('plea', 'O'),\n",
              " ('was', 'O'),\n",
              " ('recorded', 'O'),\n",
              " ('as', 'O'),\n",
              " ('per', 'O'),\n",
              " (\"section\\\\n'b'\\\\n'b'251\", 'O'),\n",
              " ('of', 'O'),\n",
              " ('Cr.P.C', 'O'),\n",
              " ('.', 'O'),\n",
              " ('Accused', 'O'),\n",
              " ('has', 'O'),\n",
              " ('not', 'O'),\n",
              " ('stated', 'O'),\n",
              " ('the', 'O'),\n",
              " (\"defence.\\\\n'b'\\\\n'b'\\\\n'b'\\\\n'b'04\", 'O'),\n",
              " ('.', 'O'),\n",
              " ('When', 'O'),\n",
              " ('the', 'O'),\n",
              " ('case', 'O'),\n",
              " ('was', 'O'),\n",
              " ('set', 'O'),\n",
              " ('down', 'O'),\n",
              " ('for', 'O'),\n",
              " ('trial', 'O'),\n",
              " (',', 'O'),\n",
              " ('both', 'O'),\n",
              " ('the', 'O'),\n",
              " (\"parties\\\\n'b'\\\\n'b'and\", 'O'),\n",
              " ('their', 'O'),\n",
              " ('counsels', 'O'),\n",
              " ('filed', 'O'),\n",
              " ('Joint', 'O'),\n",
              " ('memo', 'O'),\n",
              " ('and', 'O'),\n",
              " ('prays', 'O'),\n",
              " ('for', 'O'),\n",
              " (\"judgment\\\\n'b'\\\\n'b'accordingly.\\\\n'b'\\\\n'b'\\\\n'b'05\", 'O'),\n",
              " ('.', 'O'),\n",
              " ('Heard', 'O'),\n",
              " ('and', 'O'),\n",
              " ('perused', 'O'),\n",
              " ('the', 'O'),\n",
              " ('materials', 'O'),\n",
              " ('on', 'O'),\n",
              " (\"record.\\\\n'b\", 'O'),\n",
              " (\"'\", 'O'),\n",
              " ('4', 'O'),\n",
              " ('C.C.23993', 'O'),\n",
              " (\"2018\\\\n'b'\\\\n'b'06\", 'O'),\n",
              " ('.', 'O'),\n",
              " ('The', 'O'),\n",
              " ('points', 'O'),\n",
              " ('that', 'O'),\n",
              " ('arise', 'O'),\n",
              " ('for', 'O'),\n",
              " ('my', 'O'),\n",
              " ('consideration', 'O'),\n",
              " ('are', 'O'),\n",
              " ('as', 'O'),\n",
              " ('follows', 'O'),\n",
              " (';', 'O'),\n",
              " (\"\\\\n'b'\\\\n'b\", 'O'),\n",
              " (\"'\", 'O'),\n",
              " (\"POINTS\\\\n'b'\\\\n'b\", 'O'),\n",
              " (\"'\", 'O'),\n",
              " ('1', 'O'),\n",
              " ('.', 'O'),\n",
              " ('Whether', 'O'),\n",
              " ('the', 'O'),\n",
              " ('accused', 'O'),\n",
              " ('is', 'O'),\n",
              " ('liable', 'O'),\n",
              " ('to', 'O'),\n",
              " (\"be\\\\n'b\", 'O'),\n",
              " (\"'\", 'O'),\n",
              " ('convicted', 'O'),\n",
              " ('in', 'O'),\n",
              " ('terms', 'O'),\n",
              " ('of', 'O'),\n",
              " ('Joint', 'O'),\n",
              " ('memo', 'O'),\n",
              " (\"dated\\\\n'b\", 'O'),\n",
              " (\"'\", 'O'),\n",
              " ('30', 'O'),\n",
              " ('.', 'O'),\n",
              " ('11.2018', 'O'),\n",
              " ('?', 'O'),\n",
              " (\"\\\\n'b'\\\\n'b\", 'O'),\n",
              " (\"'\", 'O'),\n",
              " ('2', 'O'),\n",
              " ('.', 'O'),\n",
              " ('What', 'O'),\n",
              " ('Order', 'O'),\n",
              " ('?', 'O'),\n",
              " (\"\\\\n'b'\\\\n'b'\\\\n'b'07\", 'O'),\n",
              " ('.', 'O'),\n",
              " ('Now', 'O'),\n",
              " ('my', 'O'),\n",
              " ('answer', 'O'),\n",
              " ('to', 'O'),\n",
              " ('the', 'O'),\n",
              " ('above', 'O'),\n",
              " ('points', 'O'),\n",
              " ('is', 'O'),\n",
              " ('as', 'O'),\n",
              " ('follows', 'O'),\n",
              " (';', 'O'),\n",
              " (\"\\\\n'b'\\\\n'b\", 'O'),\n",
              " (\"'\", 'O'),\n",
              " ('1', 'O'),\n",
              " ('.', 'O'),\n",
              " ('Point', 'O'),\n",
              " ('No.1', 'O'),\n",
              " (':', 'O'),\n",
              " ('In', 'O'),\n",
              " ('the', 'O'),\n",
              " (\"affirmative\\\\n'b'\\\\n'b\", 'O'),\n",
              " (\"'\", 'O'),\n",
              " ('2', 'O'),\n",
              " ('.', 'O'),\n",
              " ('Point', 'O'),\n",
              " ('No.2', 'O'),\n",
              " (':', 'O'),\n",
              " ('As', 'O'),\n",
              " ('per', 'O'),\n",
              " ('final', 'O'),\n",
              " (\"order\\\\n'b'\\\\n'b\", 'O'),\n",
              " (\"'\", 'O'),\n",
              " ('for', 'O'),\n",
              " ('the', 'O'),\n",
              " ('following', 'O'),\n",
              " (';', 'O'),\n",
              " (\"\\\\n'b'\\\\n'b\", 'O'),\n",
              " (\"'\", 'O'),\n",
              " (\"REASONS\\\\n'b'\\\\n'b'08\", 'O'),\n",
              " ('.', 'O'),\n",
              " ('POINT', 'O'),\n",
              " ('No.1', 'O'),\n",
              " (':', 'O'),\n",
              " ('Complainant', 'O'),\n",
              " (',', 'O'),\n",
              " ('accused', 'O'),\n",
              " ('and', 'O'),\n",
              " (\"respective\\\\n'b'\\\\n'b'counsels\", 'O'),\n",
              " ('filed', 'O'),\n",
              " ('Joint', 'O'),\n",
              " ('memo', 'O'),\n",
              " ('on', 'O'),\n",
              " ('30.11.2018', 'O'),\n",
              " ('.', 'O'),\n",
              " ('The', 'O'),\n",
              " ('contents', 'O'),\n",
              " ('of', 'O'),\n",
              " (\"the\\\\n'b'\\\\n'b'same\", 'O'),\n",
              " ('was', 'O'),\n",
              " ('read', 'O'),\n",
              " ('over', 'O'),\n",
              " ('and', 'O'),\n",
              " ('explained', 'O'),\n",
              " ('to', 'O'),\n",
              " ('the', 'O'),\n",
              " ('parties', 'O'),\n",
              " ('.', 'O'),\n",
              " ('Through', 'O'),\n",
              " (\"Joint\\\\n'b'\\\\n'b'memo\", 'O'),\n",
              " (',', 'O'),\n",
              " ('accused', 'O'),\n",
              " ('has', 'O'),\n",
              " ('admitted', 'O'),\n",
              " ('his', 'O'),\n",
              " ('liability', 'O'),\n",
              " ('.', 'O'),\n",
              " ('Accused', 'O'),\n",
              " ('has', 'O'),\n",
              " (\"agreed\\\\n'b'\\\\n'b'to\", 'O'),\n",
              " ('pay', 'O'),\n",
              " ('Rs.5,50,000-', 'O'),\n",
              " ('in', 'O'),\n",
              " ('45', 'O'),\n",
              " ('monthly', 'O'),\n",
              " ('installments', 'O'),\n",
              " ('of', 'O'),\n",
              " (\"Rs.10,000-\\\\n'b'\\\\n'b'on\", 'O'),\n",
              " ('10th', 'O'),\n",
              " ('day', 'O'),\n",
              " ('of', 'O'),\n",
              " ('each', 'O'),\n",
              " ('month', 'O'),\n",
              " ('commencing', 'O'),\n",
              " ('from', 'O'),\n",
              " ('10.12.2018', 'O'),\n",
              " (\"to\\\\n'b'\\\\n'b'10.08.2022.\\\\n'b'\\\\n'b\", 'O'),\n",
              " (\"'\", 'O'),\n",
              " ('Accused', 'O'),\n",
              " ('has', 'O'),\n",
              " ('admitted', 'O'),\n",
              " ('that', 'O'),\n",
              " (',', 'O'),\n",
              " ('in', 'O'),\n",
              " ('case', 'O'),\n",
              " ('of', 'O'),\n",
              " ('default', 'O'),\n",
              " ('of', 'O'),\n",
              " (\"payment\\\\n'b'\\\\n'b'within\", 'O'),\n",
              " ('the', 'O'),\n",
              " ('stipulated', 'O'),\n",
              " ('period', 'O'),\n",
              " (',', 'O'),\n",
              " ('complainant', 'O'),\n",
              " ('is', 'O'),\n",
              " ('at', 'O'),\n",
              " ('liberty', 'O'),\n",
              " ('to', 'O'),\n",
              " (\"take\\\\n'b\", 'O'),\n",
              " (\"'\", 'O'),\n",
              " ('5', 'O'),\n",
              " ('C.C.23993', 'O'),\n",
              " (\"2018\\\\n'b'\\\\n'b'appropriate\", 'O'),\n",
              " ('legal', 'O'),\n",
              " ('action', 'O'),\n",
              " ('.', 'O'),\n",
              " ('The', 'O'),\n",
              " ('terms', 'O'),\n",
              " ('and', 'O'),\n",
              " ('conditions', 'O'),\n",
              " ('mentioned', 'O'),\n",
              " (\"in\\\\n'b'\\\\n'b'memo\", 'O'),\n",
              " ('is', 'O'),\n",
              " ('part', 'O'),\n",
              " ('and', 'O'),\n",
              " ('parcel', 'O'),\n",
              " ('of', 'O'),\n",
              " ('this', 'O'),\n",
              " (\"order.\\\\n'b'\\\\n'b'\\\\n'b'09\", 'O'),\n",
              " ('.', 'O'),\n",
              " ('As', 'O'),\n",
              " ('per', 'O'),\n",
              " ('the', 'O'),\n",
              " ('aforesaid', 'O'),\n",
              " ('memo', 'O'),\n",
              " (',', 'O'),\n",
              " ('accused', 'O'),\n",
              " ('has', 'O'),\n",
              " ('admitted', 'O'),\n",
              " (\"the\\\\n'b'\\\\n'b'liability\", 'O'),\n",
              " ('imposed', 'O'),\n",
              " ('on', 'O'),\n",
              " ('him', 'O'),\n",
              " ('as', 'O'),\n",
              " ('contemplated', 'O'),\n",
              " ('in', 'O'),\n",
              " ('the', 'O'),\n",
              " ('complaint', 'O'),\n",
              " ('.', 'O'),\n",
              " (\"The\\\\n'b'\\\\n'b'memo\", 'O'),\n",
              " ('field', 'O'),\n",
              " ('by', 'O'),\n",
              " ('the', 'O'),\n",
              " ('complainant', 'O'),\n",
              " ('and', 'O'),\n",
              " ('accused', 'O'),\n",
              " ('is', 'O'),\n",
              " ('sufficient', 'O'),\n",
              " (\"to\\\\n'b'\\\\n'b'answer\", 'O'),\n",
              " ('point', 'O'),\n",
              " ('No.1', 'O'),\n",
              " ('in', 'O'),\n",
              " ('the', 'O'),\n",
              " (\"affirmative.\\\\n'b'\\\\n'b'\\\\n'b'10\", 'O'),\n",
              " ('.', 'O'),\n",
              " ('POINT', 'O'),\n",
              " ('NO.2', 'O'),\n",
              " (':', 'O'),\n",
              " ('In', 'O'),\n",
              " ('view', 'O'),\n",
              " ('of', 'O'),\n",
              " ('the', 'O'),\n",
              " ('reasons', 'O'),\n",
              " ('stated', 'O'),\n",
              " (\"and\\\\n'b'\\\\n'b'discussed\", 'O'),\n",
              " ('on', 'O'),\n",
              " ('point', 'O'),\n",
              " ('No.1', 'O'),\n",
              " (',', 'O'),\n",
              " ('I', 'O'),\n",
              " ('proceed', 'O'),\n",
              " ('to', 'O'),\n",
              " ('pass', 'O'),\n",
              " ('the', 'O'),\n",
              " ('following', 'O'),\n",
              " (';', 'O'),\n",
              " (\"\\\\n'b'\\\\n'b\", 'O'),\n",
              " (\"'\", 'O'),\n",
              " (\"ORDER\\\\n'b'\\\\n'b\", 'O'),\n",
              " (\"'\", 'O'),\n",
              " ('Acting', 'O'),\n",
              " ('under', 'O'),\n",
              " ('section', 'O'),\n",
              " ('255', 'O'),\n",
              " ('(', 'O'),\n",
              " ('2', 'O'),\n",
              " (')', 'O'),\n",
              " (\"of\\\\n'b'\\\\n'b\", 'O'),\n",
              " (\"'\", 'O'),\n",
              " ('Criminal', 'O'),\n",
              " ('Procedure', 'O'),\n",
              " ('Code', 'O'),\n",
              " (',', 'O'),\n",
              " ('accused', 'O'),\n",
              " (\"is\\\\n'b'\\\\n'b\", 'O'),\n",
              " (\"'\", 'O'),\n",
              " ('hereby', 'O'),\n",
              " ('convicted', 'O'),\n",
              " ('for', 'O'),\n",
              " ('the', 'O'),\n",
              " ('offence', 'O'),\n",
              " (\"punishable\\\\n'b'\\\\n'b\", 'O'),\n",
              " (\"'\", 'O'),\n",
              " ('under', 'O'),\n",
              " ('section', 'O'),\n",
              " ('138', 'O'),\n",
              " ('of', 'O'),\n",
              " ('Negotiable', 'O'),\n",
              " (\"Instrument\\\\n'b'\\\\n'b\", 'O'),\n",
              " (\"'\", 'O'),\n",
              " ('Act', 'O'),\n",
              " ('and', 'O'),\n",
              " ('accused', 'O'),\n",
              " ('is', 'O'),\n",
              " ('sentenced', 'O'),\n",
              " ('to', 'O'),\n",
              " ('pay', 'O'),\n",
              " ('a', 'O'),\n",
              " (\"fine\\\\n'b'\\\\n'b\", 'O'),\n",
              " (\"'\", 'O'),\n",
              " ('of', 'O'),\n",
              " ('Rs.5,50,000-', 'O'),\n",
              " ('(', 'O'),\n",
              " ('Five', 'O'),\n",
              " ('Lakh', 'O'),\n",
              " (\"Fifty\\\\n'b'\\\\n'b\", 'O'),\n",
              " (\"'\", 'O'),\n",
              " ('Thousand', 'O'),\n",
              " ('only', 'O'),\n",
              " (')', 'O'),\n",
              " ('as', 'O'),\n",
              " ('settled', 'O'),\n",
              " ('in', 'O'),\n",
              " ('the', 'O'),\n",
              " (\"joint\\\\n'b'\\\\n'b\", 'O'),\n",
              " (\"'\", 'O'),\n",
              " (\"memo.\\\\n'b\", 'O'),\n",
              " (\"'\", 'O'),\n",
              " ('6', 'O'),\n",
              " ('C.C.23993', 'O'),\n",
              " (\"2018\\\\n'b'\\\\n'b\", 'O'),\n",
              " (\"'\", 'O'),\n",
              " ('When', 'O'),\n",
              " ('the', 'O'),\n",
              " ('said', 'O'),\n",
              " ('amount', 'O'),\n",
              " ('is', 'O'),\n",
              " ('deposited', 'O'),\n",
              " (\"as\\\\n'b\", 'O'),\n",
              " (\"'\", 'O'),\n",
              " ('agreed', 'O'),\n",
              " ('upon', 'O'),\n",
              " (',', 'O'),\n",
              " ('same', 'O'),\n",
              " ('shall', 'O'),\n",
              " ('be', 'O'),\n",
              " ('paid', 'O'),\n",
              " ('to', 'O'),\n",
              " (\"the\\\\n'b\", 'O'),\n",
              " (\"'\", 'O'),\n",
              " ('complainant', 'O'),\n",
              " ('as', 'O'),\n",
              " (\"compensation.\\\\n'b'\\\\n'b'\\\\n'b'\\\\n'b\", 'O'),\n",
              " (\"'\", 'O'),\n",
              " ('Terms', 'O'),\n",
              " ('and', 'O'),\n",
              " ('conditions', 'O'),\n",
              " ('of', 'O'),\n",
              " ('the', 'O'),\n",
              " (\"joint\\\\n'b\", 'O'),\n",
              " (\"'\", 'O'),\n",
              " ('memo', 'O'),\n",
              " ('becomes', 'O'),\n",
              " ('part', 'O'),\n",
              " ('and', 'O'),\n",
              " ('parcel', 'O'),\n",
              " ('of', 'O'),\n",
              " (\"this\\\\n'b\", 'O'),\n",
              " (\"'\", 'O'),\n",
              " (\"order.\\\\n'b'\\\\n'b'\\\\n'b\", 'O'),\n",
              " (\"'\", 'O'),\n",
              " ('In', 'O'),\n",
              " ('default', 'O'),\n",
              " ('of', 'O'),\n",
              " ('payment', 'O'),\n",
              " ('of', 'O'),\n",
              " ('the', 'O'),\n",
              " (\"fine\\\\n'b\", 'O'),\n",
              " (\"'\", 'O'),\n",
              " ('amount', 'O'),\n",
              " (',', 'O'),\n",
              " ('accused', 'O'),\n",
              " ('shall', 'O'),\n",
              " (\"undergo\\\\n'b\", 'O'),\n",
              " (\"'\", 'O'),\n",
              " ('imprisonment', 'O'),\n",
              " ('for', 'O'),\n",
              " ('3', 'O'),\n",
              " ('(', 'O'),\n",
              " ('Three', 'O'),\n",
              " (')', 'O'),\n",
              " (\"months.\\\\n'b'\\\\n'b'\\\\n'b'\\\\n'b\", 'O'),\n",
              " (\"'\", 'O'),\n",
              " ('The', 'O'),\n",
              " ('bail', 'O'),\n",
              " ('bond', 'O'),\n",
              " ('of', 'O'),\n",
              " ('the', 'O'),\n",
              " ('accused', 'O'),\n",
              " (\"stands\\\\n'b\", 'O'),\n",
              " (\"'\", 'O'),\n",
              " (\"cancelled.\\\\n'b'\\\\n'b'\\\\n'b\", 'O'),\n",
              " (\"'\", 'O'),\n",
              " ('Office', 'O'),\n",
              " ('to', 'O'),\n",
              " ('supply', 'O'),\n",
              " ('the', 'O'),\n",
              " ('copy', 'O'),\n",
              " ('of', 'O'),\n",
              " (\"this\\\\n'b\", 'O'),\n",
              " (\"'\", 'O'),\n",
              " ('Judgment', 'O'),\n",
              " ('to', 'O'),\n",
              " ('the', 'O'),\n",
              " ('accused', 'O'),\n",
              " ('immediately', 'O'),\n",
              " (\"on\\\\n'b\", 'O'),\n",
              " (\"'\", 'O'),\n",
              " ('free', 'O'),\n",
              " ('of', 'O'),\n",
              " (\"cost.\\\\n'b\", 'O'),\n",
              " (\"'\", 'O'),\n",
              " ('{', 'O'),\n",
              " ('Dictated', 'O'),\n",
              " ('to', 'O'),\n",
              " ('the', 'O'),\n",
              " ('stenographer', 'O'),\n",
              " ('directly', 'O'),\n",
              " ('on', 'O'),\n",
              " ('computer', 'O'),\n",
              " (',', 'O'),\n",
              " ('corrected', 'O'),\n",
              " (\"and\\\\n'b'then\", 'O'),\n",
              " ('signed', 'O'),\n",
              " ('by', 'O'),\n",
              " ('me', 'O'),\n",
              " ('and', 'O'),\n",
              " ('then', 'O'),\n",
              " ('pronounced', 'O'),\n",
              " ('in', 'O'),\n",
              " ('the', 'O'),\n",
              " ('open', 'O'),\n",
              " ('court', 'O'),\n",
              " ('on', 'O'),\n",
              " ('this', 'O'),\n",
              " (\"27th\\\\n'b'day\", 'O'),\n",
              " ('of', 'O'),\n",
              " ('December', 'O'),\n",
              " ('2018', 'O'),\n",
              " ('}', 'O'),\n",
              " (\".\\\\n'b'\\\\n'b'\\\\n'b\", 'O'),\n",
              " (\"'\", 'O'),\n",
              " ('(', 'O'),\n",
              " ('KALPANA', 'LOCATION'),\n",
              " ('M.S', 'O'),\n",
              " ('.', 'O'),\n",
              " (')', 'O'),\n",
              " (',', 'O'),\n",
              " (\"\\\\n'b\", 'O'),\n",
              " (\"'\", 'O'),\n",
              " ('XX', 'O'),\n",
              " ('ACMM', 'O'),\n",
              " (',', 'O'),\n",
              " (\"Bengaluru.\\\\n'b\", 'O'),\n",
              " (\"'\", 'O'),\n",
              " ('7', 'O'),\n",
              " ('C.C.23993', 'O'),\n",
              " (\"2018\\\\n'b'\\\\n'b\", 'O'),\n",
              " (\"'\", 'O'),\n",
              " (\"ANNEXURE\\\\n'b'\\\\n'b'List\", 'O'),\n",
              " ('of', 'O'),\n",
              " ('witnesses', 'O'),\n",
              " ('examined', 'O'),\n",
              " ('on', 'O'),\n",
              " ('behalf', 'O'),\n",
              " ('of', 'O'),\n",
              " ('Complainant', 'O'),\n",
              " (':', 'O'),\n",
              " (\"\\\\n'b'\\\\n'b'\\\\n'b'P.W.1\", 'O'),\n",
              " (\"T.S.Mohana\\\\n'b'\\\\n'b'List\", 'O'),\n",
              " ('of', 'O'),\n",
              " ('documents', 'O'),\n",
              " ('produced', 'O'),\n",
              " ('on', 'O'),\n",
              " ('behalf', 'O'),\n",
              " ('of', 'O'),\n",
              " ('complainant', 'O'),\n",
              " (':', 'O'),\n",
              " (\"\\\\n'b'\\\\n'b'\\\\n'b'Ex.P.1\", 'O'),\n",
              " (\"Cheque\\\\n'b'\\\\n'b'Ex.P.1\", 'O'),\n",
              " ('(', 'O'),\n",
              " ('a', 'O'),\n",
              " (')', 'O'),\n",
              " ('Signature', 'O'),\n",
              " ('of', 'O'),\n",
              " (\"accused\\\\n'b'\\\\n'b'Ex.P\", 'O'),\n",
              " ('.', 'O'),\n",
              " ('2', 'O'),\n",
              " ('Bank', 'ORGANIZATION'),\n",
              " (\"endorsement\\\\n'b'\\\\n'b'Ex.P\", 'O'),\n",
              " ('.', 'O'),\n",
              " ('3', 'O'),\n",
              " ('Copy', 'O'),\n",
              " ('of', 'O'),\n",
              " ('the', 'O'),\n",
              " ('legal', 'O'),\n",
              " (\"notice\\\\n'b'\\\\n'b'Ex.P\", 'O'),\n",
              " ('.', 'O'),\n",
              " ('4', 'O'),\n",
              " ('Postal', 'O'),\n",
              " (\"receipt\\\\n'b'\\\\n'b'Ex.P.5\", 'O'),\n",
              " ('Postal', 'O'),\n",
              " (\"acknowledgement\\\\n'b'\\\\n'b'\\\\n'b'\\\\n'b'List\", 'O'),\n",
              " ('of', 'O'),\n",
              " ('witnesses', 'O'),\n",
              " ('examined', 'O'),\n",
              " ('on', 'O'),\n",
              " ('behalf', 'O'),\n",
              " ('of', 'O'),\n",
              " ('accused', 'O'),\n",
              " (':', 'O'),\n",
              " (\"\\\\n'b'\\\\n'b\", 'O'),\n",
              " (\"'\", 'O'),\n",
              " (\"-Nil-\\\\n'b'\\\\n'b'List\", 'O'),\n",
              " ('of', 'O'),\n",
              " ('documents', 'O'),\n",
              " ('produced', 'O'),\n",
              " ('on', 'O'),\n",
              " ('behalf', 'O'),\n",
              " ('of', 'O'),\n",
              " ('accused', 'O'),\n",
              " (':', 'O'),\n",
              " (\"\\\\n'b'\\\\n'b\", 'O'),\n",
              " (\"'\", 'O'),\n",
              " (\"-Nil-\\\\n'b'\\\\n'b'\\\\n'b\", 'O'),\n",
              " (\"'\", 'O'),\n",
              " ('XX', 'O'),\n",
              " ('A.C.M.M.', 'O'),\n",
              " (',', 'O'),\n",
              " (\"\\\\n'b\", 'O'),\n",
              " (\"'\", 'O'),\n",
              " (\"Bengaluru.\\\\n'b\", 'O'),\n",
              " (\"'\", 'O'),\n",
              " ('8', 'O'),\n",
              " ('C.C.23993', 'O'),\n",
              " (\"2018\\\\n'b'\\\\n'b'Dated\", 'O'),\n",
              " ...]"
            ]
          },
          "metadata": {},
          "execution_count": 43
        }
      ]
    },
    {
      "cell_type": "code",
      "metadata": {
        "id": "J2aFrqf9VUYc"
      },
      "source": [
        "word_freq = [word_list.count(w) for w in word_list]"
      ],
      "execution_count": null,
      "outputs": []
    },
    {
      "cell_type": "code",
      "metadata": {
        "colab": {
          "base_uri": "https://localhost:8080/"
        },
        "id": "ol_M7kUjVjez",
        "outputId": "fefaf351-b1f7-4eb8-a3d5-38a26ea40b03"
      },
      "source": [
        "clean_word_dict = wordListToFreqDict(word_list, word_freq)\n",
        "print (clean_word_dict)"
      ],
      "execution_count": null,
      "outputs": [
        {
          "output_type": "stream",
          "name": "stdout",
          "text": [
            "{\"b'\": 1, 'bangalore': 8, 'district': 8, 'court': 40, 't.s.mohana': 16, 'vs': 8, 'sridhar.m': 8, '27': 8, 'december,': 8, '2018': 16, 'xx': 40, 'addl.chief': 8, 'metropolitan': 8, 'magistrate': 8, 'bengaluru': 24, 'city': 8, 'dated': 32, '27th': 16, 'day': 24, 'december': 16, 'present': 8, 'kalpana.m.s.,': 8, 'b.sc.,': 8, 'll.m.,': 8, 'addl.': 8, 'c.m.m.': 8, 'bengaluru.': 32, 'c.c.no.23993/2018': 8, 'complainant': 112, 't.s.mohana,': 8, 's/o.t.s.shivanna,': 8, 'aged': 16, '38': 8, 'years,': 16, 'r/at': 8, 'no.479,': 8, 'l.n.school': 8, 'road,': 8, 'meenakshinagara,': 8, 'new': 8, 'extension,': 8, 'kamakshipalya,': 8, '-': 16, '560': 8, '079.': 8, 'vs.': 8, 'accused': 272, 'sridhar.m,': 8, 's/o.maniraju,': 8, '40': 8, 'office': 24, 'at.': 8, 'td': 8, 'power': 8, 'systems': 8, 'ltd,': 8, 'no.27,28,29,': 8, 'kiadb': 8, 'industrial': 8, 'area,': 8, 'dabaspete,': 8, 'nelamangala': 8, 'taluk,': 8, '562': 8, '111.': 8, 'offence': 40, 'complied': 8, 'u/s.': 8, '138': 40, 'n.i.': 8, 'act.,': 8, 'plea': 16, 'pleaded': 8, 'guilty': 8, 'final': 16, 'order': 40, 'convicted': 32, '2': 16, 'c.c.23993': 64, '/2018': 64, 'date': 8, '27.12.2018': 16, 'judgment': 32, 'filed': 24, 'complaint': 8, 'section': 64, '200': 8, 'code': 8, 'criminal': 24, 'procedure': 24, 'alleging': 8, 'has': 16, 'committed': 8, 'punishable': 32, 'of': 40, 'negotiable': 32, 'instrument': 32, 'act': 24, '(': 8, 'short': 8, 'referred': 8, '\"n.i.': 8, 'act\").': 8, '02.': 8, 'sum': 8, 'substance': 8, 'complaint,': 16, 'follows;': 24, 'known': 8, 'from': 8, 'past': 8, 'five': 8, 'years.': 8, 'year': 8, '2015,': 8, 'obtained': 8, 'loan': 8, 'rs.7,00,000/-': 8, 'financial': 8, 'commitments': 8, 'agreed': 40, 'repay': 8, 'march': 24, '2016.': 8, 'receive': 8, 'said': 32, 'amount': 40, 'on': 32, 'monthly': 16, 'installments': 16, 'rs.12,000/-.': 8, 'paid': 32, 'rs.12,000/-': 8, 'since': 8, '2016': 16, 'february': 8, 'and': 32, 'stopped': 8, 'paying': 8, 'month': 16, '2018.': 8, 'demanded': 8, 'legally': 8, 'recoverable': 8, 'debt': 8, 'due': 8, 'him.': 8, 'towards': 8, 'discharge': 8, 'liability,': 8, 'issued': 16, 'cheque': 24, 'bearing': 8, 'no.000089': 8, '10.04.2018': 8, 'for': 16, '3': 32, 'rs.4,80,000/-,': 8, 'came': 8, 'dishonoured': 8, 'presentation': 8, 'with': 8, 'endorsement': 16, '\"funds': 8, 'insufficient\".': 8, 'thereafter,': 8, 'got': 8, 'legal': 24, 'notice': 24, '05.07.2018,': 8, 'which': 8, 'duly': 8, 'served': 8, '09.07.2018.': 8, 'neither': 8, 'replied': 8, 'amount.': 8, 'hence': 8, 'this': 40, 'complaint.': 16, '03.': 8, 'filing': 8, 'taken': 8, 'cognizance': 8, 'the': 48, 'act,': 8, 'sworn': 8, 'statement': 8, 'recorded.': 8, 'being': 8, 'satisfied': 8, 'prima-facie': 8, 'materials': 16, 'proceed': 16, 'against': 8, 'accused,': 8, 'summons': 8, 'issued.': 8, 'appearance,': 8, 'enlarged': 8, 'bail': 24, 'recorded': 8, 'per': 24, '251': 8, 'cr.p.c.': 8, 'stated': 16, 'defence.': 8, '04.': 8, 'case': 16, 'set': 8, 'trial,': 8, 'parties': 8, 'counsels': 16, 'joint': 64, 'memo': 56, 'prays': 8, 'accordingly.': 8, '05.': 8, 'heard': 8, 'perused': 8, 'record.': 8, '4': 16, '06.': 8, 'points': 24, 'arise': 8, 'consideration': 8, '1.': 16, 'whether': 8, 'liable': 8, 'be': 8, 'terms': 32, '30.': 8, '11.2018?': 8, '2.': 16, 'order?': 8, '07.': 8, 'answer': 16, 'point': 48, 'no.1': 24, 'affirmative': 8, 'no.2': 16, 'following;': 16, 'reasons': 16, '08.': 8, 'complainant,': 8, 'respective': 8, '30.11.2018.': 8, 'contents': 8, 'same': 8, 'read': 8, 'explained': 8, 'parties.': 8, 'memo,': 16, 'admitted': 24, 'liability.': 8, 'to': 24, 'pay': 24, 'rs.5,50,000/-': 24, '45': 8, 'rs.10,000/-': 8, '10th': 8, 'commencing': 8, '10.12.2018': 8, '10.08.2022.': 8, 'that,': 8, 'default': 24, 'payment': 24, 'within': 8, 'stipulated': 8, 'period,': 8, 'liberty': 8, 'take': 8, '5': 8, 'appropriate': 8, 'action.': 8, 'conditions': 24, 'mentioned': 8, 'in': 8, 'part': 24, 'parcel': 24, 'order.': 24, '09.': 8, 'aforesaid': 8, 'liability': 8, 'imposed': 8, 'contemplated': 8, 'field': 8, 'sufficient': 8, 'affirmative.': 8, '10.': 8, 'view': 8, 'discussed': 8, 'no.1,': 8, 'pass': 8, 'acting': 16, '255': 16, '(2)': 16, 'code,': 16, 'is': 16, 'hereby': 16, 'sentenced': 16, 'fine': 32, '(five': 16, 'lakh': 16, 'fifty': 16, 'thousand': 16, 'only)': 16, 'settled': 16, 'memo.': 16, '6': 8, 'deposited': 16, 'as': 16, 'upon,': 16, 'shall': 32, 'compensation.': 16, 'becomes': 16, 'amount,': 16, 'undergo': 16, 'imprisonment': 16, '(three)': 16, 'months.': 16, 'bond': 16, 'stands': 16, 'cancelled.': 16, 'supply': 16, 'copy': 24, 'immediately': 16, 'free': 16, 'cost.': 16, '{dictated': 8, 'stenographer': 8, 'directly': 8, 'computer,': 8, 'corrected': 8, 'then': 8, 'signed': 8, 'pronounced': 16, 'open': 16, '2018}.': 8, '(kalpana': 8, 'm.s.),': 8, 'acmm,': 8, '7': 8, 'annexure': 8, 'list': 32, 'witnesses': 16, 'examined': 16, 'behalf': 32, 'p.w.1': 8, 'documents': 16, 'produced': 16, 'ex.p.1': 8, 'ex.p.1(a)': 8, 'signature': 8, 'ex.p.': 24, 'bank': 8, 'postal': 16, 'receipt': 8, 'ex.p.5': 8, 'acknowledgement': 8, '-nil-': 16, 'a.c.m.m.,': 16, '8': 8, '(judgment': 8, 'vide': 8, 'separate)': 8, '9': 8, \"'\": 1}\n"
          ]
        }
      ]
    },
    {
      "cell_type": "code",
      "metadata": {
        "colab": {
          "base_uri": "https://localhost:8080/"
        },
        "id": "0dt8eKPcVtUS",
        "outputId": "ea42f723-20bc-4fe7-bf79-ce50ddaed7b5"
      },
      "source": [
        "clean_sorted_dict = sortFreqDict(clean_word_dict)\n",
        "print(clean_sorted_dict[:10])"
      ],
      "execution_count": null,
      "outputs": [
        {
          "output_type": "stream",
          "name": "stdout",
          "text": [
            "[(272, 'accused'), (112, 'complainant'), (64, 'section'), (64, 'joint'), (64, 'c.c.23993'), (64, '/2018'), (56, 'memo'), (48, 'the'), (48, 'point'), (40, 'xx')]\n"
          ]
        }
      ]
    },
    {
      "cell_type": "code",
      "metadata": {
        "colab": {
          "base_uri": "https://localhost:8080/",
          "height": 700
        },
        "id": "ARhX9o5lV0lM",
        "outputId": "3b9beec4-9c7e-4205-a3f1-17ea21defd4f"
      },
      "source": [
        "x, y = zip(*clean_sorted_dict[:30]) # unpack a list of pairs into two tuples\n",
        "\n",
        "plt.plot(x, y)\n",
        "plt.show()\n",
        "\n",
        "plt.figure(figsize=(30, 8))\n",
        "display(plt.show(y, x))\n",
        "\n",
        "plt.figure(figsize=(30, 8))\n",
        "display(plt.bar(y, x))"
      ],
      "execution_count": null,
      "outputs": [
        {
          "output_type": "display_data",
          "data": {
            "image/png": "[encoded data removed]",
            "text/plain": [
              "<Figure size 432x288 with 1 Axes>"
            ]
          },
          "metadata": {
            "needs_background": "light"
          }
        },
        {
          "output_type": "display_data",
          "data": {
            "text/plain": [
              "<Figure size 2160x576 with 0 Axes>"
            ]
          },
          "metadata": {}
        },
        {
          "output_type": "display_data",
          "data": {
            "text/plain": [
              "None"
            ]
          },
          "metadata": {}
        },
        {
          "output_type": "display_data",
          "data": {
            "text/plain": [
              "<BarContainer object of 30 artists>"
            ]
          },
          "metadata": {}
        },
        {
          "output_type": "display_data",
          "data": {
            "image/png": "[encoded data removed]",
            "text/plain": [
              "<Figure size 2160x576 with 1 Axes>"
            ]
          },
          "metadata": {
            "needs_background": "light"
          }
        }
      ]
    },
    {
      "cell_type": "code",
      "metadata": {
        "id": "b9p1sT-jKZ44"
      },
      "source": [
        "def manual_data_ner():\n",
        "  data = input()\n",
        "  wordlist = data.split()\n",
        "  return wordlist"
      ],
      "execution_count": null,
      "outputs": []
    },
    {
      "cell_type": "code",
      "metadata": {
        "id": "HtkGqyNmLEgz"
      },
      "source": [
        "def data_cleaner (wordstring[]):\n",
        "  from nltk.corpus import stopwords\n",
        "  stop_words = set(stopwords.words('english'))\n",
        "\n",
        "  wordstring =wordstring.lower()\n",
        "\n",
        "  stop_words = stopwords.words(\"english\")\n",
        "  work_string = ' '.join([word for word in wordstring.split(' ') if word not in stop_words])\n",
        "\n",
        "  return work_string"
      ],
      "execution_count": null,
      "outputs": []
    },
    {
      "cell_type": "code",
      "metadata": {
        "id": "RNYpgD4uOHZD"
      },
      "source": [
        "###########################################################"
      ],
      "execution_count": null,
      "outputs": []
    },
    {
      "cell_type": "code",
      "metadata": {
        "id": "y7b8itnr3uM0"
      },
      "source": [
        ""
      ],
      "execution_count": null,
      "outputs": []
    }
  ]
}