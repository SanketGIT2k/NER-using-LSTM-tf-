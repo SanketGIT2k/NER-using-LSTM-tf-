{
 "cells": [
  {
   "cell_type": "code",
   "execution_count": 15,
   "id": "99360ae9",
   "metadata": {},
   "outputs": [],
   "source": [
    "import os"
   ]
  },
  {
   "cell_type": "code",
   "execution_count": 16,
   "id": "3b11622c",
   "metadata": {},
   "outputs": [],
   "source": [
    "list_of_list_of_list = []\n",
    "list_of_lists = [['Sentence'],[]]"
   ]
  },
  {
   "cell_type": "code",
   "execution_count": 17,
   "id": "0dda3301",
   "metadata": {},
   "outputs": [],
   "source": [
    "\n",
    "for filename in os.listdir(r\"D:\\#COLLEGE\\#SEM VII\\NLP DATA RAW\\WD\"):\n",
    "   with open(os.path.join(r\"D:\\#COLLEGE\\#SEM VII\\NLP DATA RAW\\WD\", filename), 'r') as f:\n",
    "    for line in f:\n",
    "        stripped_line = line.strip()\n",
    "    \n",
    "        line_list = stripped_line.split(\".\")\n",
    "    \n",
    "        for l in line_list:\n",
    "            a = l.split()\n",
    "            for wo in a:\n",
    "                list_of_lists[1].append(wo)\n",
    "                list_of_lists[0].append(\"\")\n",
    "            list_of_lists[1].append(\".\")\n",
    "        \n",
    "            list_of_lists[0].append(\"Sentence\")\n",
    "            \n",
    "\n",
    "    f.close()\n",
    "\n",
    "    #print(list_of_lists)"
   ]
  },
  {
   "cell_type": "code",
   "execution_count": 18,
   "id": "ceed846f",
   "metadata": {},
   "outputs": [],
   "source": [
    "import pandas as pd\n",
    "\n",
    "df = pd.DataFrame(list_of_lists[0])\n",
    "df1 = pd.DataFrame(list_of_lists[1])\n",
    "det = pd.concat([df, df1], join = 'outer', axis = 1)\n",
    "writer = pd.ExcelWriter('complete.xlsx', engine='xlsxwriter')\n",
    "det.to_excel(writer, sheet_name='welcome', index=False)\n",
    "writer.save()"
   ]
  },
  {
   "cell_type": "code",
   "execution_count": null,
   "id": "6cfee27c",
   "metadata": {},
   "outputs": [],
   "source": [
    "a_file = open(\"D:/MINOR PROJECT NLP/data/12590.txt\", \"r\")\n",
    "list_of_list_of_list = []\n",
    "list_of_lists = [['Sentence'],[]]\n",
    "for line in a_file:\n",
    "    stripped_line = line.strip()\n",
    "    \n",
    "    line_list = stripped_line.split(\".\")\n",
    "    \n",
    "    for l in line_list:\n",
    "        a = l.split()\n",
    "        for wo in a:\n",
    "            list_of_lists[1].append(wo)\n",
    "            list_of_lists[0].append(\"\")\n",
    "        list_of_lists[1].append(\".\")\n",
    "        \n",
    "        list_of_lists[0].append(\"Sentence\")\n",
    "            \n",
    "\n",
    "a_file.close()\n",
    "\n",
    "print(list_of_lists)\n"
   ]
  }
 ],
 "metadata": {
  "kernelspec": {
   "display_name": "Python 3",
   "language": "python",
   "name": "python3"
  },
  "language_info": {
   "codemirror_mode": {
    "name": "ipython",
    "version": 3
   },
   "file_extension": ".py",
   "mimetype": "text/x-python",
   "name": "python",
   "nbconvert_exporter": "python",
   "pygments_lexer": "ipython3",
   "version": "3.8.8"
  }
 },
 "nbformat": 4,
 "nbformat_minor": 5
}
