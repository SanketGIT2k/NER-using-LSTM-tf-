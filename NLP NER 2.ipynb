{
 "cells": [
  {
   "cell_type": "code",
   "execution_count": 1,
   "id": "4ce8fc24",
   "metadata": {},
   "outputs": [],
   "source": [
    "#Importing all the required libraries\n",
    "\n",
    "import pandas as pd\n",
    "import numpy as np\n",
    "import matplotlib.pyplot as plt\n",
    "from sklearn.model_selection import train_test_split\n",
    "from keras.preprocessing.sequence import pad_sequences\n",
    "from keras.utils.vis_utils import plot_model\n",
    "from numpy.random import seed\n",
    "from itertools import chain\n",
    "from tensorflow.keras import Model,Input\n",
    "from tensorflow.keras.layers import LSTM,Embedding,Dense\n",
    "from tensorflow.keras.layers import TimeDistributed, SpatialDropout1D,Bidirectional\n",
    "from tensorflow.keras.utils import to_categorical\n",
    "\n",
    "\n",
    "plt.style.use('seaborn')"
   ]
  },
  {
   "cell_type": "code",
   "execution_count": 2,
   "id": "0013a783",
   "metadata": {},
   "outputs": [],
   "source": [
    "# getting the data\n",
    "file = r'C:\\Users\\Sanket\\Desktop\\TEST.csv'\n",
    "data = pd.read_csv(file, encoding = \"latin1\")"
   ]
  },
  {
   "cell_type": "code",
   "execution_count": 3,
   "id": "7f3ae56e",
   "metadata": {},
   "outputs": [
    {
     "data": {
      "text/html": [
       "<div>\n",
       "<style scoped>\n",
       "    .dataframe tbody tr th:only-of-type {\n",
       "        vertical-align: middle;\n",
       "    }\n",
       "\n",
       "    .dataframe tbody tr th {\n",
       "        vertical-align: top;\n",
       "    }\n",
       "\n",
       "    .dataframe thead th {\n",
       "        text-align: right;\n",
       "    }\n",
       "</style>\n",
       "<table border=\"1\" class=\"dataframe\">\n",
       "  <thead>\n",
       "    <tr style=\"text-align: right;\">\n",
       "      <th></th>\n",
       "      <th>Sentence #</th>\n",
       "      <th>Word</th>\n",
       "      <th>Tag</th>\n",
       "    </tr>\n",
       "  </thead>\n",
       "  <tbody>\n",
       "    <tr>\n",
       "      <th>0</th>\n",
       "      <td>Sentence 1</td>\n",
       "      <td>Andhra</td>\n",
       "      <td>B-loc</td>\n",
       "    </tr>\n",
       "    <tr>\n",
       "      <th>1</th>\n",
       "      <td>NaN</td>\n",
       "      <td>High Court</td>\n",
       "      <td>B-court</td>\n",
       "    </tr>\n",
       "    <tr>\n",
       "      <th>2</th>\n",
       "      <td>NaN</td>\n",
       "      <td>.</td>\n",
       "      <td>O</td>\n",
       "    </tr>\n",
       "    <tr>\n",
       "      <th>3</th>\n",
       "      <td>Sentence 2</td>\n",
       "      <td>Channala</td>\n",
       "      <td>B-per</td>\n",
       "    </tr>\n",
       "    <tr>\n",
       "      <th>4</th>\n",
       "      <td>NaN</td>\n",
       "      <td>Ramachandra</td>\n",
       "      <td>B-per</td>\n",
       "    </tr>\n",
       "  </tbody>\n",
       "</table>\n",
       "</div>"
      ],
      "text/plain": [
       "   Sentence #         Word      Tag\n",
       "0  Sentence 1       Andhra    B-loc\n",
       "1         NaN   High Court  B-court\n",
       "2         NaN            .        O\n",
       "3  Sentence 2     Channala    B-per\n",
       "4         NaN  Ramachandra    B-per"
      ]
     },
     "execution_count": 3,
     "metadata": {},
     "output_type": "execute_result"
    }
   ],
   "source": [
    "data.head()"
   ]
  },
  {
   "cell_type": "code",
   "execution_count": 4,
   "id": "accce28b",
   "metadata": {},
   "outputs": [],
   "source": [
    "#Filling the NAN values\n",
    "data = data.fillna(method = 'ffill')"
   ]
  },
  {
   "cell_type": "code",
   "execution_count": 5,
   "id": "1b26bdec",
   "metadata": {},
   "outputs": [
    {
     "name": "stdout",
     "output_type": "stream",
     "text": [
      "Total number of unique words in dataset: 1520\n",
      "['because', 'submit', 'respondent,', 'us', '(34', '(11', 'through', 'registered', 'On', 'insofar', 'Educational', 'nominal', 'curial', 'resorted', 'declaring', 'effect', 'Ranga', '27(a)', 'guidelines,', 'wholly', 'seats/', 'points', 'Caste,', '2126,', 'submits', 'class,', 'vs', 'Pleadings', 'vires', 'coming', 'I308', 'genuine', 'Dealing', 'ascertained', 'find', 'due', 'principles', 'rational', 'amendment', 'Advocate', 'powers', 'kept', 'Ella', 'choosing', 'Municipal', 'excluded', 'passion', 'By', 'notifications', 'These', 'reservations', 'General', '1720', 'considering', 'decided', 'apprehension', '18-19%', 'providing', \"'urban\", 'picture,', 'R', '9%', 'Chairpersons', '(draft)', 'Reddy,', 'given', 'first', 'Krishna', '243-U(3)(a),', 'District', '52%', '(Elecs', 'showing', 'drawn', 'area', 'Advocates', '2081,', 'Caste', 'inserted', 'High Court', '41', 'Courts,', 'provides', 'objections', 'offices', 'mechanism', 'Ramanaiah,', 'He', 'Mayor,', '65%', 'IXA', 'judgment,', 'population)', 'estimating', 'defence', 'appearing', 'nature', 'follow:', 'projected', 'Category', 'Bar,', 'Director', 'delegating', 'SC,', 'statutory', 'counter-affidavit', 'Orders', 'indicator,', 'intends', 'contend', 'result', 'have', 'Redditungalam,', 'ORDER', 'especially', '(3)', 'miscellaneous', 'IX', 'for', 'constituencies', 'related', 'Districts', 'equal', 'publication', 'petitioner', 'respect', 'rely', 'reserving', 'Corporation', 'place', 'candidates', 'while', 'counter,', 'relied', 'bodies,', 'than', 'conducted', 'office,', '(General', 'District,', 'placed', 'answers,', 'three', 'permissible', 'pointed', 'creates', 'Government', 'figure', 'Tribunal', 'filed', 'brevity)', 'affidavit,', 'both', 'OC', 'point', 'single', 'Rule', 'started', 'Raghavendra', 'Circular', 'Indian', '243-U(1)', 'Bench:', 'results,', 'variable', 'scope', 'quite', 'ft', 'called', 'Tanduru', '(Seventy', 'categories,', 'ignoring', \"'creamy\", 'identifying', 'unsustainable', 'contends', 'permanent', 'provision', 'its', 'categories', 'directing', 'SCs,', 'rival', 'among', 'Hence,', 'desires', 'Full', 'his', 'Vasudeva', 'exercise', 'Mandapeta', 'entire', 'illegally', 'Tribes', '(Mayor', 'drawing', '(he', 'any', 'v', 'decision', 'introduced', 'favouring', 'depending', 'predominant', 'waiting', 'becomes', 'ascertain', 'announced', 'A.P.', 'Radio', 'Castes,', '15%,', '38,', 'more', '1-3-1991', '9,579', 'held', 'municipal', 'Each', 'India,', '&', 'Backward', 'enabling', 'community', 'intention', 'keep', 'Bommai', 'opportunity', 'after', '9,', 'least', 'favour', 'misleading', \"Hon'ble\", 'judicial', 'order', 'As', 'became', 'proceed', '5-2-2000,', \"'sufficiency\", '1-1-1984', 'case', 'committed', 'motivated', 'learned', 'belong', 'canvassed', 'consequently', 'including', 'procedure,', 'Council,', '11,202', 'exclusion', 'Municipality', '13', 'wait', 'At', 'Vikarabad', 'WP', 'case,', 'basis', 'politicians', '18', 'consider', 'amended', 'Municipalities', 'second', 'undertaken', 'taw', 'power', 'constitutionality', 'formed', '32', 'refers', 'alternative', 'deprived', 'carried', 'struck', 'conducting', 'Legislative', 'based', 'Society;', 'void', \"'equal\", 'dealt', 'laws', '17,897', '(E!ecs', 'achieve', 'sensitive', \"'basic\", 'Mayor', '2077', 'correct', 'Act', '20,000', 'remedy,', 'Consequential', 'According', 'election,', 'BC', '70,', 'suggest', '\"We,', '243-Q', 'II', 'common', 'rights', '243-T(6)', '1992', 'two', 'allotment', 'so,', 'arise', '226', 'Gudur', 'might', 'not', '1-6-1993,', 'though', 'percentage', '1,', 'determining', 'executive', 'administration', 'opposing', 'applications', 'petitioners', 'in', 'members', 'the', 'enumeration', 'aggrieved', 'legality', 'speak', 'found', 'varies', 'lay', 'date', 'writ', 'any,', 'this,', 'economic', 'particular', 'does', 'each', '1991,', '2', 'district', 'petition,', 'uniform', 'specified', 'total', 'delete', 'Secretary', 'ably', 'reference', 'Sri', '43%)', 'justified', 'citizen', 'State,', 'Development', 'Legislature', '12', 'courts', 'divergent', 'prove', 'Jaggaiahpet,', '67', 'Kapu', 'contest', 'P', 'depend', 'liable', 'ofBC', 'J.,', 'Women,', 'census,', 'scheme', 'recognise', 'accepted', 'affidavits', 'In', 'unjust,', 'and,', '\"creamy', 'examination', 'been', 'excluding', 'material', 'Department,', 'represent', 'reliance', 'alternatively', 'feels', 'Seventy', 'party', 'argued', 'voters', 'entertaining', 'Voters', 'Justice', 'Sai,', 'Visakhapatnam,', 'provided', 'formidable', '3-2-1995,', 'years', 'rules', 'senior', 'counters', 'Co-operative', \"'judicial\", 'figures', 'submitted', 'authorities', \"'drawal\", '3', 'under', 'falling', '2014', 'unfounded', 'some', 'file', 'Wards', 'ensuing', 'there', '10,', 'mandamus', '(the', 'political', 'finally', 'Relying', 'materia', 'When', 'Authority-cum-Commissioner', '(Chairperson', 'Department', 'table', 'Councillor', '10', \"specified'\", '(Corporation', 'nexus', 'Rama', 'validity', 'matters', 'placing', '26', 'duly', 'Inspite', 'can', 'Another', 'N', 'results', 'presented', 'Nagar', 'It', 'urban', 'fact', '20%', 'necessity', 'would', 'called,', 'on', 'seek', \"action'\", 'of', 'No,71,', '(Vizag', '(supra)', 'drawal', 'violative', 'AD', 'impugns', 'all', 'Councils', 'Tribe,', 'within', 'K', '6-2-1995', 'debate,', 'Rules,', 'per', 'done', '2000),', 'scientific', 'follows:', 'notification,', 'deal', 'comprises', 'institution', 'clauses', 'Reddy', 'deciding', 'summarised', 'arrayed', 'Fourth', 'according', 'dealing', 'petition', 'higher', 'laid', 'contains', 'Vikarabad,', '4th', 'contemplates', 'next', 'data', '19', '1980', 'unscientific', '23(1)(c)', 'constitutionally', 'law', 'communities', 'During', 'could', 'whether', 'strict', 'Gazette', 'transparent', 'Murthy', 'voter', 'invited', 'also,', 'Therefore,', '11', '2000Equivalent', 'giving', 'belonging', 'deprive', 'wards', 'guaranteed', 'fall', '37,', 'same', 'Jeevan', \"lots'\", 'B.P.', 'And', 'Constitutional', 'like', 'Council', 'circulated', 'miniscule', '23%', 'are,', 'women', '(Reservation', 'maintainable', 'accordingly', 'provisions', 'E', 'remove', '1-3-1991,', 'number', 'evolving', 'system', 'disparity', 'admission', 'prescribed', 'I', '1980,', '25-1-2000', 'brevity),', 'authentic', 'involved', '1986', 'furnish', \"Hon'blc\", 'did', 'figures,', 'then', '\"the', 'India\"', 'arguments', '18,859', 'issuance', 'Amendment)', 'documents', 'to', 'proforma', 'defects', '1991', '3-2-1995', 'that', 'regular', 'read', 'seeks', 'item', 'protection', 'theme', 'objection', 'entity,', 'contentions', \"scrutiny'\", 'newspapers', '17-1-2000,', 'project', ',', 'last', 'class', 'areas', 'arranging', 'practicing', 'Reservations', 'Rao,', '6%', '5th', 'petitioner,', 'it', 'Writ', 'Part', 'adopted', 'make', 'office', 'clause', '(27', 'challenges', 'Faknuidin', '14%,', 'special', 'gratitude', 'enhanced', \"'policy\", 'he', 'disposed', 'directions', 'insertion', 'Authority-cum-Municipal', '(b)', '2127', '(general)', 'introduce', 'Municipality,', '28-1-2000', '1,178', 'Raghunandan', 'other', 'identify', 'Similar', 'enactments', 'Notification', 'decisions', 'notice', 'grounds', 'challenging', 'concerned', 'Collector', 'allegation', 'ALD', 'meeting', 'indicating', '71,', 'method,', 'petitioners,', '(see', 'prayed', 'no', 'significant', 'expediency', 'contemplated', 'resides', 'rectified', '(2)', '57', 'prescribing', 'seats', 'but', 'affirmative', 'citizens', 'Palakole', 'town,', 'furnished', 'descending', 'again', 'parties', 'etc', '44', 'by', 'C', 'Satyanarayana', 'advocate,', 'mandatory', '(seats)', 'alone', 'ranging', 'making', 'a', 'resident', 'quasi-Government', 'five', 'regard', 'very', '23', '243-ZG', 'mainly', 'main', 'civil', 'No.3)', 'Voter', '1-1-1986', 'BCs', 'treating', 'rules,', 'ascertaining', 'well', 'earlier', 'stated', 'odd', 'classes', 'viewpoints', 'impugned', 'published,', 'accordance', 'moment', 'agree', '(41', 'conducted,', \"census',\", '28-3-2000', 'procedure/', 'All', 'homogeneous', '39', 'Salyanarayana', 'consent', 'them', '1994,', 'follows', 'Administration', 'Ramachandra', 'preambular', 'instead', '28-1-2000,', 'Corporation,', 'Anantapur', 'purpose', 'affidavit', 'requested', 'time,', 'interested', 'take', 'municipalities', 'or', 'ultra', 'purposes', 'Raghunandana', 'entertained', '17', 'population,', 'requirement', 'Hyderabad', 'doing,', 'But', 'Panchayats)', 'His', 'has', 'conduct', 'lottery', 'completed', 'V', '1955', 'against', 'Collector,', '50%,', 'ALT', 'M-3-1991', 'proportion', 'resolving', 'contended', '(woman)', 'action', 'S. R.', '2208', 'established', 'affect', '1979', 'policy', \"feature'\", 'Pleader', '42', 'adopting', 'necessary', 'representatives', 'Pradesh', 'questioned', 'seeking', 'subject', 'being', 'worked', 'Gajuwaka', \"Collector's\", \"insufficiency'\", 'Andhra', '36,122', 'Vijayawada', \"'authority\", 'relating', 'notifying', 'distinction', 'top', 'Petitioner', 'information', 'unit,', 'increased', '(supra),', 'local', 'application', 'people', '20-1-2000', 'Union', 'an', 'notified', 'Tadepalligudem', 'Now,', \"petitioner's\", 'able', 'Constitution', '49', 'Counsel,', 'time', '2043', 'publish', '65%)', 'inviting', 'assistance', '5', 'respective', '4', 'manner', 'judgments', 'were', 'assisted', '2039', 'G', 'besides', 'ignored', '(Corporations', 'Panchayats', '34,', 'took', 'adjudication', 'Amendment', 'issue', 'Panchayat', 'reserve', 'For', '243-Q,', 'appropriate', '55', 'avers', 'word', '34', 'Principles', 'Govt', 'referred', 'presence', 'They', 'Visakhapatnam', 'justifies', 'Election', 'used', 'Political', 'census', 'Sastry,', 'elected', 'Class', '24-1-2000,', 'treated', 'Woman', 'Advocate-General,', 'call', '2301', 'Act,', 'view', 'submission', 'deeper', 'contention', '(Writ', 'general', 'had', 'I)', 'same,', 'defines', 'respectively', 'Articles', 'No.4', '1-6-1994', 'discriminatory', 'various', '(6)', 'averred', 'democratic', 'Chairperson', '1987,', 'identity', 'where', 'role', 'lots', 'abeyance', '1995', 'context,', 'Government,', '5-2-2000', 'herein,', 'elections,', '\"Urban', 'bars', 'direction', 'fair', 'hence', \"Government's\", 'study', 'motive', 'phrase', 'Ltd', 'such', 'absence', 'elsewhere', 'effective', 'concerning', 'underlying', '40', 'letters', 'criteria', 'authenticity', '243-P,', 'Petition', 'available', 'out', 'mandates', 'therefore,', 'enables', 'do', 'Schedule', 'letter', 'observed', 'illegality', 'reservation', 'redeem', 'as', 'reforms', '31-12-1986', 'already', 'implementation', '665', 'Cuddapah', 'wards)', 'After', '21', 'dated', 'Stage', 'question', 'qualifying', \"layer'\", 'Tandur', '43', 'period', '243-R,', 'collected', '8', 'addressed', 'taking', 'required', 'Jaggaiahpet', 'course', 'issues', \"justice'\", 'down', 'ofSeats)', 'Rao', '(General)', 'consideration', 'from', 'context', 'specifying', 'sense', 'Court\"', '3,', 'present', 'history', 'and', 'their', 'February,', 'largest', 'received,', 'Accordingly,', 'submissions', 'Batch', '22-12-1999', 'now', 'Legislation', 'fourth', '(women)', 'ward', 'embargo', 'without', 'purpose,', 'of2000', '25', 'Kakinada', 'furtherance', 'posts', 'bodies-Nagar', 'contrary', 'most', 'observations', 'State', 'SCs', 'submilted', 'be', 'commission', 'others', 'scheme,', '29-3-1995', '(women),', 'Classes,', 'relevant,', 'units', '5%', '(c)', 'Respondent', 'reasonable', 'even', 'wards,', 'member', 'latter', 'following', 'stage', 'directed', 'affected', 'having', '(HMC', 'Respondents', 'only', 'High Courts', '1308', 'municipalities,', 'create', 'declaration', 'term', 'defective', 'scrutiny', '2126', 'another', 'v.', 'published', 'Rules', 'challenge', 'negligible,', 'Classes', 'Municipalities,', '1965', '1981', 'We', '(D)', 'Scnvant,', 'achieved', 'contesting', 'addition,', 'Commissioner,', 'taken', '(1)', '2214', 'position', 'gathered', 'raised', 'conferred', 'villages', '19,', 'Supreme Court', 'Others', 'this', 'rotation', 'S', 'rationality,', 'which', '955', \"'delimitation\", 'questions', 'arising', 'further', 'AP', '(General),', 'meaning', 'category,', '43%', 'inspection', 'Aggrieved', 'Pradesh,', '\"', 'untenable', 'parent', 'need', 'Tribes,', 'reservations,', 'noted', '36,', '5,', 'contemplating', 'exercising', 'brought', 'cannot', '25%,', 'rule', 'Ex-Councillor', 'Fakniddin', 'persons', 'considered', 'identified', 'lines', 'loltery', 'Reservation', 'will', 'request', 'validity,', 'India', '(hereafter', 'before', 'Advocate-General', 'Ms', 'omitted', 'A', 'extremely', 'self-Government', 'Law', '\"in', 'prepared', 'files', 'II)', 'justice,', 'procedure', 'promise', 'boards', 'Clause', 'applied', '14', 'basis,', 'Corporations', 'are', 'exceed', 'AIR', 'genuinely', '50%', \"constituencies'\", 'O,', 'capricious', '(respondent', 'annexed', 'direct', 'at', 'rotated', 'powers,', 'entitled', 'Indra', 'outset,', '652,', 'pressed', 'Manohar,', 'with', 'often', 'blocks', 'denied', 'thereunder', 'STs', 'Chairperson,', 'till', 'respondents', 'socio-economic', 'own', 'every', '(as', 'Section', 'Narayaiia', 'factual', 'wards/seats', '3,884', 'should', 'issued', 'inflated', 'usual', 'wrapped', 'is', '035%)', 'independent', 'ST', 'these', 'separate', 'allotting', 'tables', 'Economics', 'fixing', 'wants', 'final', 'Mayors', 'prior', '35', 'up', '38', 'institutions', 'reserved', 'Rule,', 'bodies', 'fixed', 'objections,', 'public', 'less', 'relying', 'Palikas,', 'M', 'accompanying', '655', 'fault', 'questions,', 'IX-A', 'reservation,', '243-T', 'afresh', 'illegal', 'Godavari', 'Nos', 'right', 'determined', 'Corporation)', 'socio-politico', 'Several', 'consequence,', '13,032', 'prescribes', 'This', '14-A', '(a)', 'cannot,', 'self-Govemment', 'officials', 'petitions)', 'gap', 'cases', 'citations:', 'pari', '2,', 'cards', 'category', 'if', 'constitute', 'petitions', '10-2-1995', 'photo', 'leaving', 'VMC', 'brief', 'legally', 'Commissioner', 'sale', 'viz', 'justiciable', 'Finance', 'towns', 'open', 'Muralidhar', 'Narayana', 'democracy', 'ulterior', 'benefit', '7', 'constituencies/wards', 'municipality', 'Counsel', 'attacked', 'apposite', '.', 'bound', 'T', 'Murlhy,', 'Court', 'states', 'Chairpersons,', '2000,', 'complex', 'exhaustive', 'who', 'adoption', 'larger', 'Directive', 'shall', 'Order', 'The', 'they', 'unit', 'those', \"Commission')\", \"process'\", 'Statistics', '26,', '243-O', 'One', 'sub-section', 'wrong', 'about', 'Administrative', 'when', 'dates', '1994', 'Senior', 'nine', 'Bureau', 'East', '24,028', 'Kaputungalam', 'No.5)', 'expiry', '2077,', 'hold', 'state', 'feature', 'Collectors', 'orders', '20,', 'Adverting', 'additional', '(Elec', 'go', 'emotion', 'Constitution,', 'defective,', 'however,', 'four', 'new', 'pray', 'If', 'relates', '1987', 'Further,', 'whose', 'exponents', 'March,', 'ward-wise', 'similar', '(5)', 'demographic', 'attempting', 'jurisdiction', '4%', 'challenged', 'provide', 'shows', 'Venkata', 'guidelines', 'Sawhney', '1992,', 'was', 'repeated', 'sources', 'relevant', 'refer', 'framed', 'No', 'followed,', 'publishing', 'strictly', 'different', 'increasing', 'survey', 'one-third', 'Since', 'Bench', 'Kadiri', 'population', \"'political\", 'Women', 'Gudivada', 'once', 'Institutions,', 'says', 'during', 'Murthy,', 'Offices', 'problems', '25%', 'also', 'Urban', 'recognised', '2000', 'into', 'ought', 'order,', 'Commission', 'candidate', '243-/G', 'consequential', 'declared', 'list', 'Out', 'classes,', 'interference', '7,', 'Panchayats,', 'While', 'pleadings', 'Such', 'daily', 'DCs', 'said', 'backward', 'whereas', 'survey,', '230I', 'Article', 'conformity', 'legal', 'notifications,', 'residents', '13,', 'expressed', 'increase', 'delegated', 'object', 'may', 'filing', 'look', 'Ball', 'unconstitutional', \"'authority'\", 'invite', 'averments', 'upon', 'Kadiri,', 'indicated', 'prayer', 'Even', 'sought', '9', 'attention', 'prays', '30%', 'ratio', '2),', 'determination', '19-8-1999', 'arbitrary', \"laws'\", 'Policy', 'herein', 'mean', 'mandate', \"institutions'\", 'Ward', 'Sesha', 'notification', 'made', 'one', 'Niranjan', 'counter', 'post', 'permission', 'judgment', 'report', 'issued,', 'requesting', 'Corporations,', 'delicate', '12,', '50', 'certain', '2013', 'quantum', 'issuing', 'deserve', 'grievance', 'respondent', 'Though', 'force', 'Pakruddin', 'appeared', 'long', '37', 'Fakruddin', 'followed', 'so', 'referring', 'doing', 'dicta', '(Elect', 'great', 'represented', 'M/s', 'Channala', \"'population'\", 'form', 'Scheduled', 'O', 'invalid', 'Mayors)', 'Apex', 'election', 'constitutional', 'pursuant', 'Office', '243-P', 'person', 'views', 'ones', 'support', 'method', 'voice', 'B', 'totally', \"'the\", 'disclosing', 'review', 'legislative', 'erroneous', 'empowering', 'elections', 'ENDPAD']\n"
     ]
    }
   ],
   "source": [
    "#Making a list of words\n",
    "words = list(set(data[\"Word\"].values))\n",
    "\n",
    "#Adding End Padding\n",
    "words.append(\"ENDPAD\")\n",
    "num_words = len(words)\n",
    "\n",
    "print(f\"Total number of unique words in dataset: {num_words}\")\n",
    "print (words)"
   ]
  },
  {
   "cell_type": "code",
   "execution_count": 6,
   "id": "5ea8ffb9",
   "metadata": {},
   "outputs": [
    {
     "name": "stdout",
     "output_type": "stream",
     "text": [
      "List of tags: year, B-percent, date, B-dec, B-loc, B-acq, B-per, B-act, O, B-order, B-org, o, B-court, B-obj, B-judge\n",
      "Total Number of tags 15\n"
     ]
    }
   ],
   "source": [
    "#Making list of tags\n",
    "tags = list(set(data[\"Tag\"].values))\n",
    "num_tags = len(tags)\n",
    "num_tags\n",
    "print(\"List of tags: \" + ', '.join([tag for tag in tags]))\n",
    "print(f\"Total Number of tags {num_tags}\")"
   ]
  },
  {
   "cell_type": "code",
   "execution_count": 7,
   "id": "0f2399f2",
   "metadata": {},
   "outputs": [],
   "source": [
    "#Grouping Words and tags \n",
    "\n",
    "class Get_sentence(object):\n",
    "    def __init__(self,data):\n",
    "        self.n_sent = 1\n",
    "        self.data = data\n",
    "        agg_func = lambda s:[(w, t) for w, t in zip(s[\"Word\"].values.tolist(),\n",
    "                                                    s[\"Tag\"].values.tolist())]\n",
    "        self.grouped = self.data.groupby(\"Sentence #\").apply(agg_func)\n",
    "        self.sentences = [s for s in self.grouped]"
   ]
  },
  {
   "cell_type": "code",
   "execution_count": 8,
   "id": "4cbc20df",
   "metadata": {},
   "outputs": [
    {
     "data": {
      "text/plain": [
       "[('As', 'O'),\n",
       " ('the', 'O'),\n",
       " ('Office', 'O'),\n",
       " ('of', 'O'),\n",
       " ('Chairperson', 'O'),\n",
       " ('of', 'O'),\n",
       " ('Tadepalligudem', 'B-loc'),\n",
       " ('was', 'O'),\n",
       " ('reserved', 'O'),\n",
       " ('for', 'O'),\n",
       " ('Woman', 'O'),\n",
       " ('(General)', 'O'),\n",
       " ('1995', 'O'),\n",
       " ('elections,', 'O'),\n",
       " ('this', 'O'),\n",
       " ('time', 'O'),\n",
       " ('same', 'O'),\n",
       " ('was', 'O'),\n",
       " ('reserved', 'O'),\n",
       " ('for', 'O'),\n",
       " ('BCs', 'O')]"
      ]
     },
     "execution_count": 8,
     "metadata": {},
     "output_type": "execute_result"
    }
   ],
   "source": [
    "getter = Get_sentence(data)\n",
    "sentence = getter.sentences\n",
    "sentence[10]"
   ]
  },
  {
   "cell_type": "code",
   "execution_count": 9,
   "id": "b9b663b4",
   "metadata": {},
   "outputs": [
    {
     "data": {
      "image/png": "[encoded data removed]",
      "text/plain": [
       "<Figure size 1008x504 with 1 Axes>"
      ]
     },
     "metadata": {},
     "output_type": "display_data"
    }
   ],
   "source": [
    "#Mapping length of sentences\n",
    "plt.figure(figsize=(14,7))\n",
    "plt.hist([len(s) for s in sentence],bins = 50)\n",
    "plt.xlabel(\"Length of Sentences\")\n",
    "plt.show()"
   ]
  },
  {
   "cell_type": "code",
   "execution_count": 10,
   "id": "0c1b30a7",
   "metadata": {},
   "outputs": [
    {
     "data": {
      "image/png": "[encoded data removed]",
      "text/plain": [
       "<Figure size 1008x504 with 1 Axes>"
      ]
     },
     "metadata": {},
     "output_type": "display_data"
    }
   ],
   "source": [
    "#Mapping no. of tags in the whole corpus\n",
    "plt.figure(figsize=(14, 7))\n",
    "data.Tag[data.Tag != 'O']\\\n",
    "    .value_counts()\\\n",
    "    .plot\\\n",
    "    .barh();"
   ]
  },
  {
   "cell_type": "code",
   "execution_count": 11,
   "id": "73f683d0",
   "metadata": {},
   "outputs": [],
   "source": [
    "# Indexing words and tags\n",
    "word_idx = {w : i + 1 for i ,w in enumerate(words)}\n",
    "tag_idx =  {t : i for i ,t in enumerate(tags)}\n",
    "\n",
    "#print (word_idx)\n",
    "#print (tag_idx)"
   ]
  },
  {
   "cell_type": "code",
   "execution_count": 12,
   "id": "1905b75d",
   "metadata": {},
   "outputs": [
    {
     "data": {
      "text/plain": [
       "{'year': 0,\n",
       " 'B-percent': 1,\n",
       " 'date': 2,\n",
       " 'B-dec': 3,\n",
       " 'B-loc': 4,\n",
       " 'B-acq': 5,\n",
       " 'B-per': 6,\n",
       " 'B-act': 7,\n",
       " 'O': 8,\n",
       " 'B-order': 9,\n",
       " 'B-org': 10,\n",
       " 'o': 11,\n",
       " 'B-court': 12,\n",
       " 'B-obj': 13,\n",
       " 'B-judge': 14}"
      ]
     },
     "execution_count": 12,
     "metadata": {},
     "output_type": "execute_result"
    }
   ],
   "source": [
    "tag_idx"
   ]
  },
  {
   "cell_type": "code",
   "execution_count": 13,
   "id": "0913a007",
   "metadata": {},
   "outputs": [
    {
     "name": "stdout",
     "output_type": "stream",
     "text": [
      "[[ 972  571  331 ... 1519 1519 1519]\n",
      " [ 735  222 1386 ...  987  460  844]\n",
      " [ 799   80 1276 ... 1519 1519 1519]\n",
      " ...\n",
      " [1292  106 1385 ... 1519 1519 1519]\n",
      " [1292 1458 1281 ... 1519 1519 1519]\n",
      " [   9  873  333 ... 1519 1519 1519]]\n"
     ]
    }
   ],
   "source": [
    "#Padding the sequences\n",
    "#Changing the list of words into 2D numpy arrays.\n",
    "max_len = 50\n",
    "X = [[word_idx[w[0]] for w in s] for s in sentence]\n",
    "X = pad_sequences(maxlen = max_len, sequences = X, padding = 'post', value = num_words - 1)\n",
    "\n",
    "y = [[tag_idx[w[1]] for w in s] for s in sentence]\n",
    "y = pad_sequences(maxlen = max_len, sequences = y, padding = 'post', value = tag_idx['O'])\n",
    "y = [to_categorical(i, num_classes = num_tags) for i in  y]\n",
    "\n",
    "print(X)"
   ]
  },
  {
   "cell_type": "code",
   "execution_count": 14,
   "id": "acd30e36",
   "metadata": {},
   "outputs": [],
   "source": [
    "#Spling training and testing data\n",
    "x_train,x_test,y_train,y_test = train_test_split(X, y,test_size = 0.1, random_state = 1)\n"
   ]
  },
  {
   "cell_type": "code",
   "execution_count": 15,
   "id": "c5cb2e77",
   "metadata": {},
   "outputs": [
    {
     "name": "stdout",
     "output_type": "stream",
     "text": [
      "Model: \"model\"\n",
      "_________________________________________________________________\n",
      " Layer (type)                Output Shape              Param #   \n",
      "=================================================================\n",
      " input_1 (InputLayer)        [(None, 50)]              0         \n",
      "                                                                 \n",
      " embedding (Embedding)       (None, 50, 50)            76000     \n",
      "                                                                 \n",
      " spatial_dropout1d (SpatialD  (None, 50, 50)           0         \n",
      " ropout1D)                                                       \n",
      "                                                                 \n",
      " bidirectional (Bidirectiona  (None, 50, 200)          120800    \n",
      " l)                                                              \n",
      "                                                                 \n",
      " time_distributed (TimeDistr  (None, 50, 15)           3015      \n",
      " ibuted)                                                         \n",
      "                                                                 \n",
      "=================================================================\n",
      "Total params: 199,815\n",
      "Trainable params: 199,815\n",
      "Non-trainable params: 0\n",
      "_________________________________________________________________\n"
     ]
    }
   ],
   "source": [
    "#Creating the model\n",
    "#Instantiating a Keras tensor.\n",
    "input_word = Input(shape = (max_len,))\n",
    "model = Embedding(input_dim = num_words, output_dim = max_len, input_length = max_len)(input_word)\n",
    "model = SpatialDropout1D(0.1)(model)\n",
    "model = Bidirectional(LSTM(units = 100,return_sequences = True, recurrent_dropout = 0.1))(model)\n",
    "out = TimeDistributed(Dense(num_tags,activation = 'softmax'))(model)\n",
    "model = Model(input_word,out)\n",
    "\n",
    "model.compile(optimizer = 'adam',loss = 'categorical_crossentropy',metrics = ['accuracy'])\n",
    "model.summary()"
   ]
  },
  {
   "cell_type": "code",
   "execution_count": 16,
   "id": "7b1d995b",
   "metadata": {},
   "outputs": [],
   "source": [
    "#plot_model(model, show_shapes = True)\n"
   ]
  },
  {
   "cell_type": "code",
   "execution_count": 17,
   "id": "b44bc3a5",
   "metadata": {},
   "outputs": [
    {
     "name": "stdout",
     "output_type": "stream",
     "text": [
      "Epoch 1/50\n",
      "13/13 - 8s - loss: 1.9631 - accuracy: 0.8919 - val_loss: 0.3271 - val_accuracy: 0.9536 - 8s/epoch - 626ms/step\n",
      "Epoch 2/50\n",
      "13/13 - 1s - loss: 0.2778 - accuracy: 0.9678 - val_loss: 0.4017 - val_accuracy: 0.9536 - 1s/epoch - 79ms/step\n",
      "Epoch 3/50\n",
      "13/13 - 1s - loss: 0.2571 - accuracy: 0.9678 - val_loss: 0.3057 - val_accuracy: 0.9536 - 951ms/epoch - 73ms/step\n",
      "Epoch 4/50\n",
      "13/13 - 1s - loss: 0.2244 - accuracy: 0.9678 - val_loss: 0.2908 - val_accuracy: 0.9536 - 963ms/epoch - 74ms/step\n",
      "Epoch 5/50\n",
      "13/13 - 1s - loss: 0.2128 - accuracy: 0.9678 - val_loss: 0.2819 - val_accuracy: 0.9536 - 884ms/epoch - 68ms/step\n",
      "Epoch 6/50\n",
      "13/13 - 1s - loss: 0.2016 - accuracy: 0.9678 - val_loss: 0.2629 - val_accuracy: 0.9536 - 1s/epoch - 82ms/step\n",
      "Epoch 7/50\n",
      "13/13 - 1s - loss: 0.1870 - accuracy: 0.9678 - val_loss: 0.2528 - val_accuracy: 0.9536 - 802ms/epoch - 62ms/step\n",
      "Epoch 8/50\n",
      "13/13 - 1s - loss: 0.1777 - accuracy: 0.9678 - val_loss: 0.2532 - val_accuracy: 0.9536 - 835ms/epoch - 64ms/step\n",
      "Epoch 9/50\n",
      "13/13 - 1s - loss: 0.1724 - accuracy: 0.9678 - val_loss: 0.2435 - val_accuracy: 0.9536 - 810ms/epoch - 62ms/step\n",
      "Epoch 10/50\n",
      "13/13 - 1s - loss: 0.1663 - accuracy: 0.9678 - val_loss: 0.2492 - val_accuracy: 0.9536 - 894ms/epoch - 69ms/step\n",
      "Epoch 11/50\n",
      "13/13 - 1s - loss: 0.1613 - accuracy: 0.9678 - val_loss: 0.2370 - val_accuracy: 0.9536 - 1s/epoch - 78ms/step\n",
      "Epoch 12/50\n",
      "13/13 - 1s - loss: 0.1536 - accuracy: 0.9678 - val_loss: 0.2312 - val_accuracy: 0.9525 - 756ms/epoch - 58ms/step\n",
      "Epoch 13/50\n",
      "13/13 - 1s - loss: 0.1473 - accuracy: 0.9678 - val_loss: 0.2264 - val_accuracy: 0.9525 - 865ms/epoch - 67ms/step\n",
      "Epoch 14/50\n",
      "13/13 - 1s - loss: 0.1361 - accuracy: 0.9676 - val_loss: 0.2185 - val_accuracy: 0.9509 - 857ms/epoch - 66ms/step\n",
      "Epoch 15/50\n",
      "13/13 - 1s - loss: 0.1258 - accuracy: 0.9678 - val_loss: 0.2048 - val_accuracy: 0.9509 - 1s/epoch - 78ms/step\n",
      "Epoch 16/50\n",
      "13/13 - 1s - loss: 0.1145 - accuracy: 0.9687 - val_loss: 0.1943 - val_accuracy: 0.9525 - 1s/epoch - 77ms/step\n",
      "Epoch 17/50\n",
      "13/13 - 1s - loss: 0.1035 - accuracy: 0.9712 - val_loss: 0.1863 - val_accuracy: 0.9551 - 965ms/epoch - 74ms/step\n",
      "Epoch 18/50\n",
      "13/13 - 1s - loss: 0.0938 - accuracy: 0.9735 - val_loss: 0.1763 - val_accuracy: 0.9581 - 875ms/epoch - 67ms/step\n",
      "Epoch 19/50\n",
      "13/13 - 1s - loss: 0.0860 - accuracy: 0.9751 - val_loss: 0.1711 - val_accuracy: 0.9581 - 876ms/epoch - 67ms/step\n",
      "Epoch 20/50\n",
      "13/13 - 1s - loss: 0.0788 - accuracy: 0.9766 - val_loss: 0.1773 - val_accuracy: 0.9555 - 859ms/epoch - 66ms/step\n",
      "Epoch 21/50\n",
      "13/13 - 1s - loss: 0.0734 - accuracy: 0.9776 - val_loss: 0.1730 - val_accuracy: 0.9562 - 879ms/epoch - 68ms/step\n",
      "Epoch 22/50\n",
      "13/13 - 1s - loss: 0.0684 - accuracy: 0.9793 - val_loss: 0.1945 - val_accuracy: 0.9506 - 819ms/epoch - 63ms/step\n",
      "Epoch 23/50\n",
      "13/13 - 1s - loss: 0.0645 - accuracy: 0.9798 - val_loss: 0.1971 - val_accuracy: 0.9494 - 954ms/epoch - 73ms/step\n",
      "Epoch 24/50\n",
      "13/13 - 1s - loss: 0.0608 - accuracy: 0.9808 - val_loss: 0.1681 - val_accuracy: 0.9566 - 853ms/epoch - 66ms/step\n",
      "Epoch 25/50\n",
      "13/13 - 1s - loss: 0.0580 - accuracy: 0.9822 - val_loss: 0.1609 - val_accuracy: 0.9585 - 897ms/epoch - 69ms/step\n",
      "Epoch 26/50\n",
      "13/13 - 1s - loss: 0.0555 - accuracy: 0.9829 - val_loss: 0.1589 - val_accuracy: 0.9592 - 816ms/epoch - 63ms/step\n",
      "Epoch 27/50\n",
      "13/13 - 1s - loss: 0.0523 - accuracy: 0.9840 - val_loss: 0.1858 - val_accuracy: 0.9543 - 964ms/epoch - 74ms/step\n",
      "Epoch 28/50\n",
      "13/13 - 1s - loss: 0.0495 - accuracy: 0.9852 - val_loss: 0.1894 - val_accuracy: 0.9513 - 847ms/epoch - 65ms/step\n",
      "Epoch 29/50\n",
      "13/13 - 1s - loss: 0.0472 - accuracy: 0.9855 - val_loss: 0.1916 - val_accuracy: 0.9513 - 884ms/epoch - 68ms/step\n",
      "Epoch 30/50\n",
      "13/13 - 1s - loss: 0.0446 - accuracy: 0.9862 - val_loss: 0.1897 - val_accuracy: 0.9513 - 754ms/epoch - 58ms/step\n",
      "Epoch 31/50\n",
      "13/13 - 1s - loss: 0.0426 - accuracy: 0.9871 - val_loss: 0.1952 - val_accuracy: 0.9525 - 766ms/epoch - 59ms/step\n",
      "Epoch 32/50\n",
      "13/13 - 1s - loss: 0.0404 - accuracy: 0.9894 - val_loss: 0.1876 - val_accuracy: 0.9543 - 763ms/epoch - 59ms/step\n",
      "Epoch 33/50\n",
      "13/13 - 1s - loss: 0.0387 - accuracy: 0.9900 - val_loss: 0.1877 - val_accuracy: 0.9543 - 733ms/epoch - 56ms/step\n",
      "Epoch 34/50\n",
      "13/13 - 1s - loss: 0.0363 - accuracy: 0.9903 - val_loss: 0.1835 - val_accuracy: 0.9577 - 757ms/epoch - 58ms/step\n",
      "Epoch 35/50\n",
      "13/13 - 1s - loss: 0.0350 - accuracy: 0.9912 - val_loss: 0.1872 - val_accuracy: 0.9566 - 771ms/epoch - 59ms/step\n",
      "Epoch 36/50\n",
      "13/13 - 1s - loss: 0.0328 - accuracy: 0.9921 - val_loss: 0.1834 - val_accuracy: 0.9577 - 1s/epoch - 77ms/step\n",
      "Epoch 37/50\n",
      "13/13 - 1s - loss: 0.0305 - accuracy: 0.9931 - val_loss: 0.1808 - val_accuracy: 0.9615 - 953ms/epoch - 73ms/step\n",
      "Epoch 38/50\n",
      "13/13 - 1s - loss: 0.0288 - accuracy: 0.9936 - val_loss: 0.1821 - val_accuracy: 0.9592 - 747ms/epoch - 57ms/step\n",
      "Epoch 39/50\n",
      "13/13 - 1s - loss: 0.0274 - accuracy: 0.9938 - val_loss: 0.1855 - val_accuracy: 0.9585 - 917ms/epoch - 71ms/step\n",
      "Epoch 40/50\n",
      "13/13 - 1s - loss: 0.0274 - accuracy: 0.9932 - val_loss: 0.1800 - val_accuracy: 0.9589 - 957ms/epoch - 74ms/step\n",
      "Epoch 41/50\n",
      "13/13 - 1s - loss: 0.0251 - accuracy: 0.9946 - val_loss: 0.1807 - val_accuracy: 0.9589 - 912ms/epoch - 70ms/step\n",
      "Epoch 42/50\n",
      "13/13 - 1s - loss: 0.0239 - accuracy: 0.9945 - val_loss: 0.1755 - val_accuracy: 0.9615 - 832ms/epoch - 64ms/step\n",
      "Epoch 43/50\n",
      "13/13 - 1s - loss: 0.0228 - accuracy: 0.9951 - val_loss: 0.1746 - val_accuracy: 0.9626 - 918ms/epoch - 71ms/step\n",
      "Epoch 44/50\n",
      "13/13 - 1s - loss: 0.0219 - accuracy: 0.9949 - val_loss: 0.1501 - val_accuracy: 0.9709 - 787ms/epoch - 61ms/step\n",
      "Epoch 45/50\n",
      "13/13 - 1s - loss: 0.0200 - accuracy: 0.9956 - val_loss: 0.1490 - val_accuracy: 0.9728 - 764ms/epoch - 59ms/step\n",
      "Epoch 46/50\n",
      "13/13 - 1s - loss: 0.0189 - accuracy: 0.9960 - val_loss: 0.1493 - val_accuracy: 0.9732 - 743ms/epoch - 57ms/step\n",
      "Epoch 47/50\n",
      "13/13 - 1s - loss: 0.0180 - accuracy: 0.9962 - val_loss: 0.1483 - val_accuracy: 0.9740 - 878ms/epoch - 68ms/step\n",
      "Epoch 48/50\n",
      "13/13 - 1s - loss: 0.0183 - accuracy: 0.9957 - val_loss: 0.1525 - val_accuracy: 0.9740 - 1s/epoch - 80ms/step\n",
      "Epoch 49/50\n",
      "13/13 - 1s - loss: 0.0175 - accuracy: 0.9962 - val_loss: 0.1519 - val_accuracy: 0.9747 - 977ms/epoch - 75ms/step\n",
      "Epoch 50/50\n",
      "13/13 - 1s - loss: 0.0160 - accuracy: 0.9964 - val_loss: 0.1451 - val_accuracy: 0.9740 - 925ms/epoch - 71ms/step\n"
     ]
    },
    {
     "data": {
      "text/plain": [
       "<keras.callbacks.History at 0x268a16a2d90>"
      ]
     },
     "execution_count": 17,
     "metadata": {},
     "output_type": "execute_result"
    }
   ],
   "source": [
    "#Training the model \n",
    "model.fit(x_train, np.array(y_train), batch_size = 16, verbose = 2, epochs = 50, validation_split = 0.2)"
   ]
  },
  {
   "cell_type": "code",
   "execution_count": 22,
   "id": "2380e16b",
   "metadata": {},
   "outputs": [
    {
     "name": "stdout",
     "output_type": "stream",
     "text": [
      "1/1 [==============================] - 0s 48ms/step - loss: 0.1701 - accuracy: 0.9731\n"
     ]
    },
    {
     "data": {
      "text/plain": [
       "[0.17006784677505493, 0.9731034636497498]"
      ]
     },
     "execution_count": 22,
     "metadata": {},
     "output_type": "execute_result"
    }
   ],
   "source": [
    "#Evaluating the model\n",
    "model.evaluate(x_test, np.array(y_test))\n"
   ]
  },
  {
   "cell_type": "code",
   "execution_count": 29,
   "id": "c32fb122",
   "metadata": {},
   "outputs": [
    {
     "name": "stdout",
     "output_type": "stream",
     "text": [
      "Word                True                \tPred\n",
      "\n",
      "-------------------------------------------------------\n",
      "The                 O                   \tO\n",
      "method              O                   \tO\n",
      "taking              O                   \tO\n",
      "lottery             O                   \tO\n",
      "also                O                   \tO\n",
      "contrary            O                   \tO\n",
      "ratio               O                   \tO\n",
      "Full                O                   \tO\n",
      "Bench               O                   \tO\n",
      "of                  O                   \tO\n",
      "Court               B-court             \tB-court\n",
      "Fakruddin           B-per               \tB-per\n",
      "case                O                   \tO\n",
      "(supra)             O                   \tO\n",
      ".                   O                   \tO\n",
      "elections           O                   \tO\n",
      "elections           O                   \tO\n",
      "elections           O                   \tO\n",
      "elections           O                   \tO\n",
      "elections           O                   \tO\n",
      "elections           O                   \tO\n",
      "elections           O                   \tO\n",
      "elections           O                   \tO\n",
      "elections           O                   \tO\n",
      "elections           O                   \tO\n",
      "elections           O                   \tO\n",
      "elections           O                   \tO\n",
      "elections           O                   \tO\n",
      "elections           O                   \tO\n",
      "elections           O                   \tO\n",
      "elections           O                   \tO\n",
      "elections           O                   \tO\n",
      "elections           O                   \tO\n",
      "elections           O                   \tO\n",
      "elections           O                   \tO\n",
      "elections           O                   \tO\n",
      "elections           O                   \tO\n",
      "elections           O                   \tO\n",
      "elections           O                   \tO\n",
      "elections           O                   \tO\n",
      "elections           O                   \tO\n",
      "elections           O                   \tO\n",
      "elections           O                   \tO\n",
      "elections           O                   \tO\n",
      "elections           O                   \tO\n",
      "elections           O                   \tO\n",
      "elections           O                   \tO\n",
      "elections           O                   \tO\n",
      "elections           O                   \tO\n",
      "elections           O                   \tO\n"
     ]
    }
   ],
   "source": [
    "#Testing the model \n",
    "\n",
    "rand_sent = np.random.randint(0, x_test.shape[0]) # get a random sentense\n",
    "p = model.predict(np.array([x_test[rand_sent]]))\n",
    "p = np.argmax(p, axis = -1)\n",
    "\n",
    "y_true = np.argmax(np.array(y_test), axis = -1)[rand_sent] # get actual tags for random sentense\n",
    "\n",
    "print(\"{:20}{:20}\\t{}\\n\".format(\"Word\", \"True\", \"Pred\"))\n",
    "print(\"-\" * 55)\n",
    "\n",
    "for (w, t, pred) in zip(x_test[rand_sent], y_true, p[0]):\n",
    "    print(\"{:20}{:20}\\t{}\".format(words[w - 1], tags[t], tags[pred]))"
   ]
  },
  {
   "cell_type": "markdown",
   "id": "b88e461d",
   "metadata": {},
   "source": [
    "# #Future Scope"
   ]
  },
  {
   "cell_type": "code",
   "execution_count": 20,
   "id": "a0a44edb",
   "metadata": {},
   "outputs": [],
   "source": [
    "def create_test_input_from_text(text):\n",
    "    word_list = text.split(\" \")\n",
    "    x_new = []\n",
    "    for word in word_list:\n",
    "        x_new.append(word_idx[word])\n",
    "        \n",
    "    p = model.predict(np.array([x_new]))\n",
    "    p = np.argmax(p, axis = -1)\n",
    "    print(\"{:20}\\t{}\\n\".format(\"Word\", \"Prediction\"))\n",
    "    print(\"-\" * 35)\n",
    "\n",
    "    for (w, pred) in zip(range(len(x_new)), p[0]):\n",
    "        print(\"{:20}\\t{}\".format(word_list[w], tags[pred]))"
   ]
  },
  {
   "cell_type": "code",
   "execution_count": 21,
   "id": "4c9beba1",
   "metadata": {},
   "outputs": [
    {
     "ename": "KeyError",
     "evalue": "'Association.'",
     "output_type": "error",
     "traceback": [
      "\u001b[1;31m---------------------------------------------------------------------------\u001b[0m",
      "\u001b[1;31mKeyError\u001b[0m                                  Traceback (most recent call last)",
      "\u001b[1;32m<ipython-input-21-7e215980cfce>\u001b[0m in \u001b[0;36m<module>\u001b[1;34m\u001b[0m\n\u001b[0;32m      1\u001b[0m \u001b[0mtest_inputs\u001b[0m \u001b[1;33m=\u001b[0m \u001b[1;34m\"The petitioner is a Association. It is registered and established under the Societies Registration Act, 1860 with the object of safeguarding the rights of the persons belonging to Scheduled Tribes and espouse their cause in regard to their employment. Complaining fraud and misrepresentation the association filed this writ petition praying for a writ of or in the nature of Mandamus, holding that the appointment of the first respondent herein to the post of District and Sessions Judge, is void, unconstitutional, and also for a prayer to set aside the same. \"\u001b[0m\u001b[1;33m\u001b[0m\u001b[1;33m\u001b[0m\u001b[0m\n\u001b[1;32m----> 2\u001b[1;33m \u001b[0mcreate_test_input_from_text\u001b[0m\u001b[1;33m(\u001b[0m\u001b[0mtest_inputs\u001b[0m\u001b[1;33m)\u001b[0m\u001b[1;33m\u001b[0m\u001b[1;33m\u001b[0m\u001b[0m\n\u001b[0m",
      "\u001b[1;32m<ipython-input-20-27738e66ba19>\u001b[0m in \u001b[0;36mcreate_test_input_from_text\u001b[1;34m(text)\u001b[0m\n\u001b[0;32m      3\u001b[0m     \u001b[0mx_new\u001b[0m \u001b[1;33m=\u001b[0m \u001b[1;33m[\u001b[0m\u001b[1;33m]\u001b[0m\u001b[1;33m\u001b[0m\u001b[1;33m\u001b[0m\u001b[0m\n\u001b[0;32m      4\u001b[0m     \u001b[1;32mfor\u001b[0m \u001b[0mword\u001b[0m \u001b[1;32min\u001b[0m \u001b[0mword_list\u001b[0m\u001b[1;33m:\u001b[0m\u001b[1;33m\u001b[0m\u001b[1;33m\u001b[0m\u001b[0m\n\u001b[1;32m----> 5\u001b[1;33m         \u001b[0mx_new\u001b[0m\u001b[1;33m.\u001b[0m\u001b[0mappend\u001b[0m\u001b[1;33m(\u001b[0m\u001b[0mword_idx\u001b[0m\u001b[1;33m[\u001b[0m\u001b[0mword\u001b[0m\u001b[1;33m]\u001b[0m\u001b[1;33m)\u001b[0m\u001b[1;33m\u001b[0m\u001b[1;33m\u001b[0m\u001b[0m\n\u001b[0m\u001b[0;32m      6\u001b[0m \u001b[1;33m\u001b[0m\u001b[0m\n\u001b[0;32m      7\u001b[0m     \u001b[0mp\u001b[0m \u001b[1;33m=\u001b[0m \u001b[0mmodel\u001b[0m\u001b[1;33m.\u001b[0m\u001b[0mpredict\u001b[0m\u001b[1;33m(\u001b[0m\u001b[0mnp\u001b[0m\u001b[1;33m.\u001b[0m\u001b[0marray\u001b[0m\u001b[1;33m(\u001b[0m\u001b[1;33m[\u001b[0m\u001b[0mx_new\u001b[0m\u001b[1;33m]\u001b[0m\u001b[1;33m)\u001b[0m\u001b[1;33m)\u001b[0m\u001b[1;33m\u001b[0m\u001b[1;33m\u001b[0m\u001b[0m\n",
      "\u001b[1;31mKeyError\u001b[0m: 'Association.'"
     ]
    }
   ],
   "source": [
    "test_inputs = \"The petitioner is a Association. It is registered and established under the Societies Registration Act, 1860 with the object of safeguarding the rights of the persons belonging to Scheduled Tribes and espouse their cause in regard to their employment. Complaining fraud and misrepresentation the association filed this writ petition praying for a writ of or in the nature of Mandamus, holding that the appointment of the first respondent herein to the post of District and Sessions Judge, is void, unconstitutional, and also for a prayer to set aside the same. \"\n",
    "create_test_input_from_text(test_inputs)"
   ]
  },
  {
   "cell_type": "code",
   "execution_count": null,
   "id": "36229021",
   "metadata": {},
   "outputs": [],
   "source": []
  }
 ],
 "metadata": {
  "kernelspec": {
   "display_name": "Python 3",
   "language": "python",
   "name": "python3"
  },
  "language_info": {
   "codemirror_mode": {
    "name": "ipython",
    "version": 3
   },
   "file_extension": ".py",
   "mimetype": "text/x-python",
   "name": "python",
   "nbconvert_exporter": "python",
   "pygments_lexer": "ipython3",
   "version": "3.8.8"
  }
 },
 "nbformat": 4,
 "nbformat_minor": 5
}
